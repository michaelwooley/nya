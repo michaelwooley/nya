{
 "cells": [
  {
   "cell_type": "markdown",
   "id": "b04f0eca-c3da-488d-ba35-d16d113f6e74",
   "metadata": {},
   "source": [
    "# Github: initial fetch"
   ]
  },
  {
   "cell_type": "code",
   "execution_count": 2,
   "id": "a1c4c09c-d0aa-4db3-9814-60a21008555a",
   "metadata": {
    "execution": {
     "iopub.execute_input": "2023-01-06T04:04:19.802084Z",
     "iopub.status.busy": "2023-01-06T04:04:19.801664Z",
     "iopub.status.idle": "2023-01-06T04:04:19.818248Z",
     "shell.execute_reply": "2023-01-06T04:04:19.817697Z",
     "shell.execute_reply.started": "2023-01-06T04:04:19.802068Z"
    },
    "tags": []
   },
   "outputs": [],
   "source": [
    "import os\n",
    "import json\n",
    "import shutil\n",
    "from pathlib import Path\n",
    "\n",
    "import requests\n",
    "import requests_cache\n",
    "\n",
    "from nya.config import settings"
   ]
  },
  {
   "cell_type": "code",
   "execution_count": 3,
   "id": "ae8716d8-9f54-4696-b9fa-91082f4f15df",
   "metadata": {
    "execution": {
     "iopub.execute_input": "2023-01-06T04:04:25.470122Z",
     "iopub.status.busy": "2023-01-06T04:04:25.469696Z",
     "iopub.status.idle": "2023-01-06T04:04:25.476851Z",
     "shell.execute_reply": "2023-01-06T04:04:25.476509Z",
     "shell.execute_reply.started": "2023-01-06T04:04:25.470084Z"
    }
   },
   "outputs": [
    {
     "data": {
      "text/plain": [
       "{'root_dir': PosixPath('/home/michael/Documents/no-ur-awesome/py'),\n",
       " 'github_token': SecretStr('**********'),\n",
       " 'github_cache_path': PosixPath('/home/michael/Documents/no-ur-awesome/py/data/raw/github_cache.db'),\n",
       " 'github_cache_expires': 604800.0}"
      ]
     },
     "execution_count": 3,
     "metadata": {},
     "output_type": "execute_result"
    }
   ],
   "source": [
    "settings.dict()"
   ]
  },
  {
   "cell_type": "code",
   "execution_count": null,
   "id": "36474bd3-4115-4a74-9f1a-97c314f8cb17",
   "metadata": {},
   "outputs": [],
   "source": []
  }
 ],
 "metadata": {
  "kernelspec": {
   "display_name": "Python 3 (ipykernel)",
   "language": "python",
   "name": "python3"
  },
  "language_info": {
   "codemirror_mode": {
    "name": "ipython",
    "version": 3
   },
   "file_extension": ".py",
   "mimetype": "text/x-python",
   "name": "python",
   "nbconvert_exporter": "python",
   "pygments_lexer": "ipython3",
   "version": "3.11.0b3"
  }
 },
 "nbformat": 4,
 "nbformat_minor": 5
}
