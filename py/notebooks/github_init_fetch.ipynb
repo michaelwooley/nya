{
 "cells": [
  {
   "cell_type": "markdown",
   "id": "b04f0eca-c3da-488d-ba35-d16d113f6e74",
   "metadata": {},
   "source": [
    "# Github: initial fetch"
   ]
  },
  {
   "cell_type": "code",
   "execution_count": 1,
   "id": "a1c4c09c-d0aa-4db3-9814-60a21008555a",
   "metadata": {
    "execution": {
     "iopub.execute_input": "2023-01-10T11:09:38.049167Z",
     "iopub.status.busy": "2023-01-10T11:09:38.048927Z",
     "iopub.status.idle": "2023-01-10T11:09:38.190937Z",
     "shell.execute_reply": "2023-01-10T11:09:38.190179Z",
     "shell.execute_reply.started": "2023-01-10T11:09:38.049134Z"
    },
    "tags": []
   },
   "outputs": [],
   "source": [
    "import os\n",
    "import json\n",
    "import shutil\n",
    "import re\n",
    "from pathlib import Path\n",
    "import datetime\n",
    "from typing import Optional\n",
    "from urllib.parse import urlparse\n",
    "\n",
    "import requests\n",
    "import requests_cache\n",
    "import tqdm\n",
    "from pydantic import BaseModel,SecretStr\n",
    "\n",
    "from nya.config import settings\n",
    "from nya.github.client import GithubSession,GithubRateLimit"
   ]
  },
  {
   "cell_type": "code",
   "execution_count": 2,
   "id": "5f2cebe8-6340-4fa6-b133-07b3511f427d",
   "metadata": {
    "execution": {
     "iopub.execute_input": "2023-01-10T11:09:38.192524Z",
     "iopub.status.busy": "2023-01-10T11:09:38.192310Z",
     "iopub.status.idle": "2023-01-10T11:09:38.196000Z",
     "shell.execute_reply": "2023-01-10T11:09:38.195030Z",
     "shell.execute_reply.started": "2023-01-10T11:09:38.192505Z"
    },
    "tags": []
   },
   "outputs": [],
   "source": [
    "AWESOME_README_PATH = settings.root_dir.joinpath(\"data\",\"raw\",\"scratch\",\"awesome_readme.md\")\n",
    "AWESOME_README_HREFS_PATH = settings.root_dir.joinpath(\"data\",\"int\",\"awesome_readme_hrefs.json\")"
   ]
  },
  {
   "cell_type": "code",
   "execution_count": 3,
   "id": "b2635446-94ac-4141-95eb-2f78e9d0388e",
   "metadata": {
    "execution": {
     "iopub.execute_input": "2023-01-10T11:09:38.196981Z",
     "iopub.status.busy": "2023-01-10T11:09:38.196520Z",
     "iopub.status.idle": "2023-01-10T11:09:43.696421Z",
     "shell.execute_reply": "2023-01-10T11:09:43.695352Z",
     "shell.execute_reply.started": "2023-01-10T11:09:38.196967Z"
    },
    "tags": []
   },
   "outputs": [],
   "source": [
    "sess = GithubSession(token=settings.github_token.get_secret_value(), cache_path=settings.github_cache_path)"
   ]
  },
  {
   "cell_type": "markdown",
   "id": "4fdf131d-2a8d-4944-925e-8929e91e38dd",
   "metadata": {},
   "source": [
    "# Fetch names of awesome repos"
   ]
  },
  {
   "cell_type": "code",
   "execution_count": 4,
   "id": "dddd8149-8844-4d8c-96f1-7248de6d7b0c",
   "metadata": {
    "execution": {
     "iopub.execute_input": "2023-01-10T11:09:43.699369Z",
     "iopub.status.busy": "2023-01-10T11:09:43.699247Z",
     "iopub.status.idle": "2023-01-10T11:09:43.712653Z",
     "shell.execute_reply": "2023-01-10T11:09:43.712092Z",
     "shell.execute_reply.started": "2023-01-10T11:09:43.699357Z"
    },
    "tags": []
   },
   "outputs": [
    {
     "name": "stdout",
     "output_type": "stream",
     "text": [
      "Found 627 github repos\n",
      "Saving to: /home/michael/Documents/nya/py/data/int/awesome_readme_hrefs.json\n",
      "\n"
     ]
    }
   ],
   "source": [
    "patt = re.compile(r\"- \\[(.+)\\]\\((https://github.com.+)\\)(?: - (.+))?\")\n",
    "md = AWESOME_README_PATH.read_text()\n",
    "\n",
    "hrefs = [\n",
    "    {\n",
    "        \"title\": el.group(1),\n",
    "        \"href\": el.group(2),\n",
    "        \"description\": el.group(3) or None,\n",
    "        **{\n",
    "            k: v\n",
    "            for k, v in zip(\n",
    "                [\"owner\", \"repo\"], urlparse(el.group(2)).path.split(\"/\")[1:]\n",
    "            )\n",
    "        },\n",
    "    }\n",
    "    for el in patt.finditer(md)\n",
    "]\n",
    "\n",
    "print(f\"\"\"Found {len(hrefs)} github repos\n",
    "Saving to: {AWESOME_README_HREFS_PATH}\n",
    "\"\"\")\n",
    "with open(AWESOME_README_HREFS_PATH, \"w\") as fp:\n",
    "    json.dump(hrefs, fp)"
   ]
  },
  {
   "cell_type": "markdown",
   "id": "33c22abc-0351-4232-b807-3ebd47ba5b16",
   "metadata": {},
   "source": [
    "# Get readme"
   ]
  },
  {
   "cell_type": "code",
   "execution_count": 6,
   "id": "883435c1-3a83-48dc-ac5f-2b49d69223dc",
   "metadata": {
    "execution": {
     "iopub.execute_input": "2023-01-10T11:10:09.629697Z",
     "iopub.status.busy": "2023-01-10T11:10:09.629527Z",
     "iopub.status.idle": "2023-01-10T11:10:09.785247Z",
     "shell.execute_reply": "2023-01-10T11:10:09.783897Z",
     "shell.execute_reply.started": "2023-01-10T11:10:09.629681Z"
    },
    "tags": []
   },
   "outputs": [],
   "source": [
    "res = sess.get_readme('jupyterlab','jupyter-renderers')"
   ]
  },
  {
   "cell_type": "code",
   "execution_count": 7,
   "id": "647bac52-327f-4ed7-9bbe-e5a08f807fe0",
   "metadata": {
    "execution": {
     "iopub.execute_input": "2023-01-10T11:10:11.184680Z",
     "iopub.status.busy": "2023-01-10T11:10:11.184278Z",
     "iopub.status.idle": "2023-01-10T11:10:11.188747Z",
     "shell.execute_reply": "2023-01-10T11:10:11.188369Z",
     "shell.execute_reply.started": "2023-01-10T11:10:11.184664Z"
    }
   },
   "outputs": [
    {
     "data": {
      "text/plain": [
       "<Response [200]>"
      ]
     },
     "execution_count": 7,
     "metadata": {},
     "output_type": "execute_result"
    }
   ],
   "source": [
    "res\n"
   ]
  },
  {
   "cell_type": "code",
   "execution_count": 8,
   "id": "e557dde9-9064-4a26-89ff-8403e2c99820",
   "metadata": {
    "execution": {
     "iopub.execute_input": "2023-01-10T11:10:20.287582Z",
     "iopub.status.busy": "2023-01-10T11:10:20.287158Z",
     "iopub.status.idle": "2023-01-10T11:10:20.292438Z",
     "shell.execute_reply": "2023-01-10T11:10:20.291566Z",
     "shell.execute_reply.started": "2023-01-10T11:10:20.287544Z"
    }
   },
   "outputs": [],
   "source": [
    "pl= res.json()"
   ]
  },
  {
   "cell_type": "code",
   "execution_count": 23,
   "id": "f0772aae-3ea6-4fb0-8a7b-9ea5516ebdbf",
   "metadata": {
    "execution": {
     "iopub.execute_input": "2023-01-10T11:30:31.360915Z",
     "iopub.status.busy": "2023-01-10T11:30:31.360375Z",
     "iopub.status.idle": "2023-01-10T11:30:31.368031Z",
     "shell.execute_reply": "2023-01-10T11:30:31.367427Z",
     "shell.execute_reply.started": "2023-01-10T11:30:31.360845Z"
    },
    "tags": []
   },
   "outputs": [],
   "source": [
    "import base64\n",
    "from typing import Any\n",
    "from pydantic import BaseModel, Field, ByteSize\n",
    "\n",
    "\n",
    "# class ContentFileLinks(BaseModel):\n",
    "#     url: str = Field(default=..., alias=\"self\")\n",
    "#     git: str\n",
    "#     html: str\n",
    "\n",
    "\n",
    "class ContentFile(BaseModel):\n",
    "    name: str\n",
    "    path: str\n",
    "    sha: str\n",
    "    size: ByteSize\n",
    "    url: str\n",
    "    html_url: str\n",
    "    git_url: str\n",
    "    download_url: str\n",
    "    typ: str = Field(default=..., alias=\"type\")\n",
    "    content: str  # base64 str\n",
    "    encoding: str\n",
    "\n",
    "    # _links: ContentFileLinks = Field(default=..., alias=\"links\")\n",
    "\n",
    "    def decode_content(self):\n",
    "        \"\"\"\n",
    "        :type: bytes\n",
    "        \"\"\"\n",
    "        assert self.encoding == \"base64\", f\"unsupported encoding: {self.encoding}\"\n",
    "        return base64.b64decode(bytearray(self.content, \"utf-8\")).decode(\"utf8\")\n",
    "\n",
    "    @property\n",
    "    def is_readme(self) -> bool:\n",
    "        return self.name.lower().startswith(\"readme\")\n",
    "\n",
    "    def as_readme(self) -> \"ReadmeFile\":\n",
    "        if not self.is_readme:\n",
    "            raise ValueError(f\"File '{self.name}' is not a readme.\")\n",
    "        return ReadmeFile.parse_obj({**self.dict(), \"text\": self.decode_content()})\n",
    "\n",
    "\n",
    "class ReadmeFile(BaseModel):\n",
    "    name: str\n",
    "    path: str\n",
    "    sha: str\n",
    "    size: ByteSize\n",
    "    url: str\n",
    "    html_url: str\n",
    "    git_url: str\n",
    "    download_url: str\n",
    "\n",
    "    text: str\n",
    "\n",
    "\n",
    "# @classmethod\n",
    "# def parse_obj(cls, obj: Any) -> \"ReadmeFile\":\n",
    "\n",
    "#     super().parse_obj\n"
   ]
  },
  {
   "cell_type": "code",
   "execution_count": 27,
   "id": "570f6926-c73a-4ba4-8b55-f1c50282c532",
   "metadata": {
    "execution": {
     "iopub.execute_input": "2023-01-10T11:30:59.055774Z",
     "iopub.status.busy": "2023-01-10T11:30:59.055599Z",
     "iopub.status.idle": "2023-01-10T11:30:59.059505Z",
     "shell.execute_reply": "2023-01-10T11:30:59.059124Z",
     "shell.execute_reply.started": "2023-01-10T11:30:59.055761Z"
    },
    "tags": []
   },
   "outputs": [
    {
     "data": {
      "text/plain": [
       "ReadmeFile(name='README.md', path='README.md', sha='b2a2d59df778d96e4cf72ab7a2b6dafaa543c7b7', size=6512, url='https://api.github.com/repos/jupyterlab/jupyter-renderers/contents/README.md?ref=master', html_url='https://github.com/jupyterlab/jupyter-renderers/blob/master/README.md', git_url='https://api.github.com/repos/jupyterlab/jupyter-renderers/git/blobs/b2a2d59df778d96e4cf72ab7a2b6dafaa543c7b7', download_url='https://raw.githubusercontent.com/jupyterlab/jupyter-renderers/master/README.md', text=\"# Jupyter Renderers\\n\\n![Github Actions Status](https://github.com/jupyterlab/jupyter-renderers/workflows/CI/badge.svg)\\n[![Binder](https://mybinder.org/badge_logo.svg)](https://mybinder.org/v2/gh/jupyterlab/jupyter-renderers/master?urlpath=lab/tree/notebooks)\\n\\nThis is a\\n[monorepo](https://github.com/lerna/lerna#what-does-a-lerna-repo-look-like) that\\nconsists of [JupyterLab](https://github.com/jupyterlab/jupyterlab) _mimerender extensions_ for common file and MIME types.\\n\\n## Packages\\n\\n| Name                                              | Mime types                                                         | File extensions                                            | Info                                                                                                                            |\\n| ------------------------------------------------- | ------------------------------------------------------------------ | ---------------------------------------------------------- | ------------------------------------------------------------------------------------------------------------------------------- |\\n| [fasta-extension](packages/fasta-extension)       | `application/vnd.fasta.fasta`                                      | `.fasta`                                                   | [![Version](https://img.shields.io/pypi/v/jupyterlab-fasta?style=flat-square)](https://pypi.org/project/jupyterlab-fasta/)      |\\n| [geojson-extension](packages/geojson-extension)   | `application/geo+json`                                             | `.geojson`, `.geo.json`                                    | [![Version](https://img.shields.io/pypi/v/jupyterlab-geojson?style=flat-square)](https://pypi.org/project/jupyterlab-geojson)   |\\n| [katex-extension](packages/katex-extension)       | N/A                                                                | N/A                                                        | [![Version](https://img.shields.io/pypi/v/jupyterlab-katex?style=flat-square)](https://pypi.org/project/jupyterlab-katex)       |\\n| [mathjax3-extension](packages/mathjax3-extension) | N/A                                                                | N/A                                                        | [![Version](https://img.shields.io/pypi/v/jupyterlab-mathjax3?style=flat-square)](https://pypi.org/project/jupyterlab-mathjax3) |\\n| [vega2-extension](packages/vega2-extension)       | `application/vnd.vega.v2+json`, `application/vnd.vegalite.v1+json` | `.vg`, `.vl`, `.vg.json`, `.vl.json`, `.vega`, `.vegalite` | [![Version](https://img.shields.io/pypi/v/jupyterlab-vega2?style=flat-square)](https://pypi.org/project/jupyterlab-vega2)       |\\n| [vega3-extension](packages/vega3-extension)       | `application/vnd.vega.v3+json`, `application/vnd.vegalite.v2+json` | `.vg`, `.vl`, `.vg.json`, `.vl.json`, `.vega`, `.vegalite` | [![Version](https://img.shields.io/pypi/v/jupyterlab-vega3?style=flat-square)](https://pypi.org/project/jupyterlab-vega3)       |\\n\\n## Looking for plotly-extension?\\n\\n[@jupyterlab/plotly-extension](https://www.npmjs.com/package/@jupyterlab/plotly-extension) is being deprecated. Please use the Plotly-supported [jupyterlab-plotly](https://www.npmjs.com/package/jupyterlab-plotly). See the [plotly.py README](https://github.com/plotly/plotly.py#jupyterlab-support-python-35) for more info.\\n\\n## Install\\n\\nWith JupyterLab 3.0, it is possible to install the prebuilt extensions with `pip`:\\n\\n```bash\\npip install jupyterlab-fasta\\npip install jupyterlab-geojson\\npip install jupyterlab-katex\\npip install jupyterlab-mathjax3\\npip install jupyterlab-vega2\\npip install jupyterlab-vega3\\n```\\n\\n<details><summary>For versions prior to JupyterLab v3.0,</summary>\\nit is also possible to install the extension from source using the `jupyter labextension install` command:\\n\\n- fasta-extension: `jupyter labextension install @jupyterlab/fasta-extension`\\n- geojson-extension: `jupyter labextension install @jupyterlab/geojson-extension`\\n- katex-extension: `jupyter labextension install @jupyterlab/katex-extension`\\n- mathjax3-extension: `jupyter labextension install @jupyterlab/mathjax3-extension`\\n- vega2-extension: `jupyter labextension install @jupyterlab/vega2-extension`\\n- vega3-extension: `jupyter labextension install @jupyterlab/vega3-extension`\\n\\n</details>\\n\\n## Contributing\\n\\nIf you would like to contribute to the project, please read our [contributor documentation](https://github.com/jupyterlab/jupyterlab/blob/master/CONTRIBUTING.md).\\n\\nJupyterLab follows the official [Jupyter Code of Conduct](https://github.com/jupyter/governance/blob/master/conduct/code_of_conduct.md).\\n\\n## Requirements\\n\\n- Node.js >= 4 (see [Installing Node.js and jlpm](https://github.com/jupyterlab/jupyterlab/blob/master/CONTRIBUTING.md#installing-nodejs-and-jlpm) in the JupyterLab docs)\\n\\n### Install\\n\\nThe `jlpm` command is JupyterLab's pinned version of\\n[yarn](https://yarnpkg.com/) that is installed with JupyterLab. You may use\\n`yarn` or `npm` in lieu of `jlpm` below.\\n\\n```bash\\n# Clone the repo to your local environment\\ngit clone https://github.com/jupyterlab/jupyter-renderers.git\\ncd jupyter-renderers\\n\\n# install the fasta extension\\ncd packages/fasta-extension\\n\\n# Install package in development mode\\npip install -e .\\n\\n# Link your development version of the extension with JupyterLab\\njupyter labextension develop . --overwrite\\n\\n# Rebuild the extensions TypeScript source after making changes\\njlpm run build\\n```\\n\\n### Rebuilding extensions\\n\\nAfter making changes to the source packages, the packages must be rebuilt:\\n\\n```bash\\n# Rebuild all the extensions at once\\njlpm run build\\n\\n# To rebuilt a particular extension, for example the fasta extension\\ncd packages/fasta-extension\\njlpm run build\\n```\\n\\nYou may also watch a particular extension directory for changes and automatically rebuild:\\n\\n```bash\\n# In one terminal tab, watch the jupyter-fasta directory\\ncd packages/fasta-extension\\njlpm run watch\\n\\n# Run JupyterLab in another terminal\\njupyter lab\\n```\\n\\n### Publishing packages\\n\\n```bash\\njlpm run publish\\n# If publishing a package for the first time\\nnpm access public @jupyterlab/<extension name>\\n```\\n\\n### Creating icons\\n\\nTo create a JupyterLab icon for a new MIME or file type, you can use the Sketch\\nfile in this repo or [fork the file on\\nFigma](https://www.figma.com/file/c2TwOvxAAXCzDccrybQKapZK/icons?node-id=0%3A1)\\nand export your icon as an SVG. See the [GeoJSON icon](https://github.com/jupyterlab/jupyter-renderers/tree/master/packages/geojson-extension/style) for reference.\\n\")"
      ]
     },
     "execution_count": 27,
     "metadata": {},
     "output_type": "execute_result"
    }
   ],
   "source": [
    "cf.as_readme()"
   ]
  },
  {
   "cell_type": "code",
   "execution_count": 25,
   "id": "12fb0972-c486-4178-92f6-e3f8109ecac6",
   "metadata": {
    "execution": {
     "iopub.execute_input": "2023-01-10T11:30:52.923872Z",
     "iopub.status.busy": "2023-01-10T11:30:52.923255Z",
     "iopub.status.idle": "2023-01-10T11:30:52.928211Z",
     "shell.execute_reply": "2023-01-10T11:30:52.927704Z",
     "shell.execute_reply.started": "2023-01-10T11:30:52.923836Z"
    },
    "tags": []
   },
   "outputs": [
    {
     "data": {
      "text/plain": [
       "\"# Jupyter Renderers\\n\\n![Github Actions Status](https://github.com/jupyterlab/jupyter-renderers/workflows/CI/badge.svg)\\n[![Binder](https://mybinder.org/badge_logo.svg)](https://mybinder.org/v2/gh/jupyterlab/jupyter-renderers/master?urlpath=lab/tree/notebooks)\\n\\nThis is a\\n[monorepo](https://github.com/lerna/lerna#what-does-a-lerna-repo-look-like) that\\nconsists of [JupyterLab](https://github.com/jupyterlab/jupyterlab) _mimerender extensions_ for common file and MIME types.\\n\\n## Packages\\n\\n| Name                                              | Mime types                                                         | File extensions                                            | Info                                                                                                                            |\\n| ------------------------------------------------- | ------------------------------------------------------------------ | ---------------------------------------------------------- | ------------------------------------------------------------------------------------------------------------------------------- |\\n| [fasta-extension](packages/fasta-extension)       | `application/vnd.fasta.fasta`                                      | `.fasta`                                                   | [![Version](https://img.shields.io/pypi/v/jupyterlab-fasta?style=flat-square)](https://pypi.org/project/jupyterlab-fasta/)      |\\n| [geojson-extension](packages/geojson-extension)   | `application/geo+json`                                             | `.geojson`, `.geo.json`                                    | [![Version](https://img.shields.io/pypi/v/jupyterlab-geojson?style=flat-square)](https://pypi.org/project/jupyterlab-geojson)   |\\n| [katex-extension](packages/katex-extension)       | N/A                                                                | N/A                                                        | [![Version](https://img.shields.io/pypi/v/jupyterlab-katex?style=flat-square)](https://pypi.org/project/jupyterlab-katex)       |\\n| [mathjax3-extension](packages/mathjax3-extension) | N/A                                                                | N/A                                                        | [![Version](https://img.shields.io/pypi/v/jupyterlab-mathjax3?style=flat-square)](https://pypi.org/project/jupyterlab-mathjax3) |\\n| [vega2-extension](packages/vega2-extension)       | `application/vnd.vega.v2+json`, `application/vnd.vegalite.v1+json` | `.vg`, `.vl`, `.vg.json`, `.vl.json`, `.vega`, `.vegalite` | [![Version](https://img.shields.io/pypi/v/jupyterlab-vega2?style=flat-square)](https://pypi.org/project/jupyterlab-vega2)       |\\n| [vega3-extension](packages/vega3-extension)       | `application/vnd.vega.v3+json`, `application/vnd.vegalite.v2+json` | `.vg`, `.vl`, `.vg.json`, `.vl.json`, `.vega`, `.vegalite` | [![Version](https://img.shields.io/pypi/v/jupyterlab-vega3?style=flat-square)](https://pypi.org/project/jupyterlab-vega3)       |\\n\\n## Looking for plotly-extension?\\n\\n[@jupyterlab/plotly-extension](https://www.npmjs.com/package/@jupyterlab/plotly-extension) is being deprecated. Please use the Plotly-supported [jupyterlab-plotly](https://www.npmjs.com/package/jupyterlab-plotly). See the [plotly.py README](https://github.com/plotly/plotly.py#jupyterlab-support-python-35) for more info.\\n\\n## Install\\n\\nWith JupyterLab 3.0, it is possible to install the prebuilt extensions with `pip`:\\n\\n```bash\\npip install jupyterlab-fasta\\npip install jupyterlab-geojson\\npip install jupyterlab-katex\\npip install jupyterlab-mathjax3\\npip install jupyterlab-vega2\\npip install jupyterlab-vega3\\n```\\n\\n<details><summary>For versions prior to JupyterLab v3.0,</summary>\\nit is also possible to install the extension from source using the `jupyter labextension install` command:\\n\\n- fasta-extension: `jupyter labextension install @jupyterlab/fasta-extension`\\n- geojson-extension: `jupyter labextension install @jupyterlab/geojson-extension`\\n- katex-extension: `jupyter labextension install @jupyterlab/katex-extension`\\n- mathjax3-extension: `jupyter labextension install @jupyterlab/mathjax3-extension`\\n- vega2-extension: `jupyter labextension install @jupyterlab/vega2-extension`\\n- vega3-extension: `jupyter labextension install @jupyterlab/vega3-extension`\\n\\n</details>\\n\\n## Contributing\\n\\nIf you would like to contribute to the project, please read our [contributor documentation](https://github.com/jupyterlab/jupyterlab/blob/master/CONTRIBUTING.md).\\n\\nJupyterLab follows the official [Jupyter Code of Conduct](https://github.com/jupyter/governance/blob/master/conduct/code_of_conduct.md).\\n\\n## Requirements\\n\\n- Node.js >= 4 (see [Installing Node.js and jlpm](https://github.com/jupyterlab/jupyterlab/blob/master/CONTRIBUTING.md#installing-nodejs-and-jlpm) in the JupyterLab docs)\\n\\n### Install\\n\\nThe `jlpm` command is JupyterLab's pinned version of\\n[yarn](https://yarnpkg.com/) that is installed with JupyterLab. You may use\\n`yarn` or `npm` in lieu of `jlpm` below.\\n\\n```bash\\n# Clone the repo to your local environment\\ngit clone https://github.com/jupyterlab/jupyter-renderers.git\\ncd jupyter-renderers\\n\\n# install the fasta extension\\ncd packages/fasta-extension\\n\\n# Install package in development mode\\npip install -e .\\n\\n# Link your development version of the extension with JupyterLab\\njupyter labextension develop . --overwrite\\n\\n# Rebuild the extensions TypeScript source after making changes\\njlpm run build\\n```\\n\\n### Rebuilding extensions\\n\\nAfter making changes to the source packages, the packages must be rebuilt:\\n\\n```bash\\n# Rebuild all the extensions at once\\njlpm run build\\n\\n# To rebuilt a particular extension, for example the fasta extension\\ncd packages/fasta-extension\\njlpm run build\\n```\\n\\nYou may also watch a particular extension directory for changes and automatically rebuild:\\n\\n```bash\\n# In one terminal tab, watch the jupyter-fasta directory\\ncd packages/fasta-extension\\njlpm run watch\\n\\n# Run JupyterLab in another terminal\\njupyter lab\\n```\\n\\n### Publishing packages\\n\\n```bash\\njlpm run publish\\n# If publishing a package for the first time\\nnpm access public @jupyterlab/<extension name>\\n```\\n\\n### Creating icons\\n\\nTo create a JupyterLab icon for a new MIME or file type, you can use the Sketch\\nfile in this repo or [fork the file on\\nFigma](https://www.figma.com/file/c2TwOvxAAXCzDccrybQKapZK/icons?node-id=0%3A1)\\nand export your icon as an SVG. See the [GeoJSON icon](https://github.com/jupyterlab/jupyter-renderers/tree/master/packages/geojson-extension/style) for reference.\\n\""
      ]
     },
     "execution_count": 25,
     "metadata": {},
     "output_type": "execute_result"
    }
   ],
   "source": [
    "cf = ContentFile.parse_obj(pl)\n",
    "\n",
    "cf.decode_content()"
   ]
  },
  {
   "cell_type": "code",
   "execution_count": 14,
   "id": "ed9b2209-5ad6-489f-a13a-ff5974e283d7",
   "metadata": {
    "execution": {
     "iopub.execute_input": "2023-01-10T11:11:00.331918Z",
     "iopub.status.busy": "2023-01-10T11:11:00.331325Z",
     "iopub.status.idle": "2023-01-10T11:11:00.335000Z",
     "shell.execute_reply": "2023-01-10T11:11:00.334601Z",
     "shell.execute_reply.started": "2023-01-10T11:11:00.331900Z"
    },
    "tags": []
   },
   "outputs": [
    {
     "data": {
      "text/plain": [
       "{'name': 'README.md',\n",
       " 'path': 'README.md',\n",
       " 'sha': 'b2a2d59df778d96e4cf72ab7a2b6dafaa543c7b7',\n",
       " 'size': 6512,\n",
       " 'url': 'https://api.github.com/repos/jupyterlab/jupyter-renderers/contents/README.md?ref=master',\n",
       " 'type': 'file',\n",
       " 'content': 'IyBKdXB5dGVyIFJlbmRlcmVycwoKIVtHaXRodWIgQWN0aW9ucyBTdGF0dXNd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\\nZXh0ZW5zaW9uL3N0eWxlKSBmb3IgcmVmZXJlbmNlLgo=\\n',\n",
       " 'encoding': 'base64',\n",
       " '_links': {'self': 'https://api.github.com/repos/jupyterlab/jupyter-renderers/contents/README.md?ref=master',\n",
       "  'git': 'https://api.github.com/repos/jupyterlab/jupyter-renderers/git/blobs/b2a2d59df778d96e4cf72ab7a2b6dafaa543c7b7',\n",
       "  'html': 'https://github.com/jupyterlab/jupyter-renderers/blob/master/README.md'}}"
      ]
     },
     "execution_count": 14,
     "metadata": {},
     "output_type": "execute_result"
    }
   ],
   "source": [
    "replace_empty_str_with_none(remove_github_url_keys(pl))"
   ]
  },
  {
   "cell_type": "code",
   "execution_count": 16,
   "id": "421596c0-d82c-4ed7-b9bf-8a572aae7ddc",
   "metadata": {
    "execution": {
     "iopub.execute_input": "2023-01-10T11:14:12.534530Z",
     "iopub.status.busy": "2023-01-10T11:14:12.534358Z",
     "iopub.status.idle": "2023-01-10T11:14:12.537952Z",
     "shell.execute_reply": "2023-01-10T11:14:12.537512Z",
     "shell.execute_reply.started": "2023-01-10T11:14:12.534518Z"
    },
    "tags": []
   },
   "outputs": [
    {
     "data": {
      "text/plain": [
       "{'name': 'README.md',\n",
       " 'path': 'README.md',\n",
       " 'sha': 'b2a2d59df778d96e4cf72ab7a2b6dafaa543c7b7',\n",
       " 'size': 6512,\n",
       " 'url': 'https://api.github.com/repos/jupyterlab/jupyter-renderers/contents/README.md?ref=master',\n",
       " 'html_url': 'https://github.com/jupyterlab/jupyter-renderers/blob/master/README.md',\n",
       " 'git_url': 'https://api.github.com/repos/jupyterlab/jupyter-renderers/git/blobs/b2a2d59df778d96e4cf72ab7a2b6dafaa543c7b7',\n",
       " 'download_url': 'https://raw.githubusercontent.com/jupyterlab/jupyter-renderers/master/README.md',\n",
       " 'type': 'file',\n",
       " 'content': 'IyBKdXB5dGVyIFJlbmRlcmVycwoKIVtHaXRodWIgQWN0aW9ucyBTdGF0dXNd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\\nZXh0ZW5zaW9uL3N0eWxlKSBmb3IgcmVmZXJlbmNlLgo=\\n',\n",
       " 'encoding': 'base64',\n",
       " '_links': {'self': 'https://api.github.com/repos/jupyterlab/jupyter-renderers/contents/README.md?ref=master',\n",
       "  'git': 'https://api.github.com/repos/jupyterlab/jupyter-renderers/git/blobs/b2a2d59df778d96e4cf72ab7a2b6dafaa543c7b7',\n",
       "  'html': 'https://github.com/jupyterlab/jupyter-renderers/blob/master/README.md'}}"
      ]
     },
     "execution_count": 16,
     "metadata": {},
     "output_type": "execute_result"
    }
   ],
   "source": [
    "pl"
   ]
  },
  {
   "cell_type": "markdown",
   "id": "3e8c6620-8bb0-4d81-b25f-e7fe7bec9a14",
   "metadata": {},
   "source": [
    "These functions remove cruft from repo response:"
   ]
  },
  {
   "cell_type": "code",
   "execution_count": 13,
   "id": "f556855b-9346-41e5-a245-b65bef588370",
   "metadata": {
    "execution": {
     "iopub.execute_input": "2023-01-10T11:10:58.191094Z",
     "iopub.status.busy": "2023-01-10T11:10:58.190897Z",
     "iopub.status.idle": "2023-01-10T11:10:58.194383Z",
     "shell.execute_reply": "2023-01-10T11:10:58.193905Z",
     "shell.execute_reply.started": "2023-01-10T11:10:58.191077Z"
    },
    "scrolled": true,
    "tags": []
   },
   "outputs": [],
   "source": [
    "def remove_github_url_keys(d:dict) -> dict:\n",
    "    return {k: v if not isinstance(v, dict) else remove_github_url_keys(v) for k,v in d.items() if not k.endswith(\"_url\")}\n",
    "    \n",
    "def replace_empty_str_with_none(d:dict) -> dict:\n",
    "    return {k: (v if v != '' else None) if not isinstance(v, dict) else replace_empty_str_with_none(v) for k,v in d.items()}\n",
    "    \n",
    "# replace_empty_str_with_none(remove_github_url_keys(out))"
   ]
  },
  {
   "cell_type": "code",
   "execution_count": null,
   "id": "9dcd71c9-a7e5-403d-a11b-fb0a5c9db2c8",
   "metadata": {},
   "outputs": [],
   "source": []
  },
  {
   "cell_type": "code",
   "execution_count": 2,
   "id": "82434d1e-6d8d-4ee1-9e58-ad93251de4cf",
   "metadata": {
    "execution": {
     "iopub.execute_input": "2023-01-10T11:08:41.888963Z",
     "iopub.status.busy": "2023-01-10T11:08:41.888706Z",
     "iopub.status.idle": "2023-01-10T11:08:41.895970Z",
     "shell.execute_reply": "2023-01-10T11:08:41.894815Z",
     "shell.execute_reply.started": "2023-01-10T11:08:41.888940Z"
    }
   },
   "outputs": [
    {
     "data": {
      "text/plain": [
       "<module 'tenacity' from '/home/michael/Documents/nya/py/.venv/lib/python3.11/site-packages/tenacity/__init__.py'>"
      ]
     },
     "execution_count": 2,
     "metadata": {},
     "output_type": "execute_result"
    }
   ],
   "source": [
    "import tenacity\n",
    "\n",
    "tenacity"
   ]
  },
  {
   "cell_type": "code",
   "execution_count": null,
   "id": "03798188-2812-4933-9ed9-b0142bbe392e",
   "metadata": {},
   "outputs": [],
   "source": [
    "tenacity.re"
   ]
  },
  {
   "cell_type": "code",
   "execution_count": null,
   "id": "b8ddebe7-4ebf-45d6-9d87-ba927eb4a09b",
   "metadata": {},
   "outputs": [],
   "source": []
  },
  {
   "cell_type": "code",
   "execution_count": null,
   "id": "d662d56b-49e1-4ed0-965e-bc8f15526d51",
   "metadata": {},
   "outputs": [],
   "source": []
  },
  {
   "cell_type": "code",
   "execution_count": null,
   "id": "bbb3b125-b1ec-4c9f-a580-a8976a81b3f0",
   "metadata": {},
   "outputs": [],
   "source": []
  },
  {
   "cell_type": "code",
   "execution_count": null,
   "id": "2a16ded1-03b4-4418-8e5f-74f79bf40d87",
   "metadata": {},
   "outputs": [],
   "source": []
  },
  {
   "cell_type": "code",
   "execution_count": null,
   "id": "f464cffa-24b8-4623-8dc2-5754f0a8c861",
   "metadata": {},
   "outputs": [],
   "source": []
  },
  {
   "cell_type": "code",
   "execution_count": null,
   "id": "147be4fc-a01d-4cb3-989e-7f3fd4995850",
   "metadata": {},
   "outputs": [],
   "source": []
  },
  {
   "cell_type": "code",
   "execution_count": null,
   "id": "3967e277-e793-4e6c-a0bc-969518e7adb6",
   "metadata": {},
   "outputs": [],
   "source": []
  },
  {
   "cell_type": "code",
   "execution_count": null,
   "id": "fadd4fa3-2206-4689-8ea2-a3494a27aa45",
   "metadata": {},
   "outputs": [],
   "source": []
  },
  {
   "cell_type": "code",
   "execution_count": null,
   "id": "66a24142-c58f-4531-9332-6a2041d027df",
   "metadata": {},
   "outputs": [],
   "source": []
  },
  {
   "cell_type": "code",
   "execution_count": null,
   "id": "36474bd3-4115-4a74-9f1a-97c314f8cb17",
   "metadata": {},
   "outputs": [],
   "source": []
  }
 ],
 "metadata": {
  "kernelspec": {
   "display_name": "Python 3 (ipykernel)",
   "language": "python",
   "name": "python3"
  },
  "language_info": {
   "codemirror_mode": {
    "name": "ipython",
    "version": 3
   },
   "file_extension": ".py",
   "mimetype": "text/x-python",
   "name": "python",
   "nbconvert_exporter": "python",
   "pygments_lexer": "ipython3",
   "version": "3.11.0b3"
  }
 },
 "nbformat": 4,
 "nbformat_minor": 5
}
