{
 "cells": [
  {
   "cell_type": "markdown",
   "id": "b04f0eca-c3da-488d-ba35-d16d113f6e74",
   "metadata": {},
   "source": [
    "# Github: initial fetch"
   ]
  },
  {
   "cell_type": "code",
   "execution_count": 1,
   "id": "a1c4c09c-d0aa-4db3-9814-60a21008555a",
   "metadata": {
    "execution": {
     "iopub.execute_input": "2023-01-11T02:09:21.664169Z",
     "iopub.status.busy": "2023-01-11T02:09:21.663874Z",
     "iopub.status.idle": "2023-01-11T02:09:21.757426Z",
     "shell.execute_reply": "2023-01-11T02:09:21.756896Z",
     "shell.execute_reply.started": "2023-01-11T02:09:21.664155Z"
    },
    "tags": []
   },
   "outputs": [],
   "source": [
    "import os\n",
    "import json\n",
    "import shutil\n",
    "import re\n",
    "from pathlib import Path\n",
    "import datetime\n",
    "from typing import Optional\n",
    "from urllib.parse import urlparse\n",
    "\n",
    "import requests\n",
    "import requests_cache\n",
    "from tqdm import trange, tqdm\n",
    "from pydantic import BaseModel,SecretStr\n",
    "\n",
    "from nya.config import settings\n",
    "from nya.github.client import GithubSession,GithubRateLimit\n",
    "from nya.github.models import ContentFile,ReadmeFile"
   ]
  },
  {
   "cell_type": "code",
   "execution_count": 2,
   "id": "5f2cebe8-6340-4fa6-b133-07b3511f427d",
   "metadata": {
    "execution": {
     "iopub.execute_input": "2023-01-11T02:09:21.758462Z",
     "iopub.status.busy": "2023-01-11T02:09:21.758332Z",
     "iopub.status.idle": "2023-01-11T02:09:21.761156Z",
     "shell.execute_reply": "2023-01-11T02:09:21.760765Z",
     "shell.execute_reply.started": "2023-01-11T02:09:21.758450Z"
    },
    "tags": []
   },
   "outputs": [],
   "source": [
    "AWESOME_README_DIR = settings.root_dir.joinpath(\"data\",\"raw\",\"awesome_samples\")\n",
    "AWESOME_README_HREFS_PATH = settings.root_dir.joinpath(\"data\",\"int\",\"awesome_readme_hrefs.json\")\n",
    "\n",
    "SAMPLE_REPO_RECORDS = settings.root_dir.joinpath(\"data\",\"int\",\"sample_repo_records.jsonld\")"
   ]
  },
  {
   "cell_type": "code",
   "execution_count": 3,
   "id": "b2635446-94ac-4141-95eb-2f78e9d0388e",
   "metadata": {
    "execution": {
     "iopub.execute_input": "2023-01-11T02:09:21.761694Z",
     "iopub.status.busy": "2023-01-11T02:09:21.761590Z",
     "iopub.status.idle": "2023-01-11T02:09:27.317268Z",
     "shell.execute_reply": "2023-01-11T02:09:27.316010Z",
     "shell.execute_reply.started": "2023-01-11T02:09:21.761684Z"
    },
    "tags": []
   },
   "outputs": [],
   "source": [
    "sess = GithubSession(token=settings.github_token.get_secret_value(), cache_path=settings.github_cache_path)"
   ]
  },
  {
   "cell_type": "markdown",
   "id": "4fdf131d-2a8d-4944-925e-8929e91e38dd",
   "metadata": {},
   "source": [
    "# Fetch names of awesome repos"
   ]
  },
  {
   "cell_type": "code",
   "execution_count": 4,
   "id": "dddd8149-8844-4d8c-96f1-7248de6d7b0c",
   "metadata": {
    "execution": {
     "iopub.execute_input": "2023-01-11T02:09:27.318950Z",
     "iopub.status.busy": "2023-01-11T02:09:27.318587Z",
     "iopub.status.idle": "2023-01-11T02:09:27.355590Z",
     "shell.execute_reply": "2023-01-11T02:09:27.355103Z",
     "shell.execute_reply.started": "2023-01-11T02:09:27.318905Z"
    },
    "tags": []
   },
   "outputs": [
    {
     "name": "stdout",
     "output_type": "stream",
     "text": [
      "Found 1133 github repos.\n",
      "Saving to: /home/michael/Documents/nya/py/data/int/awesome_readme_hrefs.json\n"
     ]
    }
   ],
   "source": [
    "patt = re.compile(r\"[-\\*] \\[(.+)\\]\\((https:\\/\\/github\\.com\\/(?!repos|topics)[a-zA-Z0-9_\\-]+\\/[a-zA-Z0-9_\\-]+\\/?(tree\\/[a-zA-Z0-9_\\-]+\\/?)?(#.*)?)\\)(?: - (.+))?\")\n",
    "\n",
    "hrefs = []\n",
    "for pth in AWESOME_README_DIR.iterdir():\n",
    "    md = pth.read_text()\n",
    "    src = pth.name.split(\"_readme\")[0]\n",
    "\n",
    "    hrefs.extend([\n",
    "        {\n",
    "            \"src\": src,\n",
    "            \"title\": el.group(1),\n",
    "            \"href\": el.group(2),\n",
    "            \"description\": el.group(3) or None,\n",
    "            **{\n",
    "                k: v\n",
    "                for k, v in zip(\n",
    "                    [\"owner\", \"repo\"], urlparse(el.group(2)).path.split(\"/\")[1:3]\n",
    "                )\n",
    "            },\n",
    "        }\n",
    "        for el in patt.finditer(md)\n",
    "    ])\n",
    "\n",
    "\n",
    "print(f\"\"\"Found {len(hrefs)} github repos.\n",
    "Saving to: {AWESOME_README_HREFS_PATH}\"\"\")\n",
    "with open(AWESOME_README_HREFS_PATH, \"w\") as fp:\n",
    "    json.dump(hrefs, fp)\n",
    "    \n",
    "hrefs = json.loads(AWESOME_README_HREFS_PATH.read_text())"
   ]
  },
  {
   "cell_type": "markdown",
   "id": "33c22abc-0351-4232-b807-3ebd47ba5b16",
   "metadata": {},
   "source": [
    "# Get fetch sample repos + readmes"
   ]
  },
  {
   "cell_type": "markdown",
   "id": "3e8c6620-8bb0-4d81-b25f-e7fe7bec9a14",
   "metadata": {},
   "source": [
    "These functions remove cruft from repo response:"
   ]
  },
  {
   "cell_type": "code",
   "execution_count": 5,
   "id": "f556855b-9346-41e5-a245-b65bef588370",
   "metadata": {
    "execution": {
     "iopub.execute_input": "2023-01-11T02:09:27.356973Z",
     "iopub.status.busy": "2023-01-11T02:09:27.356423Z",
     "iopub.status.idle": "2023-01-11T02:09:27.362204Z",
     "shell.execute_reply": "2023-01-11T02:09:27.361756Z",
     "shell.execute_reply.started": "2023-01-11T02:09:27.356947Z"
    },
    "scrolled": true,
    "tags": []
   },
   "outputs": [],
   "source": [
    "def remove_github_url_keys(d:dict) -> dict:\n",
    "    return {k: v if not isinstance(v, dict) else remove_github_url_keys(v) for k,v in d.items() if not k.endswith(\"_url\")}\n",
    "    \n",
    "def replace_empty_str_with_none(d:dict) -> dict:\n",
    "    return {k: (v if v != '' else None) if not isinstance(v, dict) else replace_empty_str_with_none(v) for k,v in d.items()}\n",
    "    \n",
    "def repo_res_proc(res:requests.Response) -> dict:\n",
    "    return replace_empty_str_with_none(remove_github_url_keys(res.json()))\n",
    "# replace_empty_str_with_none(remove_github_url_keys(out))\n",
    "\n",
    "def check_rate_limit(s:GithubSession)->None:\n",
    "    if s.rate_limit.remaining == 0:\n",
    "        raise Exception(f\"Rate limit exhausted! @ {s.rate_limit.reset} ({s.rate_limit.reset-datetime.datetime.utcnow()})\")"
   ]
  },
  {
   "cell_type": "code",
   "execution_count": 6,
   "id": "6cdce3c9-b4db-4e33-b29e-1a2642900bf2",
   "metadata": {
    "execution": {
     "iopub.execute_input": "2023-01-11T02:09:27.363032Z",
     "iopub.status.busy": "2023-01-11T02:09:27.362853Z",
     "iopub.status.idle": "2023-01-11T02:13:46.366288Z",
     "shell.execute_reply": "2023-01-11T02:13:46.365541Z",
     "shell.execute_reply.started": "2023-01-11T02:09:27.363013Z"
    },
    "tags": []
   },
   "outputs": [
    {
     "name": "stderr",
     "output_type": "stream",
     "text": [
      "  9%|█████████████                                                                                                                                       | 100/1133 [00:27<04:26,  3.87it/s]"
     ]
    },
    {
     "name": "stdout",
     "output_type": "stream",
     "text": [
      "100  repos: 100/100   readmes: 100/100  errors: 0\n"
     ]
    },
    {
     "name": "stderr",
     "output_type": "stream",
     "text": [
      " 18%|██████████████████████████▏                                                                                                                         | 200/1133 [00:55<04:42,  3.30it/s]"
     ]
    },
    {
     "name": "stdout",
     "output_type": "stream",
     "text": [
      "200  repos: 200/200   readmes: 200/200  errors: 0\n"
     ]
    },
    {
     "name": "stderr",
     "output_type": "stream",
     "text": [
      " 26%|███████████████████████████████████████▏                                                                                                            | 300/1133 [01:23<03:45,  3.69it/s]"
     ]
    },
    {
     "name": "stdout",
     "output_type": "stream",
     "text": [
      "300  repos: 300/300   readmes: 300/300  errors: 0\n"
     ]
    },
    {
     "name": "stderr",
     "output_type": "stream",
     "text": [
      " 35%|████████████████████████████████████████████████████▎                                                                                               | 400/1133 [01:51<03:25,  3.56it/s]"
     ]
    },
    {
     "name": "stdout",
     "output_type": "stream",
     "text": [
      "400  repos: 400/400   readmes: 400/400  errors: 0\n"
     ]
    },
    {
     "name": "stderr",
     "output_type": "stream",
     "text": [
      " 44%|█████████████████████████████████████████████████████████████████▎                                                                                  | 500/1133 [02:18<02:46,  3.81it/s]"
     ]
    },
    {
     "name": "stdout",
     "output_type": "stream",
     "text": [
      "500  repos: 500/500   readmes: 500/500  errors: 0\n"
     ]
    },
    {
     "name": "stderr",
     "output_type": "stream",
     "text": [
      " 53%|██████████████████████████████████████████████████████████████████████████████▍                                                                     | 600/1133 [02:46<02:23,  3.71it/s]"
     ]
    },
    {
     "name": "stdout",
     "output_type": "stream",
     "text": [
      "600  repos: 600/600   readmes: 600/600  errors: 0\n"
     ]
    },
    {
     "name": "stderr",
     "output_type": "stream",
     "text": [
      " 62%|███████████████████████████████████████████████████████████████████████████████████████████▍                                                        | 700/1133 [03:15<02:08,  3.38it/s]"
     ]
    },
    {
     "name": "stdout",
     "output_type": "stream",
     "text": [
      "700  repos: 700/700   readmes: 700/700  errors: 0\n"
     ]
    },
    {
     "name": "stderr",
     "output_type": "stream",
     "text": [
      " 71%|████████████████████████████████████████████████████████████████████████████████████████████████████████▌                                           | 800/1133 [03:48<02:12,  2.52it/s]"
     ]
    },
    {
     "name": "stdout",
     "output_type": "stream",
     "text": [
      "800  repos: 800/800   readmes: 800/800  errors: 0\n"
     ]
    },
    {
     "name": "stderr",
     "output_type": "stream",
     "text": [
      " 79%|█████████████████████████████████████████████████████████████████████████████████████████████████████████████████████▌                              | 900/1133 [04:18<01:04,  3.59it/s]"
     ]
    },
    {
     "name": "stdout",
     "output_type": "stream",
     "text": [
      "900  repos: 900/900   readmes: 900/900  errors: 0\n"
     ]
    },
    {
     "name": "stderr",
     "output_type": "stream",
     "text": [
      " 80%|█████████████████████████████████████████████████████████████████████████████████████████████████████████████████████▊                              | 902/1133 [04:18<01:06,  3.48it/s]\n"
     ]
    },
    {
     "ename": "AttributeError",
     "evalue": "type object 'tqdm' has no attribute 'tqdm'",
     "output_type": "error",
     "traceback": [
      "\u001b[0;31m---------------------------------------------------------------------------\u001b[0m",
      "\u001b[0;31mAttributeError\u001b[0m                            Traceback (most recent call last)",
      "Cell \u001b[0;32mIn[6], line 18\u001b[0m\n\u001b[1;32m     16\u001b[0m res \u001b[38;5;241m=\u001b[39m sess\u001b[38;5;241m.\u001b[39mget_repo(owner,repo)\n\u001b[1;32m     17\u001b[0m \u001b[38;5;28;01mif\u001b[39;00m \u001b[38;5;129;01mnot\u001b[39;00m res\u001b[38;5;241m.\u001b[39mok:\n\u001b[0;32m---> 18\u001b[0m     tqdm\u001b[38;5;241m.\u001b[39mtqdm(\u001b[38;5;124mf\u001b[39m\u001b[38;5;124m\"\u001b[39m\u001b[38;5;124mREPO: \u001b[39m\u001b[38;5;132;01m{\u001b[39;00mowner\u001b[38;5;132;01m}\u001b[39;00m\u001b[38;5;124m/\u001b[39m\u001b[38;5;132;01m{\u001b[39;00mrepo\u001b[38;5;132;01m}\u001b[39;00m\u001b[38;5;124m: (\u001b[39m\u001b[38;5;132;01m{\u001b[39;00mres\u001b[38;5;241m.\u001b[39mstatus_code\u001b[38;5;132;01m}\u001b[39;00m\u001b[38;5;124m) \u001b[39m\u001b[38;5;132;01m{\u001b[39;00mres\u001b[38;5;241m.\u001b[39mreason\u001b[38;5;132;01m}\u001b[39;00m\u001b[38;5;124m\"\u001b[39m)\n\u001b[1;32m     19\u001b[0m     errs\u001b[38;5;241m.\u001b[39mappend({\u001b[38;5;124m\"\u001b[39m\u001b[38;5;124mel\u001b[39m\u001b[38;5;124m\"\u001b[39m:el, \u001b[38;5;124m\"\u001b[39m\u001b[38;5;124merr\u001b[39m\u001b[38;5;124m\"\u001b[39m:res})\n\u001b[1;32m     20\u001b[0m     \u001b[38;5;28;01mcontinue\u001b[39;00m\n",
      "\u001b[0;31mAttributeError\u001b[0m: type object 'tqdm' has no attribute 'tqdm'"
     ]
    }
   ],
   "source": [
    "errs = []\n",
    "\n",
    "i = 0\n",
    "repos = []\n",
    "n_repos = 0\n",
    "n_repo_cache = 0\n",
    "n_readmes = 0\n",
    "n_readmes_cache = 0\n",
    "\n",
    "for el in tqdm( hrefs):\n",
    "    i += 1\n",
    "    owner,repo = el['owner'],el['repo']\n",
    "        \n",
    "    # Repos : Fetch and process\n",
    "    check_rate_limit(sess)\n",
    "    res = sess.get_repo(owner,repo)\n",
    "    if not res.ok:\n",
    "        tqdm.tqdm(f\"REPO: {owner}/{repo}: ({res.status_code}) {res.reason}\")\n",
    "        errs.append({\"el\":el, \"err\":res})\n",
    "        continue\n",
    "        \n",
    "    n_repos += 1\n",
    "    n_repo_cache += res.from_cache\n",
    "    repos.append(repo_res_proc(res))\n",
    "    \n",
    "    # Just fetch readmes for now.\n",
    "    check_rate_limit(sess)\n",
    "    res_md = sess.get_readme(owner,repo)\n",
    "    if not res_md.ok:\n",
    "        tqdm.tqdm(f\"REPO: {owner}/{repo}: ({res_md.status_code}) {res_md.reason}\")\n",
    "        errs.append({\"el\":el, \"err\":res})\n",
    "        continue\n",
    "        \n",
    "    n_readmes += 1\n",
    "    n_readmes_cache += res_md.from_cache\n",
    "    \n",
    "\n",
    "    if i % 100 == 0:\n",
    "        tqdm.write(f\"{i}  repos: {n_repo_cache}/{n_repos}   readmes: {n_readmes_cache}/{n_readmes}  errors: {len(errs)}\")"
   ]
  },
  {
   "cell_type": "code",
   "execution_count": null,
   "id": "ddb1b9de-c744-4c9f-ab22-6a1d45111990",
   "metadata": {},
   "outputs": [],
   "source": []
  },
  {
   "cell_type": "code",
   "execution_count": null,
   "id": "36474bd3-4115-4a74-9f1a-97c314f8cb17",
   "metadata": {},
   "outputs": [],
   "source": []
  }
 ],
 "metadata": {
  "kernelspec": {
   "display_name": "Python 3 (ipykernel)",
   "language": "python",
   "name": "python3"
  },
  "language_info": {
   "codemirror_mode": {
    "name": "ipython",
    "version": 3
   },
   "file_extension": ".py",
   "mimetype": "text/x-python",
   "name": "python",
   "nbconvert_exporter": "python",
   "pygments_lexer": "ipython3",
   "version": "3.11.0b3"
  }
 },
 "nbformat": 4,
 "nbformat_minor": 5
}
