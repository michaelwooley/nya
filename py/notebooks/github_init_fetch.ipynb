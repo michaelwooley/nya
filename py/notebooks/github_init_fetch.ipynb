{
 "cells": [
  {
   "cell_type": "markdown",
   "id": "b04f0eca-c3da-488d-ba35-d16d113f6e74",
   "metadata": {},
   "source": [
    "# Github: initial fetch"
   ]
  },
  {
   "cell_type": "code",
   "execution_count": 1,
   "id": "a1c4c09c-d0aa-4db3-9814-60a21008555a",
   "metadata": {
    "execution": {
     "iopub.execute_input": "2023-01-06T04:45:59.602200Z",
     "iopub.status.busy": "2023-01-06T04:45:59.602004Z",
     "iopub.status.idle": "2023-01-06T04:45:59.776120Z",
     "shell.execute_reply": "2023-01-06T04:45:59.775597Z",
     "shell.execute_reply.started": "2023-01-06T04:45:59.602180Z"
    },
    "tags": []
   },
   "outputs": [
    {
     "name": "stdout",
     "output_type": "stream",
     "text": [
      "Unexpected exception formatting exception. Falling back to standard exception\n"
     ]
    },
    {
     "name": "stderr",
     "output_type": "stream",
     "text": [
      "Traceback (most recent call last):\n",
      "  File \"/home/michael/Documents/no-ur-awesome/py/.venv/lib/python3.11/site-packages/IPython/core/interactiveshell.py\", line 3442, in run_code\n",
      "    exec(code_obj, self.user_global_ns, self.user_ns)\n",
      "    ^^^^^^^^^^^^^^^^^^^^^^^^^^^^^^^^^^^^^^^^^^^^^^^^^\n",
      "  File \"/tmp/ipykernel_84104/4184789187.py\", line 9, in <module>\n",
      "    from nya.config import settings\n",
      "    ^^^^^^^^^^^^^^^^^^^^^^^^^^^^^^^\n",
      "  File \"/home/michael/Documents/no-ur-awesome/py/nya/config.py\", line 28, in <module>\n",
      "    settings = Settings()\n",
      "               ^^^^^^^^^^\n",
      "  File \"pydantic/env_settings.py\", line 39, in pydantic.env_settings.BaseSettings.__init__\n",
      "  File \"pydantic/main.py\", line 342, in pydantic.main.BaseModel.__init__\n",
      "pydantic.error_wrappers.ValidationError: 1 validation error for Settings\n",
      "github_token\n",
      "  field required (type=value_error.missing)\n",
      "\n",
      "During handling of the above exception, another exception occurred:\n",
      "\n",
      "Traceback (most recent call last):\n",
      "  File \"/home/michael/Documents/no-ur-awesome/py/.venv/lib/python3.11/site-packages/IPython/core/interactiveshell.py\", line 2057, in showtraceback\n",
      "    stb = self.InteractiveTB.structured_traceback(\n",
      "          ^^^^^^^^^^^^^^^^^^^^^^^^^^^^^^^^^^^^^^^^\n",
      "  File \"/home/michael/Documents/no-ur-awesome/py/.venv/lib/python3.11/site-packages/IPython/core/ultratb.py\", line 1118, in structured_traceback\n",
      "    return FormattedTB.structured_traceback(\n",
      "           ^^^^^^^^^^^^^^^^^^^^^^^^^^^^^^^^^\n",
      "  File \"/home/michael/Documents/no-ur-awesome/py/.venv/lib/python3.11/site-packages/IPython/core/ultratb.py\", line 1012, in structured_traceback\n",
      "    return VerboseTB.structured_traceback(\n",
      "           ^^^^^^^^^^^^^^^^^^^^^^^^^^^^^^^\n",
      "  File \"/home/michael/Documents/no-ur-awesome/py/.venv/lib/python3.11/site-packages/IPython/core/ultratb.py\", line 865, in structured_traceback\n",
      "    formatted_exception = self.format_exception_as_a_whole(etype, evalue, etb, number_of_lines_of_context,\n",
      "                          ^^^^^^^^^^^^^^^^^^^^^^^^^^^^^^^^^^^^^^^^^^^^^^^^^^^^^^^^^^^^^^^^^^^^^^^^^^^^^^^^\n",
      "  File \"/home/michael/Documents/no-ur-awesome/py/.venv/lib/python3.11/site-packages/IPython/core/ultratb.py\", line 799, in format_exception_as_a_whole\n",
      "    self.get_records(etb, number_of_lines_of_context, tb_offset) if etb else []\n",
      "    ^^^^^^^^^^^^^^^^^^^^^^^^^^^^^^^^^^^^^^^^^^^^^^^^^^^^^^^^^^^^\n",
      "  File \"/home/michael/Documents/no-ur-awesome/py/.venv/lib/python3.11/site-packages/IPython/core/ultratb.py\", line 854, in get_records\n",
      "    return list(stack_data.FrameInfo.stack_data(etb, options=options))[tb_offset:]\n",
      "           ^^^^^^^^^^^^^^^^^^^^^^^^^^^^^^^^^^^^^^^^^^^^^^^^^^^^^^^^^^^\n",
      "  File \"/home/michael/Documents/no-ur-awesome/py/.venv/lib/python3.11/site-packages/stack_data/core.py\", line 597, in stack_data\n",
      "    yield from collapse_repeated(\n",
      "    ^^^^^^^^^^^^^^^^^^^^^^^^^^^^^\n",
      "  File \"/home/michael/Documents/no-ur-awesome/py/.venv/lib/python3.11/site-packages/stack_data/utils.py\", line 83, in collapse_repeated\n",
      "    yield from map(mapper, original_group)\n",
      "    ^^^^^^^^^^^^^^^^^^^^^^^^^^^^^^^^^^^^^^\n",
      "  File \"/home/michael/Documents/no-ur-awesome/py/.venv/lib/python3.11/site-packages/stack_data/core.py\", line 587, in mapper\n",
      "    return cls(f, options)\n",
      "           ^^^^^^^^^^^^^^^\n",
      "  File \"/home/michael/Documents/no-ur-awesome/py/.venv/lib/python3.11/site-packages/stack_data/core.py\", line 551, in __init__\n",
      "    self.executing = Source.executing(frame_or_tb)\n",
      "                     ^^^^^^^^^^^^^^^^^^^^^^^^^^^^^\n",
      "  File \"/home/michael/Documents/no-ur-awesome/py/.venv/lib/python3.11/site-packages/executing/executing.py\", line 378, in executing\n",
      "    assert_(new_stmts <= stmts)\n",
      "    ^^^^^^^^^^^^^^^^^^^^^^^^^^^\n",
      "  File \"/home/michael/Documents/no-ur-awesome/py/.venv/lib/python3.11/site-packages/executing/executing.py\", line 154, in assert_\n",
      "    raise AssertionError(str(message))\n",
      "    ^^^^^^^^^^^^^^^^^^^^^^^^^^^^^^^^^^\n",
      "AssertionError\n"
     ]
    }
   ],
   "source": [
    "import os\n",
    "import json\n",
    "import shutil\n",
    "from pathlib import Path\n",
    "\n",
    "import requests\n",
    "import requests_cache\n",
    "\n",
    "from nya.config import settings"
   ]
  },
  {
   "cell_type": "code",
   "execution_count": null,
   "id": "ae8716d8-9f54-4696-b9fa-91082f4f15df",
   "metadata": {
    "execution": {
     "iopub.status.busy": "2023-01-06T04:45:59.776639Z",
     "iopub.status.idle": "2023-01-06T04:45:59.776789Z",
     "shell.execute_reply": "2023-01-06T04:45:59.776725Z",
     "shell.execute_reply.started": "2023-01-06T04:45:59.776718Z"
    },
    "tags": []
   },
   "outputs": [],
   "source": [
    "settings.dict()"
   ]
  },
  {
   "cell_type": "code",
   "execution_count": null,
   "id": "36474bd3-4115-4a74-9f1a-97c314f8cb17",
   "metadata": {},
   "outputs": [],
   "source": []
  }
 ],
 "metadata": {
  "kernelspec": {
   "display_name": "Python 3 (ipykernel)",
   "language": "python",
   "name": "python3"
  },
  "language_info": {
   "codemirror_mode": {
    "name": "ipython",
    "version": 3
   },
   "file_extension": ".py",
   "mimetype": "text/x-python",
   "name": "python",
   "nbconvert_exporter": "python",
   "pygments_lexer": "ipython3",
   "version": "3.11.0b3"
  }
 },
 "nbformat": 4,
 "nbformat_minor": 5
}
