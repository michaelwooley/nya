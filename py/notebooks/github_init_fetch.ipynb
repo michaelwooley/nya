{
 "cells": [
  {
   "cell_type": "markdown",
   "id": "b04f0eca-c3da-488d-ba35-d16d113f6e74",
   "metadata": {},
   "source": [
    "# Github: initial fetch"
   ]
  },
  {
   "cell_type": "code",
   "execution_count": 11,
   "id": "72093e7f-d1d4-4333-968b-c8fc3f2d8a5a",
   "metadata": {
    "execution": {
     "iopub.execute_input": "2023-01-06T05:08:56.632981Z",
     "iopub.status.busy": "2023-01-06T05:08:56.632549Z",
     "iopub.status.idle": "2023-01-06T05:08:56.662494Z",
     "shell.execute_reply": "2023-01-06T05:08:56.661848Z",
     "shell.execute_reply.started": "2023-01-06T05:08:56.632945Z"
    }
   },
   "outputs": [],
   "source": [
    "%load_ext rich"
   ]
  },
  {
   "cell_type": "code",
   "execution_count": 29,
   "id": "a1c4c09c-d0aa-4db3-9814-60a21008555a",
   "metadata": {
    "execution": {
     "iopub.execute_input": "2023-01-06T05:11:46.236303Z",
     "iopub.status.busy": "2023-01-06T05:11:46.236122Z",
     "iopub.status.idle": "2023-01-06T05:11:46.239130Z",
     "shell.execute_reply": "2023-01-06T05:11:46.238756Z",
     "shell.execute_reply.started": "2023-01-06T05:11:46.236290Z"
    },
    "tags": []
   },
   "outputs": [],
   "source": [
    "import os\n",
    "import json\n",
    "import shutil\n",
    "from pathlib import Path\n",
    "\n",
    "from rich import print\n",
    "\n",
    "import requests\n",
    "import requests_cache\n",
    "\n",
    "from nya.config import settings"
   ]
  },
  {
   "cell_type": "code",
   "execution_count": 47,
   "id": "a5a73a5f-99c7-4412-b37e-3df69d73bddd",
   "metadata": {
    "execution": {
     "iopub.execute_input": "2023-01-06T05:23:49.321706Z",
     "iopub.status.busy": "2023-01-06T05:23:49.321547Z",
     "iopub.status.idle": "2023-01-06T05:23:49.325789Z",
     "shell.execute_reply": "2023-01-06T05:23:49.325214Z",
     "shell.execute_reply.started": "2023-01-06T05:23:49.321694Z"
    },
    "tags": []
   },
   "outputs": [],
   "source": [
    "session_backend = requests_cache.SQLiteCache(db_path=settings.github_cache_path)\n",
    "session = requests_cache.CachedSession(\n",
    "    backend=session_backend,\n",
    "    expire_after= {\n",
    "        '*.github.com': 360,  # Placeholder expiration; should be overridden by Cache-Control\n",
    "        '*': requests_cache.DO_NOT_CACHE,  # Don't cache anything other than GitHub requests\n",
    "    },#0.0001, #settings.github_cache_expires,\n",
    "    should_strip_auth=True,\n",
    "    ignored_parameters=[\"Authorization\",\"authorization\"],\n",
    "    cache_control=True,\n",
    ")"
   ]
  },
  {
   "cell_type": "markdown",
   "id": "79cb1086-c156-4900-8edd-49b5fe2b2eee",
   "metadata": {},
   "source": [
    "# Get a repository\n",
    "\n",
    "- [api docs](https://docs.github.com/en/rest/repos/repos#get-a-repository)"
   ]
  },
  {
   "cell_type": "code",
   "execution_count": 48,
   "id": "dbad8c42-0f68-4204-97fc-48e7d0fca6c3",
   "metadata": {
    "execution": {
     "iopub.execute_input": "2023-01-06T05:23:50.648887Z",
     "iopub.status.busy": "2023-01-06T05:23:50.647746Z",
     "iopub.status.idle": "2023-01-06T05:23:50.657484Z",
     "shell.execute_reply": "2023-01-06T05:23:50.656545Z",
     "shell.execute_reply.started": "2023-01-06T05:23:50.648837Z"
    },
    "tags": []
   },
   "outputs": [],
   "source": [
    "owner = \"PyGithub\"\n",
    "repo = \"PyGithub\"\n",
    "\n",
    "url = \"https://api.github.com/repos/{owner:}/{repo:}\".format(owner=owner, repo=repo)\n",
    "\n",
    "headers = {\n",
    "    \"Accept\": \"application/vnd.github+json\",\n",
    "    \"Authorization\": f\"Bearer {settings.github_token.get_secret_value()}\",\n",
    "    \"X-GitHub-Api-Version\": \"2022-11-28\"\n",
    "}\n",
    "\n",
    "res = session.get(url, headers=headers)\n",
    "\n",
    "# res.raise_for_status()"
   ]
  },
  {
   "cell_type": "code",
   "execution_count": 49,
   "id": "2b755a4f-c708-4337-ae0b-e970ef9ce9ec",
   "metadata": {
    "execution": {
     "iopub.execute_input": "2023-01-06T05:23:51.793282Z",
     "iopub.status.busy": "2023-01-06T05:23:51.793026Z",
     "iopub.status.idle": "2023-01-06T05:23:51.799974Z",
     "shell.execute_reply": "2023-01-06T05:23:51.799554Z",
     "shell.execute_reply.started": "2023-01-06T05:23:51.793253Z"
    },
    "tags": []
   },
   "outputs": [
    {
     "data": {
      "text/html": [
       "<pre style=\"white-space:pre;overflow-x:auto;line-height:normal;font-family:Menlo,'DejaVu Sans Mono',consolas,'Courier New',monospace\"><span style=\"color: #008000; text-decoration-color: #008000\">'{\"id\":3544490,\"node_id\":\"MDEwOlJlcG9zaXRvcnkzNTQ0NDkw\",\"name\":\"PyGithub\",\"full_name\":\"PyGithub/PyGithub\",\"private\":false,\"owner\":{\"login\":\"PyGithub\",\"id\":11288996,\"node_id\":\"MDEyOk9yZ2FuaXphdGlvbjExMjg4OTk2\",\"avatar_url\":\"https://avatars.githubusercontent.com/u/11288996?v=4\",\"gravatar_id\":\"\",\"url\":\"https://api.github.com/users/PyGithub\",\"html_url\":\"https://github.com/PyGithub\",\"followers_url\":\"https://api.github.com/users/PyGithub/followers\",\"following_url\":\"https://api.github.com/users/PyGithub/following{/other_user}\",\"gists_url\":\"https://api.github.com/users/PyGithub/gists{/gist_id}\",\"starred_url\":\"https://api.github.com/users/PyGithub/starred{/owner}{/repo}\",\"subscriptions_url\":\"https://api.github.com/users/PyGithub/subscriptions\",\"organizations_url\":\"https://api.github.com/users/PyGithub/orgs\",\"repos_url\":\"https://api.github.com/users/PyGithub/repos\",\"events_url\":\"https://api.github.com/users/PyGithub/events{/privacy}\",\"received_events_url\":\"https://api.github.com/users/PyGithub/received_events\",\"type\":\"Organization\",\"site_admin\":false},\"html_url\":\"https://github.com/PyGithub/PyGithub\",\"description\":\"Typed interactions with the GitHub API v3\",\"fork\":false,\"url\":\"https://api.github.com/repos/PyGithub/PyGithub\",\"forks_url\":\"https://api.github.com/repos/PyGithub/PyGithub/forks\",\"keys_url\":\"https://api.github.com/repos/PyGithub/PyGithub/keys{/key_id}\",\"collaborators_url\":\"https://api.github.com/repos/PyGithub/PyGithub/collaborators{/collaborator}\",\"teams_url\":\"https://api.github.com/repos/PyGithub/PyGithub/teams\",\"hooks_url\":\"https://api.github.com/repos/PyGithub/PyGithub/hooks\",\"issue_events_url\":\"https://api.github.com/repos/PyGithub/PyGithub/issues/events{/number}\",\"events_url\":\"https://api.github.com/repos/PyGithub/PyGithub/events\",\"assignees_url\":\"https://api.github.com/repos/PyGithub/PyGithub/assignees{/user}\",\"branches_url\":\"https://api.github.com/repos/PyGithub/PyGithub/branches{/branch}\",\"tags_url\":\"https://api.github.com/repos/PyGithub/PyGithub/tags\",\"blobs_url\":\"https://api.github.com/repos/PyGithub/PyGithub/git/blobs{/sha}\",\"git_tags_url\":\"https://api.github.com/repos/PyGithub/PyGithub/git/tags{/sha}\",\"git_refs_url\":\"https://api.github.com/repos/PyGithub/PyGithub/git/refs{/sha}\",\"trees_url\":\"https://api.github.com/repos/PyGithub/PyGithub/git/trees{/sha}\",\"statuses_url\":\"https://api.github.com/repos/PyGithub/PyGithub/statuses/{sha}\",\"languages_url\":\"https://api.github.com/repos/PyGithub/PyGithub/languages\",\"stargazers_url\":\"https://api.github.com/repos/PyGithub/PyGithub/stargazers\",\"contributors_url\":\"https://api.github.com/repos/PyGithub/PyGithub/contributors\",\"subscribers_url\":\"https://api.github.com/repos/PyGithub/PyGithub/subscribers\",\"subscription_url\":\"https://api.github.com/repos/PyGithub/PyGithub/subscription\",\"commits_url\":\"https://api.github.com/repos/PyGithub/PyGithub/commits{/sha}\",\"git_commits_url\":\"https://api.github.com/repos/PyGithub/PyGithub/git/commits{/sha}\",\"comments_url\":\"https://api.github.com/repos/PyGithub/PyGithub/comments{/number}\",\"issue_comment_url\":\"https://api.github.com/repos/PyGithub/PyGithub/issues/comments{/number}\",\"contents_url\":\"https://api.github.com/repos/PyGithub/PyGithub/contents/{+path}\",\"compare_url\":\"https://api.github.com/repos/PyGithub/PyGithub/compare/{base}...{head}\",\"merges_url\":\"https://api.github.com/repos/PyGithub/PyGithub/merges\",\"archive_url\":\"https://api.github.com/repos/PyGithub/PyGithub/{archive_format}{/ref}\",\"downloads_url\":\"https://api.github.com/repos/PyGithub/PyGithub/downloads\",\"issues_url\":\"https://api.github.com/repos/PyGithub/PyGithub/issues{/number}\",\"pulls_url\":\"https://api.github.com/repos/PyGithub/PyGithub/pulls{/number}\",\"milestones_url\":\"https://api.github.com/repos/PyGithub/PyGithub/milestones{/number}\",\"notifications_url\":\"https://api.github.com/repos/PyGithub/PyGithub/notifications{?since,all,participating}\",\"labels_url\":\"https://api.github.com/repos/PyGithub/PyGithub/labels{/name}\",\"releases_url\":\"https://api.github.com/repos/PyGithub/PyGithub/releases{/id}\",\"deployments_url\":\"https://api.github.com/repos/PyGithub/PyGithub/deployments\",\"created_at\":\"2012-02-25T12:53:47Z\",\"updated_at\":\"2023-01-05T23:37:33Z\",\"pushed_at\":\"2023-01-03T15:03:28Z\",\"git_url\":\"git://github.com/PyGithub/PyGithub.git\",\"ssh_url\":\"git@github.com:PyGithub/PyGithub.git\",\"clone_url\":\"https://github.com/PyGithub/PyGithub.git\",\"svn_url\":\"https://github.com/PyGithub/PyGithub\",\"homepage\":\"https://pygithub.readthedocs.io/\",\"size\":13674,\"stargazers_count\":5714,\"watchers_count\":5714,\"language\":\"Python\",\"has_issues\":true,\"has_projects\":true,\"has_downloads\":true,\"has_wiki\":false,\"has_pages\":false,\"has_discussions\":true,\"forks_count\":1577,\"mirror_url\":null,\"archived\":false,\"disabled\":false,\"open_issues_count\":187,\"license\":{\"key\":\"lgpl-3.0\",\"name\":\"GNU Lesser General Public License v3.0\",\"spdx_id\":\"LGPL-3.0\",\"url\":\"https://api.github.com/licenses/lgpl-3.0\",\"node_id\":\"MDc6TGljZW5zZTEy\"},\"allow_forking\":true,\"is_template\":false,\"web_commit_signoff_required\":false,\"topics\":[\"github\",\"github-api\",\"pygithub\",\"python\"],\"visibility\":\"public\",\"forks\":1577,\"open_issues\":187,\"watchers\":5714,\"default_branch\":\"master\",\"permissions\":{\"admin\":false,\"maintain\":false,\"push\":false,\"triage\":false,\"pull\":true},\"temp_clone_token\":\"\",\"organization\":{\"login\":\"PyGithub\",\"id\":11288996,\"node_id\":\"MDEyOk9yZ2FuaXphdGlvbjExMjg4OTk2\",\"avatar_url\":\"https://avatars.githubusercontent.com/u/11288996?v=4\",\"gravatar_id\":\"\",\"url\":\"https://api.github.com/users/PyGithub\",\"html_url\":\"https://github.com/PyGithub\",\"followers_url\":\"https://api.github.com/users/PyGithub/followers\",\"following_url\":\"https://api.github.com/users/PyGithub/following{/other_user}\",\"gists_url\":\"https://api.github.com/users/PyGithub/gists{/gist_id}\",\"starred_url\":\"https://api.github.com/users/PyGithub/starred{/owner}{/repo}\",\"subscriptions_url\":\"https://api.github.com/users/PyGithub/subscriptions\",\"organizations_url\":\"https://api.github.com/users/PyGithub/orgs\",\"repos_url\":\"https://api.github.com/users/PyGithub/repos\",\"events_url\":\"https://api.github.com/users/PyGithub/events{/privacy}\",\"received_events_url\":\"https://api.github.com/users/PyGithub/received_events\",\"type\":\"Organization\",\"site_admin\":false},\"network_count\":1577,\"subscribers_count\":114}'</span>\n",
       "</pre>\n"
      ],
      "text/plain": [
       "\u001b[32m'\u001b[0m\u001b[32m{\u001b[0m\u001b[32m\"id\":3544490,\"node_id\":\"MDEwOlJlcG9zaXRvcnkzNTQ0NDkw\",\"name\":\"PyGithub\",\"full_name\":\"PyGithub/PyGithub\",\"private\":false,\"owner\":\u001b[0m\u001b[32m{\u001b[0m\u001b[32m\"login\":\"PyGithub\",\"id\":11288996,\"node_id\":\"MDEyOk9yZ2FuaXphdGlvbjExMjg4OTk2\",\"avatar_url\":\"https://avatars.githubusercontent.com/u/11288996?\u001b[0m\u001b[32mv\u001b[0m\u001b[32m=\u001b[0m\u001b[32m4\"\u001b[0m\u001b[32m,\"gravatar_id\":\"\",\"url\":\"https://api.github.com/users/PyGithub\",\"html_url\":\"https://github.com/PyGithub\",\"followers_url\":\"https://api.github.com/users/PyGithub/followers\",\"following_url\":\"https://api.github.com/users/PyGithub/following\u001b[0m\u001b[32m{\u001b[0m\u001b[32m/other_user\u001b[0m\u001b[32m}\u001b[0m\u001b[32m\",\"gists_url\":\"https://api.github.com/users/PyGithub/gists\u001b[0m\u001b[32m{\u001b[0m\u001b[32m/gist_id\u001b[0m\u001b[32m}\u001b[0m\u001b[32m\",\"starred_url\":\"https://api.github.com/users/PyGithub/starred\u001b[0m\u001b[32m{\u001b[0m\u001b[32m/owner\u001b[0m\u001b[32m}\u001b[0m\u001b[32m{\u001b[0m\u001b[32m/repo\u001b[0m\u001b[32m}\u001b[0m\u001b[32m\",\"subscriptions_url\":\"https://api.github.com/users/PyGithub/subscriptions\",\"organizations_url\":\"https://api.github.com/users/PyGithub/orgs\",\"repos_url\":\"https://api.github.com/users/PyGithub/repos\",\"events_url\":\"https://api.github.com/users/PyGithub/events\u001b[0m\u001b[32m{\u001b[0m\u001b[32m/privacy\u001b[0m\u001b[32m}\u001b[0m\u001b[32m\",\"received_events_url\":\"https://api.github.com/users/PyGithub/received_events\",\"type\":\"Organization\",\"site_admin\":false\u001b[0m\u001b[32m}\u001b[0m\u001b[32m,\"html_url\":\"https://github.com/PyGithub/PyGithub\",\"description\":\"Typed interactions with the GitHub API v3\",\"fork\":false,\"url\":\"https://api.github.com/repos/PyGithub/PyGithub\",\"forks_url\":\"https://api.github.com/repos/PyGithub/PyGithub/forks\",\"keys_url\":\"https://api.github.com/repos/PyGithub/PyGithub/keys\u001b[0m\u001b[32m{\u001b[0m\u001b[32m/key_id\u001b[0m\u001b[32m}\u001b[0m\u001b[32m\",\"collaborators_url\":\"https://api.github.com/repos/PyGithub/PyGithub/collaborators\u001b[0m\u001b[32m{\u001b[0m\u001b[32m/collaborator\u001b[0m\u001b[32m}\u001b[0m\u001b[32m\",\"teams_url\":\"https://api.github.com/repos/PyGithub/PyGithub/teams\",\"hooks_url\":\"https://api.github.com/repos/PyGithub/PyGithub/hooks\",\"issue_events_url\":\"https://api.github.com/repos/PyGithub/PyGithub/issues/events\u001b[0m\u001b[32m{\u001b[0m\u001b[32m/number\u001b[0m\u001b[32m}\u001b[0m\u001b[32m\",\"events_url\":\"https://api.github.com/repos/PyGithub/PyGithub/events\",\"assignees_url\":\"https://api.github.com/repos/PyGithub/PyGithub/assignees\u001b[0m\u001b[32m{\u001b[0m\u001b[32m/user\u001b[0m\u001b[32m}\u001b[0m\u001b[32m\",\"branches_url\":\"https://api.github.com/repos/PyGithub/PyGithub/branches\u001b[0m\u001b[32m{\u001b[0m\u001b[32m/branch\u001b[0m\u001b[32m}\u001b[0m\u001b[32m\",\"tags_url\":\"https://api.github.com/repos/PyGithub/PyGithub/tags\",\"blobs_url\":\"https://api.github.com/repos/PyGithub/PyGithub/git/blobs\u001b[0m\u001b[32m{\u001b[0m\u001b[32m/sha\u001b[0m\u001b[32m}\u001b[0m\u001b[32m\",\"git_tags_url\":\"https://api.github.com/repos/PyGithub/PyGithub/git/tags\u001b[0m\u001b[32m{\u001b[0m\u001b[32m/sha\u001b[0m\u001b[32m}\u001b[0m\u001b[32m\",\"git_refs_url\":\"https://api.github.com/repos/PyGithub/PyGithub/git/refs\u001b[0m\u001b[32m{\u001b[0m\u001b[32m/sha\u001b[0m\u001b[32m}\u001b[0m\u001b[32m\",\"trees_url\":\"https://api.github.com/repos/PyGithub/PyGithub/git/trees\u001b[0m\u001b[32m{\u001b[0m\u001b[32m/sha\u001b[0m\u001b[32m}\u001b[0m\u001b[32m\",\"statuses_url\":\"https://api.github.com/repos/PyGithub/PyGithub/statuses/\u001b[0m\u001b[32m{\u001b[0m\u001b[32msha\u001b[0m\u001b[32m}\u001b[0m\u001b[32m\",\"languages_url\":\"https://api.github.com/repos/PyGithub/PyGithub/languages\",\"stargazers_url\":\"https://api.github.com/repos/PyGithub/PyGithub/stargazers\",\"contributors_url\":\"https://api.github.com/repos/PyGithub/PyGithub/contributors\",\"subscribers_url\":\"https://api.github.com/repos/PyGithub/PyGithub/subscribers\",\"subscription_url\":\"https://api.github.com/repos/PyGithub/PyGithub/subscription\",\"commits_url\":\"https://api.github.com/repos/PyGithub/PyGithub/commits\u001b[0m\u001b[32m{\u001b[0m\u001b[32m/sha\u001b[0m\u001b[32m}\u001b[0m\u001b[32m\",\"git_commits_url\":\"https://api.github.com/repos/PyGithub/PyGithub/git/commits\u001b[0m\u001b[32m{\u001b[0m\u001b[32m/sha\u001b[0m\u001b[32m}\u001b[0m\u001b[32m\",\"comments_url\":\"https://api.github.com/repos/PyGithub/PyGithub/comments\u001b[0m\u001b[32m{\u001b[0m\u001b[32m/number\u001b[0m\u001b[32m}\u001b[0m\u001b[32m\",\"issue_comment_url\":\"https://api.github.com/repos/PyGithub/PyGithub/issues/comments\u001b[0m\u001b[32m{\u001b[0m\u001b[32m/number\u001b[0m\u001b[32m}\u001b[0m\u001b[32m\",\"contents_url\":\"https://api.github.com/repos/PyGithub/PyGithub/contents/\u001b[0m\u001b[32m{\u001b[0m\u001b[32m+path\u001b[0m\u001b[32m}\u001b[0m\u001b[32m\",\"compare_url\":\"https://api.github.com/repos/PyGithub/PyGithub/compare/\u001b[0m\u001b[32m{\u001b[0m\u001b[32mbase\u001b[0m\u001b[32m}\u001b[0m\u001b[32m...\u001b[0m\u001b[32m{\u001b[0m\u001b[32mhead\u001b[0m\u001b[32m}\u001b[0m\u001b[32m\",\"merges_url\":\"https://api.github.com/repos/PyGithub/PyGithub/merges\",\"archive_url\":\"https://api.github.com/repos/PyGithub/PyGithub/\u001b[0m\u001b[32m{\u001b[0m\u001b[32marchive_format\u001b[0m\u001b[32m}\u001b[0m\u001b[32m{\u001b[0m\u001b[32m/ref\u001b[0m\u001b[32m}\u001b[0m\u001b[32m\",\"downloads_url\":\"https://api.github.com/repos/PyGithub/PyGithub/downloads\",\"issues_url\":\"https://api.github.com/repos/PyGithub/PyGithub/issues\u001b[0m\u001b[32m{\u001b[0m\u001b[32m/number\u001b[0m\u001b[32m}\u001b[0m\u001b[32m\",\"pulls_url\":\"https://api.github.com/repos/PyGithub/PyGithub/pulls\u001b[0m\u001b[32m{\u001b[0m\u001b[32m/number\u001b[0m\u001b[32m}\u001b[0m\u001b[32m\",\"milestones_url\":\"https://api.github.com/repos/PyGithub/PyGithub/milestones\u001b[0m\u001b[32m{\u001b[0m\u001b[32m/number\u001b[0m\u001b[32m}\u001b[0m\u001b[32m\",\"notifications_url\":\"https://api.github.com/repos/PyGithub/PyGithub/notifications\u001b[0m\u001b[32m{\u001b[0m\u001b[32m?since,all,participating\u001b[0m\u001b[32m}\u001b[0m\u001b[32m\",\"labels_url\":\"https://api.github.com/repos/PyGithub/PyGithub/labels\u001b[0m\u001b[32m{\u001b[0m\u001b[32m/name\u001b[0m\u001b[32m}\u001b[0m\u001b[32m\",\"releases_url\":\"https://api.github.com/repos/PyGithub/PyGithub/releases\u001b[0m\u001b[32m{\u001b[0m\u001b[32m/id\u001b[0m\u001b[32m}\u001b[0m\u001b[32m\",\"deployments_url\":\"https://api.github.com/repos/PyGithub/PyGithub/deployments\",\"created_at\":\"2012-02-25T12:53:47Z\",\"updated_at\":\"2023-01-05T23:37:33Z\",\"pushed_at\":\"2023-01-03T15:03:28Z\",\"git_url\":\"git://github.com/PyGithub/PyGithub.git\",\"ssh_url\":\"git@github.com:PyGithub/PyGithub.git\",\"clone_url\":\"https://github.com/PyGithub/PyGithub.git\",\"svn_url\":\"https://github.com/PyGithub/PyGithub\",\"homepage\":\"https://pygithub.readthedocs.io/\",\"size\":13674,\"stargazers_count\":5714,\"watchers_count\":5714,\"language\":\"Python\",\"has_issues\":true,\"has_projects\":true,\"has_downloads\":true,\"has_wiki\":false,\"has_pages\":false,\"has_discussions\":true,\"forks_count\":1577,\"mirror_url\":null,\"archived\":false,\"disabled\":false,\"open_issues_count\":187,\"license\":\u001b[0m\u001b[32m{\u001b[0m\u001b[32m\"key\":\"lgpl-3.0\",\"name\":\"GNU Lesser General Public License v3.0\",\"spdx_id\":\"LGPL-3.0\",\"url\":\"https://api.github.com/licenses/lgpl-3.0\",\"node_id\":\"MDc6TGljZW5zZTEy\"\u001b[0m\u001b[32m}\u001b[0m\u001b[32m,\"allow_forking\":true,\"is_template\":false,\"web_commit_signoff_required\":false,\"topics\":\u001b[0m\u001b[32m[\u001b[0m\u001b[32m\"github\",\"github-api\",\"pygithub\",\"python\"\u001b[0m\u001b[32m]\u001b[0m\u001b[32m,\"visibility\":\"public\",\"forks\":1577,\"open_issues\":187,\"watchers\":5714,\"default_branch\":\"master\",\"permissions\":\u001b[0m\u001b[32m{\u001b[0m\u001b[32m\"admin\":false,\"maintain\":false,\"push\":false,\"triage\":false,\"pull\":true\u001b[0m\u001b[32m}\u001b[0m\u001b[32m,\"temp_clone_token\":\"\",\"organization\":\u001b[0m\u001b[32m{\u001b[0m\u001b[32m\"login\":\"PyGithub\",\"id\":11288996,\"node_id\":\"MDEyOk9yZ2FuaXphdGlvbjExMjg4OTk2\",\"avatar_url\":\"https://avatars.githubusercontent.com/u/11288996?\u001b[0m\u001b[32mv\u001b[0m\u001b[32m=\u001b[0m\u001b[32m4\"\u001b[0m\u001b[32m,\"gravatar_id\":\"\",\"url\":\"https://api.github.com/users/PyGithub\",\"html_url\":\"https://github.com/PyGithub\",\"followers_url\":\"https://api.github.com/users/PyGithub/followers\",\"following_url\":\"https://api.github.com/users/PyGithub/following\u001b[0m\u001b[32m{\u001b[0m\u001b[32m/other_user\u001b[0m\u001b[32m}\u001b[0m\u001b[32m\",\"gists_url\":\"https://api.github.com/users/PyGithub/gists\u001b[0m\u001b[32m{\u001b[0m\u001b[32m/gist_id\u001b[0m\u001b[32m}\u001b[0m\u001b[32m\",\"starred_url\":\"https://api.github.com/users/PyGithub/starred\u001b[0m\u001b[32m{\u001b[0m\u001b[32m/owner\u001b[0m\u001b[32m}\u001b[0m\u001b[32m{\u001b[0m\u001b[32m/repo\u001b[0m\u001b[32m}\u001b[0m\u001b[32m\",\"subscriptions_url\":\"https://api.github.com/users/PyGithub/subscriptions\",\"organizations_url\":\"https://api.github.com/users/PyGithub/orgs\",\"repos_url\":\"https://api.github.com/users/PyGithub/repos\",\"events_url\":\"https://api.github.com/users/PyGithub/events\u001b[0m\u001b[32m{\u001b[0m\u001b[32m/privacy\u001b[0m\u001b[32m}\u001b[0m\u001b[32m\",\"received_events_url\":\"https://api.github.com/users/PyGithub/received_events\",\"type\":\"Organization\",\"site_admin\":false\u001b[0m\u001b[32m}\u001b[0m\u001b[32m,\"network_count\":1577,\"subscribers_count\":114\u001b[0m\u001b[32m}\u001b[0m\u001b[32m'\u001b[0m\n"
      ]
     },
     "metadata": {},
     "output_type": "display_data"
    }
   ],
   "source": [
    "res.text"
   ]
  },
  {
   "cell_type": "code",
   "execution_count": 62,
   "id": "b2856e9d-55eb-4dfa-8b96-da8d31f916b3",
   "metadata": {
    "execution": {
     "iopub.execute_input": "2023-01-06T05:29:32.084127Z",
     "iopub.status.busy": "2023-01-06T05:29:32.083955Z",
     "iopub.status.idle": "2023-01-06T05:29:32.087822Z",
     "shell.execute_reply": "2023-01-06T05:29:32.087464Z",
     "shell.execute_reply.started": "2023-01-06T05:29:32.084114Z"
    },
    "tags": []
   },
   "outputs": [
    {
     "data": {
      "text/html": [
       "<pre style=\"white-space:pre;overflow-x:auto;line-height:normal;font-family:Menlo,'DejaVu Sans Mono',consolas,'Courier New',monospace\"><span style=\"font-weight: bold\">{</span><span style=\"color: #008000; text-decoration-color: #008000\">'Accept'</span>: <span style=\"color: #008000; text-decoration-color: #008000\">'application/vnd.github+json'</span>, <span style=\"color: #008000; text-decoration-color: #008000\">'Accept-Encoding'</span>: <span style=\"color: #008000; text-decoration-color: #008000\">'gzip, deflate'</span>, <span style=\"color: #008000; text-decoration-color: #008000\">'Connection'</span>: <span style=\"color: #008000; text-decoration-color: #008000\">'keep-alive'</span>, \n",
       "<span style=\"color: #008000; text-decoration-color: #008000\">'User-Agent'</span>: <span style=\"color: #008000; text-decoration-color: #008000\">'python-requests/2.28.1'</span>, <span style=\"color: #008000; text-decoration-color: #008000\">'X-GitHub-Api-Version'</span>: <span style=\"color: #008000; text-decoration-color: #008000\">'2022-11-28'</span><span style=\"font-weight: bold\">}</span>\n",
       "</pre>\n"
      ],
      "text/plain": [
       "\u001b[1m{\u001b[0m\u001b[32m'Accept'\u001b[0m: \u001b[32m'application/vnd.github+json'\u001b[0m, \u001b[32m'Accept-Encoding'\u001b[0m: \u001b[32m'gzip, deflate'\u001b[0m, \u001b[32m'Connection'\u001b[0m: \u001b[32m'keep-alive'\u001b[0m, \n",
       "\u001b[32m'User-Agent'\u001b[0m: \u001b[32m'python-requests/2.28.1'\u001b[0m, \u001b[32m'X-GitHub-Api-Version'\u001b[0m: \u001b[32m'2022-11-28'\u001b[0m\u001b[1m}\u001b[0m\n"
      ]
     },
     "metadata": {},
     "output_type": "display_data"
    }
   ],
   "source": [
    "print(res.request.headers)"
   ]
  },
  {
   "cell_type": "code",
   "execution_count": 52,
   "id": "14021832-9835-4517-af2d-6f3e81074ee5",
   "metadata": {
    "execution": {
     "iopub.execute_input": "2023-01-06T05:23:55.881426Z",
     "iopub.status.busy": "2023-01-06T05:23:55.881112Z",
     "iopub.status.idle": "2023-01-06T05:23:55.897238Z",
     "shell.execute_reply": "2023-01-06T05:23:55.896734Z",
     "shell.execute_reply.started": "2023-01-06T05:23:55.881404Z"
    },
    "tags": []
   },
   "outputs": [
    {
     "data": {
      "text/html": [
       "<pre style=\"white-space:pre;overflow-x:auto;line-height:normal;font-family:Menlo,'DejaVu Sans Mono',consolas,'Courier New',monospace\">\n",
       "<span style=\"font-weight: bold\">{</span>\n",
       "    <span style=\"color: #008000; text-decoration-color: #008000\">'id'</span>: <span style=\"color: #008080; text-decoration-color: #008080; font-weight: bold\">3544490</span>,\n",
       "    <span style=\"color: #008000; text-decoration-color: #008000\">'node_id'</span>: <span style=\"color: #008000; text-decoration-color: #008000\">'MDEwOlJlcG9zaXRvcnkzNTQ0NDkw'</span>,\n",
       "    <span style=\"color: #008000; text-decoration-color: #008000\">'name'</span>: <span style=\"color: #008000; text-decoration-color: #008000\">'PyGithub'</span>,\n",
       "    <span style=\"color: #008000; text-decoration-color: #008000\">'full_name'</span>: <span style=\"color: #008000; text-decoration-color: #008000\">'PyGithub/PyGithub'</span>,\n",
       "    <span style=\"color: #008000; text-decoration-color: #008000\">'private'</span>: <span style=\"color: #ff0000; text-decoration-color: #ff0000; font-style: italic\">False</span>,\n",
       "    <span style=\"color: #008000; text-decoration-color: #008000\">'owner'</span>: <span style=\"font-weight: bold\">{</span>\n",
       "        <span style=\"color: #008000; text-decoration-color: #008000\">'login'</span>: <span style=\"color: #008000; text-decoration-color: #008000\">'PyGithub'</span>,\n",
       "        <span style=\"color: #008000; text-decoration-color: #008000\">'id'</span>: <span style=\"color: #008080; text-decoration-color: #008080; font-weight: bold\">11288996</span>,\n",
       "        <span style=\"color: #008000; text-decoration-color: #008000\">'node_id'</span>: <span style=\"color: #008000; text-decoration-color: #008000\">'MDEyOk9yZ2FuaXphdGlvbjExMjg4OTk2'</span>,\n",
       "        <span style=\"color: #008000; text-decoration-color: #008000\">'avatar_url'</span>: <span style=\"color: #008000; text-decoration-color: #008000\">'https://avatars.githubusercontent.com/u/11288996?v=4'</span>,\n",
       "        <span style=\"color: #008000; text-decoration-color: #008000\">'gravatar_id'</span>: <span style=\"color: #008000; text-decoration-color: #008000\">''</span>,\n",
       "        <span style=\"color: #008000; text-decoration-color: #008000\">'url'</span>: <span style=\"color: #008000; text-decoration-color: #008000\">'https://api.github.com/users/PyGithub'</span>,\n",
       "        <span style=\"color: #008000; text-decoration-color: #008000\">'html_url'</span>: <span style=\"color: #008000; text-decoration-color: #008000\">'https://github.com/PyGithub'</span>,\n",
       "        <span style=\"color: #008000; text-decoration-color: #008000\">'followers_url'</span>: <span style=\"color: #008000; text-decoration-color: #008000\">'https://api.github.com/users/PyGithub/followers'</span>,\n",
       "        <span style=\"color: #008000; text-decoration-color: #008000\">'following_url'</span>: <span style=\"color: #008000; text-decoration-color: #008000\">'https://api.github.com/users/PyGithub/following{/other_user}'</span>,\n",
       "        <span style=\"color: #008000; text-decoration-color: #008000\">'gists_url'</span>: <span style=\"color: #008000; text-decoration-color: #008000\">'https://api.github.com/users/PyGithub/gists{/gist_id}'</span>,\n",
       "        <span style=\"color: #008000; text-decoration-color: #008000\">'starred_url'</span>: <span style=\"color: #008000; text-decoration-color: #008000\">'https://api.github.com/users/PyGithub/starred{/owner}{/repo}'</span>,\n",
       "        <span style=\"color: #008000; text-decoration-color: #008000\">'subscriptions_url'</span>: <span style=\"color: #008000; text-decoration-color: #008000\">'https://api.github.com/users/PyGithub/subscriptions'</span>,\n",
       "        <span style=\"color: #008000; text-decoration-color: #008000\">'organizations_url'</span>: <span style=\"color: #008000; text-decoration-color: #008000\">'https://api.github.com/users/PyGithub/orgs'</span>,\n",
       "        <span style=\"color: #008000; text-decoration-color: #008000\">'repos_url'</span>: <span style=\"color: #008000; text-decoration-color: #008000\">'https://api.github.com/users/PyGithub/repos'</span>,\n",
       "        <span style=\"color: #008000; text-decoration-color: #008000\">'events_url'</span>: <span style=\"color: #008000; text-decoration-color: #008000\">'https://api.github.com/users/PyGithub/events{/privacy}'</span>,\n",
       "        <span style=\"color: #008000; text-decoration-color: #008000\">'received_events_url'</span>: <span style=\"color: #008000; text-decoration-color: #008000\">'https://api.github.com/users/PyGithub/received_events'</span>,\n",
       "        <span style=\"color: #008000; text-decoration-color: #008000\">'type'</span>: <span style=\"color: #008000; text-decoration-color: #008000\">'Organization'</span>,\n",
       "        <span style=\"color: #008000; text-decoration-color: #008000\">'site_admin'</span>: <span style=\"color: #ff0000; text-decoration-color: #ff0000; font-style: italic\">False</span>\n",
       "    <span style=\"font-weight: bold\">}</span>,\n",
       "    <span style=\"color: #008000; text-decoration-color: #008000\">'html_url'</span>: <span style=\"color: #008000; text-decoration-color: #008000\">'https://github.com/PyGithub/PyGithub'</span>,\n",
       "    <span style=\"color: #008000; text-decoration-color: #008000\">'description'</span>: <span style=\"color: #008000; text-decoration-color: #008000\">'Typed interactions with the GitHub API v3'</span>,\n",
       "    <span style=\"color: #008000; text-decoration-color: #008000\">'fork'</span>: <span style=\"color: #ff0000; text-decoration-color: #ff0000; font-style: italic\">False</span>,\n",
       "    <span style=\"color: #008000; text-decoration-color: #008000\">'url'</span>: <span style=\"color: #008000; text-decoration-color: #008000\">'https://api.github.com/repos/PyGithub/PyGithub'</span>,\n",
       "    <span style=\"color: #008000; text-decoration-color: #008000\">'forks_url'</span>: <span style=\"color: #008000; text-decoration-color: #008000\">'https://api.github.com/repos/PyGithub/PyGithub/forks'</span>,\n",
       "    <span style=\"color: #008000; text-decoration-color: #008000\">'keys_url'</span>: <span style=\"color: #008000; text-decoration-color: #008000\">'https://api.github.com/repos/PyGithub/PyGithub/keys{/key_id}'</span>,\n",
       "    <span style=\"color: #008000; text-decoration-color: #008000\">'collaborators_url'</span>: <span style=\"color: #008000; text-decoration-color: #008000\">'https://api.github.com/repos/PyGithub/PyGithub/collaborators{/collaborator}'</span>,\n",
       "    <span style=\"color: #008000; text-decoration-color: #008000\">'teams_url'</span>: <span style=\"color: #008000; text-decoration-color: #008000\">'https://api.github.com/repos/PyGithub/PyGithub/teams'</span>,\n",
       "    <span style=\"color: #008000; text-decoration-color: #008000\">'hooks_url'</span>: <span style=\"color: #008000; text-decoration-color: #008000\">'https://api.github.com/repos/PyGithub/PyGithub/hooks'</span>,\n",
       "    <span style=\"color: #008000; text-decoration-color: #008000\">'issue_events_url'</span>: <span style=\"color: #008000; text-decoration-color: #008000\">'https://api.github.com/repos/PyGithub/PyGithub/issues/events{/number}'</span>,\n",
       "    <span style=\"color: #008000; text-decoration-color: #008000\">'events_url'</span>: <span style=\"color: #008000; text-decoration-color: #008000\">'https://api.github.com/repos/PyGithub/PyGithub/events'</span>,\n",
       "    <span style=\"color: #008000; text-decoration-color: #008000\">'assignees_url'</span>: <span style=\"color: #008000; text-decoration-color: #008000\">'https://api.github.com/repos/PyGithub/PyGithub/assignees{/user}'</span>,\n",
       "    <span style=\"color: #008000; text-decoration-color: #008000\">'branches_url'</span>: <span style=\"color: #008000; text-decoration-color: #008000\">'https://api.github.com/repos/PyGithub/PyGithub/branches{/branch}'</span>,\n",
       "    <span style=\"color: #008000; text-decoration-color: #008000\">'tags_url'</span>: <span style=\"color: #008000; text-decoration-color: #008000\">'https://api.github.com/repos/PyGithub/PyGithub/tags'</span>,\n",
       "    <span style=\"color: #008000; text-decoration-color: #008000\">'blobs_url'</span>: <span style=\"color: #008000; text-decoration-color: #008000\">'https://api.github.com/repos/PyGithub/PyGithub/git/blobs{/sha}'</span>,\n",
       "    <span style=\"color: #008000; text-decoration-color: #008000\">'git_tags_url'</span>: <span style=\"color: #008000; text-decoration-color: #008000\">'https://api.github.com/repos/PyGithub/PyGithub/git/tags{/sha}'</span>,\n",
       "    <span style=\"color: #008000; text-decoration-color: #008000\">'git_refs_url'</span>: <span style=\"color: #008000; text-decoration-color: #008000\">'https://api.github.com/repos/PyGithub/PyGithub/git/refs{/sha}'</span>,\n",
       "    <span style=\"color: #008000; text-decoration-color: #008000\">'trees_url'</span>: <span style=\"color: #008000; text-decoration-color: #008000\">'https://api.github.com/repos/PyGithub/PyGithub/git/trees{/sha}'</span>,\n",
       "    <span style=\"color: #008000; text-decoration-color: #008000\">'statuses_url'</span>: <span style=\"color: #008000; text-decoration-color: #008000\">'https://api.github.com/repos/PyGithub/PyGithub/statuses/{sha}'</span>,\n",
       "    <span style=\"color: #008000; text-decoration-color: #008000\">'languages_url'</span>: <span style=\"color: #008000; text-decoration-color: #008000\">'https://api.github.com/repos/PyGithub/PyGithub/languages'</span>,\n",
       "    <span style=\"color: #008000; text-decoration-color: #008000\">'stargazers_url'</span>: <span style=\"color: #008000; text-decoration-color: #008000\">'https://api.github.com/repos/PyGithub/PyGithub/stargazers'</span>,\n",
       "    <span style=\"color: #008000; text-decoration-color: #008000\">'contributors_url'</span>: <span style=\"color: #008000; text-decoration-color: #008000\">'https://api.github.com/repos/PyGithub/PyGithub/contributors'</span>,\n",
       "    <span style=\"color: #008000; text-decoration-color: #008000\">'subscribers_url'</span>: <span style=\"color: #008000; text-decoration-color: #008000\">'https://api.github.com/repos/PyGithub/PyGithub/subscribers'</span>,\n",
       "    <span style=\"color: #008000; text-decoration-color: #008000\">'subscription_url'</span>: <span style=\"color: #008000; text-decoration-color: #008000\">'https://api.github.com/repos/PyGithub/PyGithub/subscription'</span>,\n",
       "    <span style=\"color: #008000; text-decoration-color: #008000\">'commits_url'</span>: <span style=\"color: #008000; text-decoration-color: #008000\">'https://api.github.com/repos/PyGithub/PyGithub/commits{/sha}'</span>,\n",
       "    <span style=\"color: #008000; text-decoration-color: #008000\">'git_commits_url'</span>: <span style=\"color: #008000; text-decoration-color: #008000\">'https://api.github.com/repos/PyGithub/PyGithub/git/commits{/sha}'</span>,\n",
       "    <span style=\"color: #008000; text-decoration-color: #008000\">'comments_url'</span>: <span style=\"color: #008000; text-decoration-color: #008000\">'https://api.github.com/repos/PyGithub/PyGithub/comments{/number}'</span>,\n",
       "    <span style=\"color: #008000; text-decoration-color: #008000\">'issue_comment_url'</span>: <span style=\"color: #008000; text-decoration-color: #008000\">'https://api.github.com/repos/PyGithub/PyGithub/issues/comments{/number}'</span>,\n",
       "    <span style=\"color: #008000; text-decoration-color: #008000\">'contents_url'</span>: <span style=\"color: #008000; text-decoration-color: #008000\">'https://api.github.com/repos/PyGithub/PyGithub/contents/{+path}'</span>,\n",
       "    <span style=\"color: #008000; text-decoration-color: #008000\">'compare_url'</span>: <span style=\"color: #008000; text-decoration-color: #008000\">'https://api.github.com/repos/PyGithub/PyGithub/compare/{base}...{head}'</span>,\n",
       "    <span style=\"color: #008000; text-decoration-color: #008000\">'merges_url'</span>: <span style=\"color: #008000; text-decoration-color: #008000\">'https://api.github.com/repos/PyGithub/PyGithub/merges'</span>,\n",
       "    <span style=\"color: #008000; text-decoration-color: #008000\">'archive_url'</span>: <span style=\"color: #008000; text-decoration-color: #008000\">'https://api.github.com/repos/PyGithub/PyGithub/{archive_format}{/ref}'</span>,\n",
       "    <span style=\"color: #008000; text-decoration-color: #008000\">'downloads_url'</span>: <span style=\"color: #008000; text-decoration-color: #008000\">'https://api.github.com/repos/PyGithub/PyGithub/downloads'</span>,\n",
       "    <span style=\"color: #008000; text-decoration-color: #008000\">'issues_url'</span>: <span style=\"color: #008000; text-decoration-color: #008000\">'https://api.github.com/repos/PyGithub/PyGithub/issues{/number}'</span>,\n",
       "    <span style=\"color: #008000; text-decoration-color: #008000\">'pulls_url'</span>: <span style=\"color: #008000; text-decoration-color: #008000\">'https://api.github.com/repos/PyGithub/PyGithub/pulls{/number}'</span>,\n",
       "    <span style=\"color: #008000; text-decoration-color: #008000\">'milestones_url'</span>: <span style=\"color: #008000; text-decoration-color: #008000\">'https://api.github.com/repos/PyGithub/PyGithub/milestones{/number}'</span>,\n",
       "    <span style=\"color: #008000; text-decoration-color: #008000\">'notifications_url'</span>: <span style=\"color: #008000; text-decoration-color: #008000\">'https://api.github.com/repos/PyGithub/PyGithub/notifications{?since,all,participating}'</span>,\n",
       "    <span style=\"color: #008000; text-decoration-color: #008000\">'labels_url'</span>: <span style=\"color: #008000; text-decoration-color: #008000\">'https://api.github.com/repos/PyGithub/PyGithub/labels{/name}'</span>,\n",
       "    <span style=\"color: #008000; text-decoration-color: #008000\">'releases_url'</span>: <span style=\"color: #008000; text-decoration-color: #008000\">'https://api.github.com/repos/PyGithub/PyGithub/releases{/id}'</span>,\n",
       "    <span style=\"color: #008000; text-decoration-color: #008000\">'deployments_url'</span>: <span style=\"color: #008000; text-decoration-color: #008000\">'https://api.github.com/repos/PyGithub/PyGithub/deployments'</span>,\n",
       "    <span style=\"color: #008000; text-decoration-color: #008000\">'created_at'</span>: <span style=\"color: #008000; text-decoration-color: #008000\">'2012-02-25T12:53:47Z'</span>,\n",
       "    <span style=\"color: #008000; text-decoration-color: #008000\">'updated_at'</span>: <span style=\"color: #008000; text-decoration-color: #008000\">'2023-01-05T23:37:33Z'</span>,\n",
       "    <span style=\"color: #008000; text-decoration-color: #008000\">'pushed_at'</span>: <span style=\"color: #008000; text-decoration-color: #008000\">'2023-01-03T15:03:28Z'</span>,\n",
       "    <span style=\"color: #008000; text-decoration-color: #008000\">'git_url'</span>: <span style=\"color: #008000; text-decoration-color: #008000\">'git://github.com/PyGithub/PyGithub.git'</span>,\n",
       "    <span style=\"color: #008000; text-decoration-color: #008000\">'ssh_url'</span>: <span style=\"color: #008000; text-decoration-color: #008000\">'git@github.com:PyGithub/PyGithub.git'</span>,\n",
       "    <span style=\"color: #008000; text-decoration-color: #008000\">'clone_url'</span>: <span style=\"color: #008000; text-decoration-color: #008000\">'https://github.com/PyGithub/PyGithub.git'</span>,\n",
       "    <span style=\"color: #008000; text-decoration-color: #008000\">'svn_url'</span>: <span style=\"color: #008000; text-decoration-color: #008000\">'https://github.com/PyGithub/PyGithub'</span>,\n",
       "    <span style=\"color: #008000; text-decoration-color: #008000\">'homepage'</span>: <span style=\"color: #008000; text-decoration-color: #008000\">'https://pygithub.readthedocs.io/'</span>,\n",
       "    <span style=\"color: #008000; text-decoration-color: #008000\">'size'</span>: <span style=\"color: #008080; text-decoration-color: #008080; font-weight: bold\">13674</span>,\n",
       "    <span style=\"color: #008000; text-decoration-color: #008000\">'stargazers_count'</span>: <span style=\"color: #008080; text-decoration-color: #008080; font-weight: bold\">5714</span>,\n",
       "    <span style=\"color: #008000; text-decoration-color: #008000\">'watchers_count'</span>: <span style=\"color: #008080; text-decoration-color: #008080; font-weight: bold\">5714</span>,\n",
       "    <span style=\"color: #008000; text-decoration-color: #008000\">'language'</span>: <span style=\"color: #008000; text-decoration-color: #008000\">'Python'</span>,\n",
       "    <span style=\"color: #008000; text-decoration-color: #008000\">'has_issues'</span>: <span style=\"color: #00ff00; text-decoration-color: #00ff00; font-style: italic\">True</span>,\n",
       "    <span style=\"color: #008000; text-decoration-color: #008000\">'has_projects'</span>: <span style=\"color: #00ff00; text-decoration-color: #00ff00; font-style: italic\">True</span>,\n",
       "    <span style=\"color: #008000; text-decoration-color: #008000\">'has_downloads'</span>: <span style=\"color: #00ff00; text-decoration-color: #00ff00; font-style: italic\">True</span>,\n",
       "    <span style=\"color: #008000; text-decoration-color: #008000\">'has_wiki'</span>: <span style=\"color: #ff0000; text-decoration-color: #ff0000; font-style: italic\">False</span>,\n",
       "    <span style=\"color: #008000; text-decoration-color: #008000\">'has_pages'</span>: <span style=\"color: #ff0000; text-decoration-color: #ff0000; font-style: italic\">False</span>,\n",
       "    <span style=\"color: #008000; text-decoration-color: #008000\">'has_discussions'</span>: <span style=\"color: #00ff00; text-decoration-color: #00ff00; font-style: italic\">True</span>,\n",
       "    <span style=\"color: #008000; text-decoration-color: #008000\">'forks_count'</span>: <span style=\"color: #008080; text-decoration-color: #008080; font-weight: bold\">1577</span>,\n",
       "    <span style=\"color: #008000; text-decoration-color: #008000\">'mirror_url'</span>: <span style=\"color: #800080; text-decoration-color: #800080; font-style: italic\">None</span>,\n",
       "    <span style=\"color: #008000; text-decoration-color: #008000\">'archived'</span>: <span style=\"color: #ff0000; text-decoration-color: #ff0000; font-style: italic\">False</span>,\n",
       "    <span style=\"color: #008000; text-decoration-color: #008000\">'disabled'</span>: <span style=\"color: #ff0000; text-decoration-color: #ff0000; font-style: italic\">False</span>,\n",
       "    <span style=\"color: #008000; text-decoration-color: #008000\">'open_issues_count'</span>: <span style=\"color: #008080; text-decoration-color: #008080; font-weight: bold\">187</span>,\n",
       "    <span style=\"color: #008000; text-decoration-color: #008000\">'license'</span>: <span style=\"font-weight: bold\">{</span>\n",
       "        <span style=\"color: #008000; text-decoration-color: #008000\">'key'</span>: <span style=\"color: #008000; text-decoration-color: #008000\">'lgpl-3.0'</span>,\n",
       "        <span style=\"color: #008000; text-decoration-color: #008000\">'name'</span>: <span style=\"color: #008000; text-decoration-color: #008000\">'GNU Lesser General Public License v3.0'</span>,\n",
       "        <span style=\"color: #008000; text-decoration-color: #008000\">'spdx_id'</span>: <span style=\"color: #008000; text-decoration-color: #008000\">'LGPL-3.0'</span>,\n",
       "        <span style=\"color: #008000; text-decoration-color: #008000\">'url'</span>: <span style=\"color: #008000; text-decoration-color: #008000\">'https://api.github.com/licenses/lgpl-3.0'</span>,\n",
       "        <span style=\"color: #008000; text-decoration-color: #008000\">'node_id'</span>: <span style=\"color: #008000; text-decoration-color: #008000\">'MDc6TGljZW5zZTEy'</span>\n",
       "    <span style=\"font-weight: bold\">}</span>,\n",
       "    <span style=\"color: #008000; text-decoration-color: #008000\">'allow_forking'</span>: <span style=\"color: #00ff00; text-decoration-color: #00ff00; font-style: italic\">True</span>,\n",
       "    <span style=\"color: #008000; text-decoration-color: #008000\">'is_template'</span>: <span style=\"color: #ff0000; text-decoration-color: #ff0000; font-style: italic\">False</span>,\n",
       "    <span style=\"color: #008000; text-decoration-color: #008000\">'web_commit_signoff_required'</span>: <span style=\"color: #ff0000; text-decoration-color: #ff0000; font-style: italic\">False</span>,\n",
       "    <span style=\"color: #008000; text-decoration-color: #008000\">'topics'</span>: <span style=\"font-weight: bold\">[</span><span style=\"color: #008000; text-decoration-color: #008000\">'github'</span>, <span style=\"color: #008000; text-decoration-color: #008000\">'github-api'</span>, <span style=\"color: #008000; text-decoration-color: #008000\">'pygithub'</span>, <span style=\"color: #008000; text-decoration-color: #008000\">'python'</span><span style=\"font-weight: bold\">]</span>,\n",
       "    <span style=\"color: #008000; text-decoration-color: #008000\">'visibility'</span>: <span style=\"color: #008000; text-decoration-color: #008000\">'public'</span>,\n",
       "    <span style=\"color: #008000; text-decoration-color: #008000\">'forks'</span>: <span style=\"color: #008080; text-decoration-color: #008080; font-weight: bold\">1577</span>,\n",
       "    <span style=\"color: #008000; text-decoration-color: #008000\">'open_issues'</span>: <span style=\"color: #008080; text-decoration-color: #008080; font-weight: bold\">187</span>,\n",
       "    <span style=\"color: #008000; text-decoration-color: #008000\">'watchers'</span>: <span style=\"color: #008080; text-decoration-color: #008080; font-weight: bold\">5714</span>,\n",
       "    <span style=\"color: #008000; text-decoration-color: #008000\">'default_branch'</span>: <span style=\"color: #008000; text-decoration-color: #008000\">'master'</span>,\n",
       "    <span style=\"color: #008000; text-decoration-color: #008000\">'permissions'</span>: <span style=\"font-weight: bold\">{</span><span style=\"color: #008000; text-decoration-color: #008000\">'admin'</span>: <span style=\"color: #ff0000; text-decoration-color: #ff0000; font-style: italic\">False</span>, <span style=\"color: #008000; text-decoration-color: #008000\">'maintain'</span>: <span style=\"color: #ff0000; text-decoration-color: #ff0000; font-style: italic\">False</span>, <span style=\"color: #008000; text-decoration-color: #008000\">'push'</span>: <span style=\"color: #ff0000; text-decoration-color: #ff0000; font-style: italic\">False</span>, <span style=\"color: #008000; text-decoration-color: #008000\">'triage'</span>: <span style=\"color: #ff0000; text-decoration-color: #ff0000; font-style: italic\">False</span>, <span style=\"color: #008000; text-decoration-color: #008000\">'pull'</span>: <span style=\"color: #00ff00; text-decoration-color: #00ff00; font-style: italic\">True</span><span style=\"font-weight: bold\">}</span>,\n",
       "    <span style=\"color: #008000; text-decoration-color: #008000\">'temp_clone_token'</span>: <span style=\"color: #008000; text-decoration-color: #008000\">''</span>,\n",
       "    <span style=\"color: #008000; text-decoration-color: #008000\">'organization'</span>: <span style=\"font-weight: bold\">{</span>\n",
       "        <span style=\"color: #008000; text-decoration-color: #008000\">'login'</span>: <span style=\"color: #008000; text-decoration-color: #008000\">'PyGithub'</span>,\n",
       "        <span style=\"color: #008000; text-decoration-color: #008000\">'id'</span>: <span style=\"color: #008080; text-decoration-color: #008080; font-weight: bold\">11288996</span>,\n",
       "        <span style=\"color: #008000; text-decoration-color: #008000\">'node_id'</span>: <span style=\"color: #008000; text-decoration-color: #008000\">'MDEyOk9yZ2FuaXphdGlvbjExMjg4OTk2'</span>,\n",
       "        <span style=\"color: #008000; text-decoration-color: #008000\">'avatar_url'</span>: <span style=\"color: #008000; text-decoration-color: #008000\">'https://avatars.githubusercontent.com/u/11288996?v=4'</span>,\n",
       "        <span style=\"color: #008000; text-decoration-color: #008000\">'gravatar_id'</span>: <span style=\"color: #008000; text-decoration-color: #008000\">''</span>,\n",
       "        <span style=\"color: #008000; text-decoration-color: #008000\">'url'</span>: <span style=\"color: #008000; text-decoration-color: #008000\">'https://api.github.com/users/PyGithub'</span>,\n",
       "        <span style=\"color: #008000; text-decoration-color: #008000\">'html_url'</span>: <span style=\"color: #008000; text-decoration-color: #008000\">'https://github.com/PyGithub'</span>,\n",
       "        <span style=\"color: #008000; text-decoration-color: #008000\">'followers_url'</span>: <span style=\"color: #008000; text-decoration-color: #008000\">'https://api.github.com/users/PyGithub/followers'</span>,\n",
       "        <span style=\"color: #008000; text-decoration-color: #008000\">'following_url'</span>: <span style=\"color: #008000; text-decoration-color: #008000\">'https://api.github.com/users/PyGithub/following{/other_user}'</span>,\n",
       "        <span style=\"color: #008000; text-decoration-color: #008000\">'gists_url'</span>: <span style=\"color: #008000; text-decoration-color: #008000\">'https://api.github.com/users/PyGithub/gists{/gist_id}'</span>,\n",
       "        <span style=\"color: #008000; text-decoration-color: #008000\">'starred_url'</span>: <span style=\"color: #008000; text-decoration-color: #008000\">'https://api.github.com/users/PyGithub/starred{/owner}{/repo}'</span>,\n",
       "        <span style=\"color: #008000; text-decoration-color: #008000\">'subscriptions_url'</span>: <span style=\"color: #008000; text-decoration-color: #008000\">'https://api.github.com/users/PyGithub/subscriptions'</span>,\n",
       "        <span style=\"color: #008000; text-decoration-color: #008000\">'organizations_url'</span>: <span style=\"color: #008000; text-decoration-color: #008000\">'https://api.github.com/users/PyGithub/orgs'</span>,\n",
       "        <span style=\"color: #008000; text-decoration-color: #008000\">'repos_url'</span>: <span style=\"color: #008000; text-decoration-color: #008000\">'https://api.github.com/users/PyGithub/repos'</span>,\n",
       "        <span style=\"color: #008000; text-decoration-color: #008000\">'events_url'</span>: <span style=\"color: #008000; text-decoration-color: #008000\">'https://api.github.com/users/PyGithub/events{/privacy}'</span>,\n",
       "        <span style=\"color: #008000; text-decoration-color: #008000\">'received_events_url'</span>: <span style=\"color: #008000; text-decoration-color: #008000\">'https://api.github.com/users/PyGithub/received_events'</span>,\n",
       "        <span style=\"color: #008000; text-decoration-color: #008000\">'type'</span>: <span style=\"color: #008000; text-decoration-color: #008000\">'Organization'</span>,\n",
       "        <span style=\"color: #008000; text-decoration-color: #008000\">'site_admin'</span>: <span style=\"color: #ff0000; text-decoration-color: #ff0000; font-style: italic\">False</span>\n",
       "    <span style=\"font-weight: bold\">}</span>,\n",
       "    <span style=\"color: #008000; text-decoration-color: #008000\">'network_count'</span>: <span style=\"color: #008080; text-decoration-color: #008080; font-weight: bold\">1577</span>,\n",
       "    <span style=\"color: #008000; text-decoration-color: #008000\">'subscribers_count'</span>: <span style=\"color: #008080; text-decoration-color: #008080; font-weight: bold\">114</span>\n",
       "<span style=\"font-weight: bold\">}</span>\n",
       "</pre>\n"
      ],
      "text/plain": [
       "\n",
       "\u001b[1m{\u001b[0m\n",
       "    \u001b[32m'id'\u001b[0m: \u001b[1;36m3544490\u001b[0m,\n",
       "    \u001b[32m'node_id'\u001b[0m: \u001b[32m'MDEwOlJlcG9zaXRvcnkzNTQ0NDkw'\u001b[0m,\n",
       "    \u001b[32m'name'\u001b[0m: \u001b[32m'PyGithub'\u001b[0m,\n",
       "    \u001b[32m'full_name'\u001b[0m: \u001b[32m'PyGithub/PyGithub'\u001b[0m,\n",
       "    \u001b[32m'private'\u001b[0m: \u001b[3;91mFalse\u001b[0m,\n",
       "    \u001b[32m'owner'\u001b[0m: \u001b[1m{\u001b[0m\n",
       "        \u001b[32m'login'\u001b[0m: \u001b[32m'PyGithub'\u001b[0m,\n",
       "        \u001b[32m'id'\u001b[0m: \u001b[1;36m11288996\u001b[0m,\n",
       "        \u001b[32m'node_id'\u001b[0m: \u001b[32m'MDEyOk9yZ2FuaXphdGlvbjExMjg4OTk2'\u001b[0m,\n",
       "        \u001b[32m'avatar_url'\u001b[0m: \u001b[32m'https://avatars.githubusercontent.com/u/11288996?\u001b[0m\u001b[32mv\u001b[0m\u001b[32m=\u001b[0m\u001b[32m4\u001b[0m\u001b[32m'\u001b[0m,\n",
       "        \u001b[32m'gravatar_id'\u001b[0m: \u001b[32m''\u001b[0m,\n",
       "        \u001b[32m'url'\u001b[0m: \u001b[32m'https://api.github.com/users/PyGithub'\u001b[0m,\n",
       "        \u001b[32m'html_url'\u001b[0m: \u001b[32m'https://github.com/PyGithub'\u001b[0m,\n",
       "        \u001b[32m'followers_url'\u001b[0m: \u001b[32m'https://api.github.com/users/PyGithub/followers'\u001b[0m,\n",
       "        \u001b[32m'following_url'\u001b[0m: \u001b[32m'https://api.github.com/users/PyGithub/following\u001b[0m\u001b[32m{\u001b[0m\u001b[32m/other_user\u001b[0m\u001b[32m}\u001b[0m\u001b[32m'\u001b[0m,\n",
       "        \u001b[32m'gists_url'\u001b[0m: \u001b[32m'https://api.github.com/users/PyGithub/gists\u001b[0m\u001b[32m{\u001b[0m\u001b[32m/gist_id\u001b[0m\u001b[32m}\u001b[0m\u001b[32m'\u001b[0m,\n",
       "        \u001b[32m'starred_url'\u001b[0m: \u001b[32m'https://api.github.com/users/PyGithub/starred\u001b[0m\u001b[32m{\u001b[0m\u001b[32m/owner\u001b[0m\u001b[32m}\u001b[0m\u001b[32m{\u001b[0m\u001b[32m/repo\u001b[0m\u001b[32m}\u001b[0m\u001b[32m'\u001b[0m,\n",
       "        \u001b[32m'subscriptions_url'\u001b[0m: \u001b[32m'https://api.github.com/users/PyGithub/subscriptions'\u001b[0m,\n",
       "        \u001b[32m'organizations_url'\u001b[0m: \u001b[32m'https://api.github.com/users/PyGithub/orgs'\u001b[0m,\n",
       "        \u001b[32m'repos_url'\u001b[0m: \u001b[32m'https://api.github.com/users/PyGithub/repos'\u001b[0m,\n",
       "        \u001b[32m'events_url'\u001b[0m: \u001b[32m'https://api.github.com/users/PyGithub/events\u001b[0m\u001b[32m{\u001b[0m\u001b[32m/privacy\u001b[0m\u001b[32m}\u001b[0m\u001b[32m'\u001b[0m,\n",
       "        \u001b[32m'received_events_url'\u001b[0m: \u001b[32m'https://api.github.com/users/PyGithub/received_events'\u001b[0m,\n",
       "        \u001b[32m'type'\u001b[0m: \u001b[32m'Organization'\u001b[0m,\n",
       "        \u001b[32m'site_admin'\u001b[0m: \u001b[3;91mFalse\u001b[0m\n",
       "    \u001b[1m}\u001b[0m,\n",
       "    \u001b[32m'html_url'\u001b[0m: \u001b[32m'https://github.com/PyGithub/PyGithub'\u001b[0m,\n",
       "    \u001b[32m'description'\u001b[0m: \u001b[32m'Typed interactions with the GitHub API v3'\u001b[0m,\n",
       "    \u001b[32m'fork'\u001b[0m: \u001b[3;91mFalse\u001b[0m,\n",
       "    \u001b[32m'url'\u001b[0m: \u001b[32m'https://api.github.com/repos/PyGithub/PyGithub'\u001b[0m,\n",
       "    \u001b[32m'forks_url'\u001b[0m: \u001b[32m'https://api.github.com/repos/PyGithub/PyGithub/forks'\u001b[0m,\n",
       "    \u001b[32m'keys_url'\u001b[0m: \u001b[32m'https://api.github.com/repos/PyGithub/PyGithub/keys\u001b[0m\u001b[32m{\u001b[0m\u001b[32m/key_id\u001b[0m\u001b[32m}\u001b[0m\u001b[32m'\u001b[0m,\n",
       "    \u001b[32m'collaborators_url'\u001b[0m: \u001b[32m'https://api.github.com/repos/PyGithub/PyGithub/collaborators\u001b[0m\u001b[32m{\u001b[0m\u001b[32m/collaborator\u001b[0m\u001b[32m}\u001b[0m\u001b[32m'\u001b[0m,\n",
       "    \u001b[32m'teams_url'\u001b[0m: \u001b[32m'https://api.github.com/repos/PyGithub/PyGithub/teams'\u001b[0m,\n",
       "    \u001b[32m'hooks_url'\u001b[0m: \u001b[32m'https://api.github.com/repos/PyGithub/PyGithub/hooks'\u001b[0m,\n",
       "    \u001b[32m'issue_events_url'\u001b[0m: \u001b[32m'https://api.github.com/repos/PyGithub/PyGithub/issues/events\u001b[0m\u001b[32m{\u001b[0m\u001b[32m/number\u001b[0m\u001b[32m}\u001b[0m\u001b[32m'\u001b[0m,\n",
       "    \u001b[32m'events_url'\u001b[0m: \u001b[32m'https://api.github.com/repos/PyGithub/PyGithub/events'\u001b[0m,\n",
       "    \u001b[32m'assignees_url'\u001b[0m: \u001b[32m'https://api.github.com/repos/PyGithub/PyGithub/assignees\u001b[0m\u001b[32m{\u001b[0m\u001b[32m/user\u001b[0m\u001b[32m}\u001b[0m\u001b[32m'\u001b[0m,\n",
       "    \u001b[32m'branches_url'\u001b[0m: \u001b[32m'https://api.github.com/repos/PyGithub/PyGithub/branches\u001b[0m\u001b[32m{\u001b[0m\u001b[32m/branch\u001b[0m\u001b[32m}\u001b[0m\u001b[32m'\u001b[0m,\n",
       "    \u001b[32m'tags_url'\u001b[0m: \u001b[32m'https://api.github.com/repos/PyGithub/PyGithub/tags'\u001b[0m,\n",
       "    \u001b[32m'blobs_url'\u001b[0m: \u001b[32m'https://api.github.com/repos/PyGithub/PyGithub/git/blobs\u001b[0m\u001b[32m{\u001b[0m\u001b[32m/sha\u001b[0m\u001b[32m}\u001b[0m\u001b[32m'\u001b[0m,\n",
       "    \u001b[32m'git_tags_url'\u001b[0m: \u001b[32m'https://api.github.com/repos/PyGithub/PyGithub/git/tags\u001b[0m\u001b[32m{\u001b[0m\u001b[32m/sha\u001b[0m\u001b[32m}\u001b[0m\u001b[32m'\u001b[0m,\n",
       "    \u001b[32m'git_refs_url'\u001b[0m: \u001b[32m'https://api.github.com/repos/PyGithub/PyGithub/git/refs\u001b[0m\u001b[32m{\u001b[0m\u001b[32m/sha\u001b[0m\u001b[32m}\u001b[0m\u001b[32m'\u001b[0m,\n",
       "    \u001b[32m'trees_url'\u001b[0m: \u001b[32m'https://api.github.com/repos/PyGithub/PyGithub/git/trees\u001b[0m\u001b[32m{\u001b[0m\u001b[32m/sha\u001b[0m\u001b[32m}\u001b[0m\u001b[32m'\u001b[0m,\n",
       "    \u001b[32m'statuses_url'\u001b[0m: \u001b[32m'https://api.github.com/repos/PyGithub/PyGithub/statuses/\u001b[0m\u001b[32m{\u001b[0m\u001b[32msha\u001b[0m\u001b[32m}\u001b[0m\u001b[32m'\u001b[0m,\n",
       "    \u001b[32m'languages_url'\u001b[0m: \u001b[32m'https://api.github.com/repos/PyGithub/PyGithub/languages'\u001b[0m,\n",
       "    \u001b[32m'stargazers_url'\u001b[0m: \u001b[32m'https://api.github.com/repos/PyGithub/PyGithub/stargazers'\u001b[0m,\n",
       "    \u001b[32m'contributors_url'\u001b[0m: \u001b[32m'https://api.github.com/repos/PyGithub/PyGithub/contributors'\u001b[0m,\n",
       "    \u001b[32m'subscribers_url'\u001b[0m: \u001b[32m'https://api.github.com/repos/PyGithub/PyGithub/subscribers'\u001b[0m,\n",
       "    \u001b[32m'subscription_url'\u001b[0m: \u001b[32m'https://api.github.com/repos/PyGithub/PyGithub/subscription'\u001b[0m,\n",
       "    \u001b[32m'commits_url'\u001b[0m: \u001b[32m'https://api.github.com/repos/PyGithub/PyGithub/commits\u001b[0m\u001b[32m{\u001b[0m\u001b[32m/sha\u001b[0m\u001b[32m}\u001b[0m\u001b[32m'\u001b[0m,\n",
       "    \u001b[32m'git_commits_url'\u001b[0m: \u001b[32m'https://api.github.com/repos/PyGithub/PyGithub/git/commits\u001b[0m\u001b[32m{\u001b[0m\u001b[32m/sha\u001b[0m\u001b[32m}\u001b[0m\u001b[32m'\u001b[0m,\n",
       "    \u001b[32m'comments_url'\u001b[0m: \u001b[32m'https://api.github.com/repos/PyGithub/PyGithub/comments\u001b[0m\u001b[32m{\u001b[0m\u001b[32m/number\u001b[0m\u001b[32m}\u001b[0m\u001b[32m'\u001b[0m,\n",
       "    \u001b[32m'issue_comment_url'\u001b[0m: \u001b[32m'https://api.github.com/repos/PyGithub/PyGithub/issues/comments\u001b[0m\u001b[32m{\u001b[0m\u001b[32m/number\u001b[0m\u001b[32m}\u001b[0m\u001b[32m'\u001b[0m,\n",
       "    \u001b[32m'contents_url'\u001b[0m: \u001b[32m'https://api.github.com/repos/PyGithub/PyGithub/contents/\u001b[0m\u001b[32m{\u001b[0m\u001b[32m+path\u001b[0m\u001b[32m}\u001b[0m\u001b[32m'\u001b[0m,\n",
       "    \u001b[32m'compare_url'\u001b[0m: \u001b[32m'https://api.github.com/repos/PyGithub/PyGithub/compare/\u001b[0m\u001b[32m{\u001b[0m\u001b[32mbase\u001b[0m\u001b[32m}\u001b[0m\u001b[32m...\u001b[0m\u001b[32m{\u001b[0m\u001b[32mhead\u001b[0m\u001b[32m}\u001b[0m\u001b[32m'\u001b[0m,\n",
       "    \u001b[32m'merges_url'\u001b[0m: \u001b[32m'https://api.github.com/repos/PyGithub/PyGithub/merges'\u001b[0m,\n",
       "    \u001b[32m'archive_url'\u001b[0m: \u001b[32m'https://api.github.com/repos/PyGithub/PyGithub/\u001b[0m\u001b[32m{\u001b[0m\u001b[32marchive_format\u001b[0m\u001b[32m}\u001b[0m\u001b[32m{\u001b[0m\u001b[32m/ref\u001b[0m\u001b[32m}\u001b[0m\u001b[32m'\u001b[0m,\n",
       "    \u001b[32m'downloads_url'\u001b[0m: \u001b[32m'https://api.github.com/repos/PyGithub/PyGithub/downloads'\u001b[0m,\n",
       "    \u001b[32m'issues_url'\u001b[0m: \u001b[32m'https://api.github.com/repos/PyGithub/PyGithub/issues\u001b[0m\u001b[32m{\u001b[0m\u001b[32m/number\u001b[0m\u001b[32m}\u001b[0m\u001b[32m'\u001b[0m,\n",
       "    \u001b[32m'pulls_url'\u001b[0m: \u001b[32m'https://api.github.com/repos/PyGithub/PyGithub/pulls\u001b[0m\u001b[32m{\u001b[0m\u001b[32m/number\u001b[0m\u001b[32m}\u001b[0m\u001b[32m'\u001b[0m,\n",
       "    \u001b[32m'milestones_url'\u001b[0m: \u001b[32m'https://api.github.com/repos/PyGithub/PyGithub/milestones\u001b[0m\u001b[32m{\u001b[0m\u001b[32m/number\u001b[0m\u001b[32m}\u001b[0m\u001b[32m'\u001b[0m,\n",
       "    \u001b[32m'notifications_url'\u001b[0m: \u001b[32m'https://api.github.com/repos/PyGithub/PyGithub/notifications\u001b[0m\u001b[32m{\u001b[0m\u001b[32m?since,all,participating\u001b[0m\u001b[32m}\u001b[0m\u001b[32m'\u001b[0m,\n",
       "    \u001b[32m'labels_url'\u001b[0m: \u001b[32m'https://api.github.com/repos/PyGithub/PyGithub/labels\u001b[0m\u001b[32m{\u001b[0m\u001b[32m/name\u001b[0m\u001b[32m}\u001b[0m\u001b[32m'\u001b[0m,\n",
       "    \u001b[32m'releases_url'\u001b[0m: \u001b[32m'https://api.github.com/repos/PyGithub/PyGithub/releases\u001b[0m\u001b[32m{\u001b[0m\u001b[32m/id\u001b[0m\u001b[32m}\u001b[0m\u001b[32m'\u001b[0m,\n",
       "    \u001b[32m'deployments_url'\u001b[0m: \u001b[32m'https://api.github.com/repos/PyGithub/PyGithub/deployments'\u001b[0m,\n",
       "    \u001b[32m'created_at'\u001b[0m: \u001b[32m'2012-02-25T12:53:47Z'\u001b[0m,\n",
       "    \u001b[32m'updated_at'\u001b[0m: \u001b[32m'2023-01-05T23:37:33Z'\u001b[0m,\n",
       "    \u001b[32m'pushed_at'\u001b[0m: \u001b[32m'2023-01-03T15:03:28Z'\u001b[0m,\n",
       "    \u001b[32m'git_url'\u001b[0m: \u001b[32m'git://github.com/PyGithub/PyGithub.git'\u001b[0m,\n",
       "    \u001b[32m'ssh_url'\u001b[0m: \u001b[32m'git@github.com:PyGithub/PyGithub.git'\u001b[0m,\n",
       "    \u001b[32m'clone_url'\u001b[0m: \u001b[32m'https://github.com/PyGithub/PyGithub.git'\u001b[0m,\n",
       "    \u001b[32m'svn_url'\u001b[0m: \u001b[32m'https://github.com/PyGithub/PyGithub'\u001b[0m,\n",
       "    \u001b[32m'homepage'\u001b[0m: \u001b[32m'https://pygithub.readthedocs.io/'\u001b[0m,\n",
       "    \u001b[32m'size'\u001b[0m: \u001b[1;36m13674\u001b[0m,\n",
       "    \u001b[32m'stargazers_count'\u001b[0m: \u001b[1;36m5714\u001b[0m,\n",
       "    \u001b[32m'watchers_count'\u001b[0m: \u001b[1;36m5714\u001b[0m,\n",
       "    \u001b[32m'language'\u001b[0m: \u001b[32m'Python'\u001b[0m,\n",
       "    \u001b[32m'has_issues'\u001b[0m: \u001b[3;92mTrue\u001b[0m,\n",
       "    \u001b[32m'has_projects'\u001b[0m: \u001b[3;92mTrue\u001b[0m,\n",
       "    \u001b[32m'has_downloads'\u001b[0m: \u001b[3;92mTrue\u001b[0m,\n",
       "    \u001b[32m'has_wiki'\u001b[0m: \u001b[3;91mFalse\u001b[0m,\n",
       "    \u001b[32m'has_pages'\u001b[0m: \u001b[3;91mFalse\u001b[0m,\n",
       "    \u001b[32m'has_discussions'\u001b[0m: \u001b[3;92mTrue\u001b[0m,\n",
       "    \u001b[32m'forks_count'\u001b[0m: \u001b[1;36m1577\u001b[0m,\n",
       "    \u001b[32m'mirror_url'\u001b[0m: \u001b[3;35mNone\u001b[0m,\n",
       "    \u001b[32m'archived'\u001b[0m: \u001b[3;91mFalse\u001b[0m,\n",
       "    \u001b[32m'disabled'\u001b[0m: \u001b[3;91mFalse\u001b[0m,\n",
       "    \u001b[32m'open_issues_count'\u001b[0m: \u001b[1;36m187\u001b[0m,\n",
       "    \u001b[32m'license'\u001b[0m: \u001b[1m{\u001b[0m\n",
       "        \u001b[32m'key'\u001b[0m: \u001b[32m'lgpl-3.0'\u001b[0m,\n",
       "        \u001b[32m'name'\u001b[0m: \u001b[32m'GNU Lesser General Public License v3.0'\u001b[0m,\n",
       "        \u001b[32m'spdx_id'\u001b[0m: \u001b[32m'LGPL-3.0'\u001b[0m,\n",
       "        \u001b[32m'url'\u001b[0m: \u001b[32m'https://api.github.com/licenses/lgpl-3.0'\u001b[0m,\n",
       "        \u001b[32m'node_id'\u001b[0m: \u001b[32m'MDc6TGljZW5zZTEy'\u001b[0m\n",
       "    \u001b[1m}\u001b[0m,\n",
       "    \u001b[32m'allow_forking'\u001b[0m: \u001b[3;92mTrue\u001b[0m,\n",
       "    \u001b[32m'is_template'\u001b[0m: \u001b[3;91mFalse\u001b[0m,\n",
       "    \u001b[32m'web_commit_signoff_required'\u001b[0m: \u001b[3;91mFalse\u001b[0m,\n",
       "    \u001b[32m'topics'\u001b[0m: \u001b[1m[\u001b[0m\u001b[32m'github'\u001b[0m, \u001b[32m'github-api'\u001b[0m, \u001b[32m'pygithub'\u001b[0m, \u001b[32m'python'\u001b[0m\u001b[1m]\u001b[0m,\n",
       "    \u001b[32m'visibility'\u001b[0m: \u001b[32m'public'\u001b[0m,\n",
       "    \u001b[32m'forks'\u001b[0m: \u001b[1;36m1577\u001b[0m,\n",
       "    \u001b[32m'open_issues'\u001b[0m: \u001b[1;36m187\u001b[0m,\n",
       "    \u001b[32m'watchers'\u001b[0m: \u001b[1;36m5714\u001b[0m,\n",
       "    \u001b[32m'default_branch'\u001b[0m: \u001b[32m'master'\u001b[0m,\n",
       "    \u001b[32m'permissions'\u001b[0m: \u001b[1m{\u001b[0m\u001b[32m'admin'\u001b[0m: \u001b[3;91mFalse\u001b[0m, \u001b[32m'maintain'\u001b[0m: \u001b[3;91mFalse\u001b[0m, \u001b[32m'push'\u001b[0m: \u001b[3;91mFalse\u001b[0m, \u001b[32m'triage'\u001b[0m: \u001b[3;91mFalse\u001b[0m, \u001b[32m'pull'\u001b[0m: \u001b[3;92mTrue\u001b[0m\u001b[1m}\u001b[0m,\n",
       "    \u001b[32m'temp_clone_token'\u001b[0m: \u001b[32m''\u001b[0m,\n",
       "    \u001b[32m'organization'\u001b[0m: \u001b[1m{\u001b[0m\n",
       "        \u001b[32m'login'\u001b[0m: \u001b[32m'PyGithub'\u001b[0m,\n",
       "        \u001b[32m'id'\u001b[0m: \u001b[1;36m11288996\u001b[0m,\n",
       "        \u001b[32m'node_id'\u001b[0m: \u001b[32m'MDEyOk9yZ2FuaXphdGlvbjExMjg4OTk2'\u001b[0m,\n",
       "        \u001b[32m'avatar_url'\u001b[0m: \u001b[32m'https://avatars.githubusercontent.com/u/11288996?\u001b[0m\u001b[32mv\u001b[0m\u001b[32m=\u001b[0m\u001b[32m4\u001b[0m\u001b[32m'\u001b[0m,\n",
       "        \u001b[32m'gravatar_id'\u001b[0m: \u001b[32m''\u001b[0m,\n",
       "        \u001b[32m'url'\u001b[0m: \u001b[32m'https://api.github.com/users/PyGithub'\u001b[0m,\n",
       "        \u001b[32m'html_url'\u001b[0m: \u001b[32m'https://github.com/PyGithub'\u001b[0m,\n",
       "        \u001b[32m'followers_url'\u001b[0m: \u001b[32m'https://api.github.com/users/PyGithub/followers'\u001b[0m,\n",
       "        \u001b[32m'following_url'\u001b[0m: \u001b[32m'https://api.github.com/users/PyGithub/following\u001b[0m\u001b[32m{\u001b[0m\u001b[32m/other_user\u001b[0m\u001b[32m}\u001b[0m\u001b[32m'\u001b[0m,\n",
       "        \u001b[32m'gists_url'\u001b[0m: \u001b[32m'https://api.github.com/users/PyGithub/gists\u001b[0m\u001b[32m{\u001b[0m\u001b[32m/gist_id\u001b[0m\u001b[32m}\u001b[0m\u001b[32m'\u001b[0m,\n",
       "        \u001b[32m'starred_url'\u001b[0m: \u001b[32m'https://api.github.com/users/PyGithub/starred\u001b[0m\u001b[32m{\u001b[0m\u001b[32m/owner\u001b[0m\u001b[32m}\u001b[0m\u001b[32m{\u001b[0m\u001b[32m/repo\u001b[0m\u001b[32m}\u001b[0m\u001b[32m'\u001b[0m,\n",
       "        \u001b[32m'subscriptions_url'\u001b[0m: \u001b[32m'https://api.github.com/users/PyGithub/subscriptions'\u001b[0m,\n",
       "        \u001b[32m'organizations_url'\u001b[0m: \u001b[32m'https://api.github.com/users/PyGithub/orgs'\u001b[0m,\n",
       "        \u001b[32m'repos_url'\u001b[0m: \u001b[32m'https://api.github.com/users/PyGithub/repos'\u001b[0m,\n",
       "        \u001b[32m'events_url'\u001b[0m: \u001b[32m'https://api.github.com/users/PyGithub/events\u001b[0m\u001b[32m{\u001b[0m\u001b[32m/privacy\u001b[0m\u001b[32m}\u001b[0m\u001b[32m'\u001b[0m,\n",
       "        \u001b[32m'received_events_url'\u001b[0m: \u001b[32m'https://api.github.com/users/PyGithub/received_events'\u001b[0m,\n",
       "        \u001b[32m'type'\u001b[0m: \u001b[32m'Organization'\u001b[0m,\n",
       "        \u001b[32m'site_admin'\u001b[0m: \u001b[3;91mFalse\u001b[0m\n",
       "    \u001b[1m}\u001b[0m,\n",
       "    \u001b[32m'network_count'\u001b[0m: \u001b[1;36m1577\u001b[0m,\n",
       "    \u001b[32m'subscribers_count'\u001b[0m: \u001b[1;36m114\u001b[0m\n",
       "\u001b[1m}\u001b[0m\n"
      ]
     },
     "metadata": {},
     "output_type": "display_data"
    }
   ],
   "source": [
    "out"
   ]
  },
  {
   "cell_type": "code",
   "execution_count": 53,
   "id": "e42f2bee-4776-4d34-89d5-b6c729603d05",
   "metadata": {
    "execution": {
     "iopub.execute_input": "2023-01-06T05:23:56.549049Z",
     "iopub.status.busy": "2023-01-06T05:23:56.548720Z",
     "iopub.status.idle": "2023-01-06T05:23:56.561659Z",
     "shell.execute_reply": "2023-01-06T05:23:56.561084Z",
     "shell.execute_reply.started": "2023-01-06T05:23:56.549023Z"
    },
    "tags": []
   },
   "outputs": [
    {
     "data": {
      "text/html": [
       "<pre style=\"white-space:pre;overflow-x:auto;line-height:normal;font-family:Menlo,'DejaVu Sans Mono',consolas,'Courier New',monospace\">\n",
       "<span style=\"color: #800080; text-decoration-color: #800080; font-weight: bold\">CachedResponse</span><span style=\"font-weight: bold\">(</span>\n",
       "    <span style=\"color: #808000; text-decoration-color: #808000\">_content</span>=<span style=\"color: #008000; text-decoration-color: #008000\">b'{\"id\":3544490,\"node_id\":\"MDEwOlJlcG9zaXRvcnkzNTQ0NDkw\",\"name\":\"PyGithub\",\"full_name\":\"PyGithub/PyGithub\",\"private\":false,\"owner\":{\"login\":\"PyGithub\",\"id\":11288996,\"node_id\":\"MDEyOk9yZ2FuaXphdGlvbjExMjg4OTk2\",\"avatar_url\":\"https://avatars.githubusercontent.com/u/11288996?v=4\",\"gravatar_id\":\"\",\"url\":\"https://api.github.com/users/PyGithub\",\"html_url\":\"https://github.com/PyGithub\",\"followers_url\":\"https://api.github.com/users/PyGithub/followers\",\"following_url\":\"https://api.github.com/users/PyGithub/following{/other_user}\",\"gists_url\":\"https://api.github.com/users/PyGithub/gists{/gist_id}\",\"starred_url\":\"https://api.github.com/users/PyGithub/starred{/owner}{/repo}\",\"subscriptions_url\":\"https://api.github.com/users/PyGithub/subscriptions\",\"organizations_url\":\"https://api.github.com/users/PyGithub/orgs\",\"repos_url\":\"https://api.github.com/users/PyGithub/repos\",\"events_url\":\"https://api.github.com/users/PyGithub/events{/privacy}\",\"received_events_url\":\"https://api.github.com/users/PyGithub/received_events\",\"type\":\"Organization\",\"site_admin\":false},\"html_url\":\"https://github.com/PyGithub/PyGithub\",\"description\":\"Typed interactions with the GitHub API v3\",\"fork\":false,\"url\":\"https://api.github.com/repos/PyGithub/PyGithub\",\"forks_url\":\"https://api.github.com/repos/PyGithub/PyGithub/forks\",\"keys_url\":\"https://api.github.com/repos/PyGithub/PyGithub/keys{/key_id}\",\"collaborators_url\":\"https://api.github.com/repos/PyGithub/PyGithub/collaborators{/collaborator}\",\"teams_url\":\"https://api.github.com/repos/PyGithub/PyGithub/teams\",\"hooks_url\":\"https://api.github.com/repos/PyGithub/PyGithub/hooks\",\"issue_events_url\":\"https://api.github.com/repos/PyGithub/PyGithub/issues/events{/number}\",\"events_url\":\"https://api.github.com/repos/PyGithub/PyGithub/events\",\"assignees_url\":\"https://api.github.com/repos/PyGithub/PyGithub/assignees{/user}\",\"branches_url\":\"https://api.github.com/repos/PyGithub/PyGithub/branches{/branch}\",\"tags_url\":\"https://api.github.com/repos/PyGithub/PyGithub/tags\",\"blobs_url\":\"https://api.github.com/repos/PyGithub/PyGithub/git/blobs{/sha}\",\"git_tags_url\":\"https://api.github.com/repos/PyGithub/PyGithub/git/tags{/sha}\",\"git_refs_url\":\"https://api.github.com/repos/PyGithub/PyGithub/git/refs{/sha}\",\"trees_url\":\"https://api.github.com/repos/PyGithub/PyGithub/git/trees{/sha}\",\"statuses_url\":\"https://api.github.com/repos/PyGithub/PyGithub/statuses/{sha}\",\"languages_url\":\"https://api.github.com/repos/PyGithub/PyGithub/languages\",\"stargazers_url\":\"https://api.github.com/repos/PyGithub/PyGithub/stargazers\",\"contributors_url\":\"https://api.github.com/repos/PyGithub/PyGithub/contributors\",\"subscribers_url\":\"https://api.github.com/repos/PyGithub/PyGithub/subscribers\",\"subscription_url\":\"https://api.github.com/repos/PyGithub/PyGithub/subscription\",\"commits_url\":\"https://api.github.com/repos/PyGithub/PyGithub/commits{/sha}\",\"git_commits_url\":\"https://api.github.com/repos/PyGithub/PyGithub/git/commits{/sha}\",\"comments_url\":\"https://api.github.com/repos/PyGithub/PyGithub/comments{/number}\",\"issue_comment_url\":\"https://api.github.com/repos/PyGithub/PyGithub/issues/comments{/number}\",\"contents_url\":\"https://api.github.com/repos/PyGithub/PyGithub/contents/{+path}\",\"compare_url\":\"https://api.github.com/repos/PyGithub/PyGithub/compare/{base}...{head}\",\"merges_url\":\"https://api.github.com/repos/PyGithub/PyGithub/merges\",\"archive_url\":\"https://api.github.com/repos/PyGithub/PyGithub/{archive_format}{/ref}\",\"downloads_url\":\"https://api.github.com/repos/PyGithub/PyGithub/downloads\",\"issues_url\":\"https://api.github.com/repos/PyGithub/PyGithub/issues{/number}\",\"pulls_url\":\"https://api.github.com/repos/PyGithub/PyGithub/pulls{/number}\",\"milestones_url\":\"https://api.github.com/repos/PyGithub/PyGithub/milestones{/number}\",\"notifications_url\":\"https://api.github.com/repos/PyGithub/PyGithub/notifications{?since,all,participating}\",\"labels_url\":\"https://api.github.com/repos/PyGithub/PyGithub/labels{/name}\",\"releases_url\":\"https://api.github.com/repos/PyGithub/PyGithub/releases{/id}\",\"deployments_url\":\"https://api.github.com/repos/PyGithub/PyGithub/deployments\",\"created_at\":\"2012-02-25T12:53:47Z\",\"updated_at\":\"2023-01-05T23:37:33Z\",\"pushed_at\":\"2023-01-03T15:03:28Z\",\"git_url\":\"git://github.com/PyGithub/PyGithub.git\",\"ssh_url\":\"git@github.com:PyGithub/PyGithub.git\",\"clone_url\":\"https://github.com/PyGithub/PyGithub.git\",\"svn_url\":\"https://github.com/PyGithub/PyGithub\",\"homepage\":\"https://pygithub.readthedocs.io/\",\"size\":13674,\"stargazers_count\":5714,\"watchers_count\":5714,\"language\":\"Python\",\"has_issues\":true,\"has_projects\":true,\"has_downloads\":true,\"has_wiki\":false,\"has_pages\":false,\"has_discussions\":true,\"forks_count\":1577,\"mirror_url\":null,\"archived\":false,\"disabled\":false,\"open_issues_count\":187,\"license\":{\"key\":\"lgpl-3.0\",\"name\":\"GNU Lesser General Public License v3.0\",\"spdx_id\":\"LGPL-3.0\",\"url\":\"https://api.github.com/licenses/lgpl-3.0\",\"node_id\":\"MDc6TGljZW5zZTEy\"},\"allow_forking\":true,\"is_template\":false,\"web_commit_signoff_required\":false,\"topics\":[\"github\",\"github-api\",\"pygithub\",\"python\"],\"visibility\":\"public\",\"forks\":1577,\"open_issues\":187,\"watchers\":5714,\"default_branch\":\"master\",\"permissions\":{\"admin\":false,\"maintain\":false,\"push\":false,\"triage\":false,\"pull\":true},\"temp_clone_token\":\"\",\"organization\":{\"login\":\"PyGithub\",\"id\":11288996,\"node_id\":\"MDEyOk9yZ2FuaXphdGlvbjExMjg4OTk2\",\"avatar_url\":\"https://avatars.githubusercontent.com/u/11288996?v=4\",\"gravatar_id\":\"\",\"url\":\"https://api.github.com/users/PyGithub\",\"html_url\":\"https://github.com/PyGithub\",\"followers_url\":\"https://api.github.com/users/PyGithub/followers\",\"following_url\":\"https://api.github.com/users/PyGithub/following{/other_user}\",\"gists_url\":\"https://api.github.com/users/PyGithub/gists{/gist_id}\",\"starred_url\":\"https://api.github.com/users/PyGithub/starred{/owner}{/repo}\",\"subscriptions_url\":\"https://api.github.com/users/PyGithub/subscriptions\",\"organizations_url\":\"https://api.github.com/users/PyGithub/orgs\",\"repos_url\":\"https://api.github.com/users/PyGithub/repos\",\"events_url\":\"https://api.github.com/users/PyGithub/events{/privacy}\",\"received_events_url\":\"https://api.github.com/users/PyGithub/received_events\",\"type\":\"Organization\",\"site_admin\":false},\"network_count\":1577,\"subscribers_count\":114}'</span>,\n",
       "    <span style=\"color: #808000; text-decoration-color: #808000\">_next</span>=<span style=\"color: #800080; text-decoration-color: #800080; font-style: italic\">None</span>,\n",
       "    <span style=\"color: #808000; text-decoration-color: #808000\">cookies</span>=<span style=\"font-weight: bold\">&lt;</span><span style=\"color: #ff00ff; text-decoration-color: #ff00ff; font-weight: bold\">RequestsCookieJar</span><span style=\"color: #000000; text-decoration-color: #000000; font-weight: bold\">[]</span><span style=\"color: #000000; text-decoration-color: #000000\">&gt;,</span>\n",
       "<span style=\"color: #000000; text-decoration-color: #000000\">    </span><span style=\"color: #808000; text-decoration-color: #808000\">created_at</span><span style=\"color: #000000; text-decoration-color: #000000\">=</span><span style=\"color: #800080; text-decoration-color: #800080; font-weight: bold\">datetime</span><span style=\"color: #800080; text-decoration-color: #800080; font-weight: bold\">.datetime</span><span style=\"color: #000000; text-decoration-color: #000000; font-weight: bold\">(</span><span style=\"color: #008080; text-decoration-color: #008080; font-weight: bold\">2023</span><span style=\"color: #000000; text-decoration-color: #000000\">, </span><span style=\"color: #008080; text-decoration-color: #008080; font-weight: bold\">1</span><span style=\"color: #000000; text-decoration-color: #000000\">, </span><span style=\"color: #008080; text-decoration-color: #008080; font-weight: bold\">6</span><span style=\"color: #000000; text-decoration-color: #000000\">, </span><span style=\"color: #008080; text-decoration-color: #008080; font-weight: bold\">5</span><span style=\"color: #000000; text-decoration-color: #000000\">, </span><span style=\"color: #008080; text-decoration-color: #008080; font-weight: bold\">7</span><span style=\"color: #000000; text-decoration-color: #000000\">, </span><span style=\"color: #008080; text-decoration-color: #008080; font-weight: bold\">27</span><span style=\"color: #000000; text-decoration-color: #000000\">, </span><span style=\"color: #008080; text-decoration-color: #008080; font-weight: bold\">364288</span><span style=\"color: #000000; text-decoration-color: #000000; font-weight: bold\">)</span><span style=\"color: #000000; text-decoration-color: #000000\">,</span>\n",
       "<span style=\"color: #000000; text-decoration-color: #000000\">    </span><span style=\"color: #808000; text-decoration-color: #808000\">elapsed</span><span style=\"color: #000000; text-decoration-color: #000000\">=</span><span style=\"color: #800080; text-decoration-color: #800080; font-weight: bold\">datetime</span><span style=\"color: #800080; text-decoration-color: #800080; font-weight: bold\">.timedelta</span><span style=\"color: #000000; text-decoration-color: #000000; font-weight: bold\">(</span><span style=\"color: #808000; text-decoration-color: #808000\">seconds</span><span style=\"color: #000000; text-decoration-color: #000000\">=</span><span style=\"color: #008080; text-decoration-color: #008080; font-weight: bold\">5</span><span style=\"color: #000000; text-decoration-color: #000000\">, </span><span style=\"color: #808000; text-decoration-color: #808000\">microseconds</span><span style=\"color: #000000; text-decoration-color: #000000\">=</span><span style=\"color: #008080; text-decoration-color: #008080; font-weight: bold\">534267</span><span style=\"color: #000000; text-decoration-color: #000000; font-weight: bold\">)</span><span style=\"color: #000000; text-decoration-color: #000000\">,</span>\n",
       "<span style=\"color: #000000; text-decoration-color: #000000\">    </span><span style=\"color: #808000; text-decoration-color: #808000\">encoding</span><span style=\"color: #000000; text-decoration-color: #000000\">=</span><span style=\"color: #008000; text-decoration-color: #008000\">'utf-8'</span><span style=\"color: #000000; text-decoration-color: #000000\">,</span>\n",
       "<span style=\"color: #000000; text-decoration-color: #000000\">    </span><span style=\"color: #808000; text-decoration-color: #808000\">expires</span><span style=\"color: #000000; text-decoration-color: #000000\">=</span><span style=\"color: #800080; text-decoration-color: #800080; font-weight: bold\">datetime</span><span style=\"color: #800080; text-decoration-color: #800080; font-weight: bold\">.datetime</span><span style=\"color: #000000; text-decoration-color: #000000; font-weight: bold\">(</span><span style=\"color: #008080; text-decoration-color: #008080; font-weight: bold\">2023</span><span style=\"color: #000000; text-decoration-color: #000000\">, </span><span style=\"color: #008080; text-decoration-color: #008080; font-weight: bold\">1</span><span style=\"color: #000000; text-decoration-color: #000000\">, </span><span style=\"color: #008080; text-decoration-color: #008080; font-weight: bold\">13</span><span style=\"color: #000000; text-decoration-color: #000000\">, </span><span style=\"color: #008080; text-decoration-color: #008080; font-weight: bold\">5</span><span style=\"color: #000000; text-decoration-color: #000000\">, </span><span style=\"color: #008080; text-decoration-color: #008080; font-weight: bold\">7</span><span style=\"color: #000000; text-decoration-color: #000000\">, </span><span style=\"color: #008080; text-decoration-color: #008080; font-weight: bold\">27</span><span style=\"color: #000000; text-decoration-color: #000000\">, </span><span style=\"color: #008080; text-decoration-color: #008080; font-weight: bold\">364267</span><span style=\"color: #000000; text-decoration-color: #000000; font-weight: bold\">)</span><span style=\"color: #000000; text-decoration-color: #000000\">,</span>\n",
       "<span style=\"color: #000000; text-decoration-color: #000000\">    </span><span style=\"color: #808000; text-decoration-color: #808000\">headers</span><span style=\"color: #000000; text-decoration-color: #000000\">=</span><span style=\"color: #000000; text-decoration-color: #000000; font-weight: bold\">{</span><span style=\"color: #008000; text-decoration-color: #008000\">'Server'</span><span style=\"color: #000000; text-decoration-color: #000000\">: </span><span style=\"color: #008000; text-decoration-color: #008000\">'GitHub.com'</span><span style=\"color: #000000; text-decoration-color: #000000\">, </span><span style=\"color: #008000; text-decoration-color: #008000\">'Date'</span><span style=\"color: #000000; text-decoration-color: #000000\">: </span><span style=\"color: #008000; text-decoration-color: #008000\">'Fri, 06 Jan 2023 05:07:27 GMT'</span><span style=\"color: #000000; text-decoration-color: #000000\">, </span><span style=\"color: #008000; text-decoration-color: #008000\">'Content-Type'</span><span style=\"color: #000000; text-decoration-color: #000000\">: </span><span style=\"color: #008000; text-decoration-color: #008000\">'application/json; charset=utf-8'</span><span style=\"color: #000000; text-decoration-color: #000000\">, </span><span style=\"color: #008000; text-decoration-color: #008000\">'Transfer-Encoding'</span><span style=\"color: #000000; text-decoration-color: #000000\">: </span><span style=\"color: #008000; text-decoration-color: #008000\">'chunked'</span><span style=\"color: #000000; text-decoration-color: #000000\">, </span><span style=\"color: #008000; text-decoration-color: #008000\">'Cache-Control'</span><span style=\"color: #000000; text-decoration-color: #000000\">: </span><span style=\"color: #008000; text-decoration-color: #008000\">'private, max-age=60, s-maxage=60'</span><span style=\"color: #000000; text-decoration-color: #000000\">, </span><span style=\"color: #008000; text-decoration-color: #008000\">'Vary'</span><span style=\"color: #000000; text-decoration-color: #000000\">: </span><span style=\"color: #008000; text-decoration-color: #008000\">'Accept, Authorization, Cookie, X-GitHub-OTP, Accept-Encoding, Accept, X-Requested-With'</span><span style=\"color: #000000; text-decoration-color: #000000\">, </span><span style=\"color: #008000; text-decoration-color: #008000\">'ETag'</span><span style=\"color: #000000; text-decoration-color: #000000\">: </span><span style=\"color: #008000; text-decoration-color: #008000\">'W/\"a1f02865cfc4f473e504297680d3eec173fdf932a77c4c1bfe4b2f3c351b07a5\"'</span><span style=\"color: #000000; text-decoration-color: #000000\">, </span><span style=\"color: #008000; text-decoration-color: #008000\">'Last-Modified'</span><span style=\"color: #000000; text-decoration-color: #000000\">: </span><span style=\"color: #008000; text-decoration-color: #008000\">'Thu, 05 Jan 2023 23:37:33 GMT'</span><span style=\"color: #000000; text-decoration-color: #000000\">, </span><span style=\"color: #008000; text-decoration-color: #008000\">'X-OAuth-Scopes'</span><span style=\"color: #000000; text-decoration-color: #000000\">: </span><span style=\"color: #008000; text-decoration-color: #008000\">''</span><span style=\"color: #000000; text-decoration-color: #000000\">, </span><span style=\"color: #008000; text-decoration-color: #008000\">'X-Accepted-OAuth-Scopes'</span><span style=\"color: #000000; text-decoration-color: #000000\">: </span><span style=\"color: #008000; text-decoration-color: #008000\">'repo'</span><span style=\"color: #000000; text-decoration-color: #000000\">, </span><span style=\"color: #008000; text-decoration-color: #008000\">'github-authentication-token-expiration'</span><span style=\"color: #000000; text-decoration-color: #000000\">: </span><span style=\"color: #008000; text-decoration-color: #008000\">'2023-02-05 04:58:12 UTC'</span><span style=\"color: #000000; text-decoration-color: #000000\">, </span><span style=\"color: #008000; text-decoration-color: #008000\">'X-GitHub-Media-Type'</span><span style=\"color: #000000; text-decoration-color: #000000\">: </span><span style=\"color: #008000; text-decoration-color: #008000\">'github.v3; format=json'</span><span style=\"color: #000000; text-decoration-color: #000000\">, </span><span style=\"color: #008000; text-decoration-color: #008000\">'x-github-api-version-selected'</span><span style=\"color: #000000; text-decoration-color: #000000\">: </span><span style=\"color: #008000; text-decoration-color: #008000\">'2022-11-28'</span><span style=\"color: #000000; text-decoration-color: #000000\">, </span><span style=\"color: #008000; text-decoration-color: #008000\">'X-RateLimit-Limit'</span><span style=\"color: #000000; text-decoration-color: #000000\">: </span><span style=\"color: #008000; text-decoration-color: #008000\">'5000'</span><span style=\"color: #000000; text-decoration-color: #000000\">, </span><span style=\"color: #008000; text-decoration-color: #008000\">'X-RateLimit-Remaining'</span><span style=\"color: #000000; text-decoration-color: #000000\">: </span><span style=\"color: #008000; text-decoration-color: #008000\">'4940'</span><span style=\"color: #000000; text-decoration-color: #000000\">, </span><span style=\"color: #008000; text-decoration-color: #008000\">'X-RateLimit-Reset'</span><span style=\"color: #000000; text-decoration-color: #000000\">: </span><span style=\"color: #008000; text-decoration-color: #008000\">'1672983203'</span><span style=\"color: #000000; text-decoration-color: #000000\">, </span><span style=\"color: #008000; text-decoration-color: #008000\">'X-RateLimit-Used'</span><span style=\"color: #000000; text-decoration-color: #000000\">: </span><span style=\"color: #008000; text-decoration-color: #008000\">'60'</span><span style=\"color: #000000; text-decoration-color: #000000\">, </span><span style=\"color: #008000; text-decoration-color: #008000\">'X-RateLimit-Resource'</span><span style=\"color: #000000; text-decoration-color: #000000\">: </span><span style=\"color: #008000; text-decoration-color: #008000\">'core'</span><span style=\"color: #000000; text-decoration-color: #000000\">, </span><span style=\"color: #008000; text-decoration-color: #008000\">'Access-Control-Expose-Headers'</span><span style=\"color: #000000; text-decoration-color: #000000\">: </span><span style=\"color: #008000; text-decoration-color: #008000\">'ETag, Link, Location, Retry-After, X-GitHub-OTP, X-RateLimit-Limit, X-RateLimit-Remaining, X-RateLimit-Used, X-RateLimit-Resource, X-RateLimit-Reset, X-OAuth-Scopes, X-Accepted-OAuth-Scopes, X-Poll-Interval, X-GitHub-Media-Type, X-GitHub-SSO, X-GitHub-Request-Id, Deprecation, Sunset'</span><span style=\"color: #000000; text-decoration-color: #000000\">, </span><span style=\"color: #008000; text-decoration-color: #008000\">'Access-Control-Allow-Origin'</span><span style=\"color: #000000; text-decoration-color: #000000\">: </span><span style=\"color: #008000; text-decoration-color: #008000\">'*'</span><span style=\"color: #000000; text-decoration-color: #000000\">, </span><span style=\"color: #008000; text-decoration-color: #008000\">'Strict-Transport-Security'</span><span style=\"color: #000000; text-decoration-color: #000000\">: </span><span style=\"color: #008000; text-decoration-color: #008000\">'max-age=31536000; includeSubdomains; preload'</span><span style=\"color: #000000; text-decoration-color: #000000\">, </span><span style=\"color: #008000; text-decoration-color: #008000\">'X-Frame-Options'</span><span style=\"color: #000000; text-decoration-color: #000000\">: </span><span style=\"color: #008000; text-decoration-color: #008000\">'deny'</span><span style=\"color: #000000; text-decoration-color: #000000\">, </span><span style=\"color: #008000; text-decoration-color: #008000\">'X-Content-Type-Options'</span><span style=\"color: #000000; text-decoration-color: #000000\">: </span><span style=\"color: #008000; text-decoration-color: #008000\">'nosniff'</span><span style=\"color: #000000; text-decoration-color: #000000\">, </span><span style=\"color: #008000; text-decoration-color: #008000\">'X-XSS-Protection'</span><span style=\"color: #000000; text-decoration-color: #000000\">: </span><span style=\"color: #008000; text-decoration-color: #008000\">'0'</span><span style=\"color: #000000; text-decoration-color: #000000\">, </span><span style=\"color: #008000; text-decoration-color: #008000\">'Referrer-Policy'</span><span style=\"color: #000000; text-decoration-color: #000000\">: </span><span style=\"color: #008000; text-decoration-color: #008000\">'origin-when-cross-origin, strict-origin-when-cross-origin'</span><span style=\"color: #000000; text-decoration-color: #000000\">, </span><span style=\"color: #008000; text-decoration-color: #008000\">'Content-Security-Policy'</span><span style=\"color: #000000; text-decoration-color: #000000\">: </span><span style=\"color: #008000; text-decoration-color: #008000\">\"default-src 'none'\"</span><span style=\"color: #000000; text-decoration-color: #000000\">, </span><span style=\"color: #008000; text-decoration-color: #008000\">'Content-Encoding'</span><span style=\"color: #000000; text-decoration-color: #000000\">: </span><span style=\"color: #008000; text-decoration-color: #008000\">'gzip'</span><span style=\"color: #000000; text-decoration-color: #000000\">, </span><span style=\"color: #008000; text-decoration-color: #008000\">'X-GitHub-Request-Id'</span><span style=\"color: #000000; text-decoration-color: #000000\">: </span><span style=\"color: #008000; text-decoration-color: #008000\">'E677:513C:4C34AA3:9BF6A07:63B7AC8F'</span><span style=\"color: #000000; text-decoration-color: #000000; font-weight: bold\">}</span><span style=\"color: #000000; text-decoration-color: #000000\">,</span>\n",
       "<span style=\"color: #000000; text-decoration-color: #000000\">    </span><span style=\"color: #808000; text-decoration-color: #808000\">history</span><span style=\"color: #000000; text-decoration-color: #000000\">=</span><span style=\"color: #000000; text-decoration-color: #000000; font-weight: bold\">[]</span><span style=\"color: #000000; text-decoration-color: #000000\">,</span>\n",
       "<span style=\"color: #000000; text-decoration-color: #000000\">    </span><span style=\"color: #808000; text-decoration-color: #808000\">reason</span><span style=\"color: #000000; text-decoration-color: #000000\">=</span><span style=\"color: #008000; text-decoration-color: #008000\">'OK'</span><span style=\"color: #000000; text-decoration-color: #000000\">,</span>\n",
       "<span style=\"color: #000000; text-decoration-color: #000000\">    </span><span style=\"color: #808000; text-decoration-color: #808000\">request</span><span style=\"color: #000000; text-decoration-color: #000000\">=</span><span style=\"color: #800080; text-decoration-color: #800080; font-weight: bold\">CachedRequest</span><span style=\"color: #000000; text-decoration-color: #000000; font-weight: bold\">(</span>\n",
       "<span style=\"color: #000000; text-decoration-color: #000000\">        </span><span style=\"color: #808000; text-decoration-color: #808000\">body</span><span style=\"color: #000000; text-decoration-color: #000000\">=</span><span style=\"color: #008000; text-decoration-color: #008000\">b'None'</span><span style=\"color: #000000; text-decoration-color: #000000\">,</span>\n",
       "<span style=\"color: #000000; text-decoration-color: #000000\">        </span><span style=\"color: #808000; text-decoration-color: #808000\">cookies</span><span style=\"color: #000000; text-decoration-color: #000000\">=&lt;RequestsCookieJar</span><span style=\"color: #000000; text-decoration-color: #000000; font-weight: bold\">[]</span><span style=\"font-weight: bold\">&gt;</span>,\n",
       "        <span style=\"color: #808000; text-decoration-color: #808000\">headers</span>=<span style=\"font-weight: bold\">{</span><span style=\"color: #008000; text-decoration-color: #008000\">'Accept'</span>: <span style=\"color: #008000; text-decoration-color: #008000\">'application/vnd.github+json'</span>, <span style=\"color: #008000; text-decoration-color: #008000\">'Accept-Encoding'</span>: <span style=\"color: #008000; text-decoration-color: #008000\">'gzip, deflate'</span>, <span style=\"color: #008000; text-decoration-color: #008000\">'Connection'</span>: <span style=\"color: #008000; text-decoration-color: #008000\">'keep-alive'</span>, <span style=\"color: #008000; text-decoration-color: #008000\">'User-Agent'</span>: <span style=\"color: #008000; text-decoration-color: #008000\">'python-requests/2.28.1'</span>, <span style=\"color: #008000; text-decoration-color: #008000\">'X-GitHub-Api-Version'</span>: <span style=\"color: #008000; text-decoration-color: #008000\">'2022-11-28'</span><span style=\"font-weight: bold\">}</span>,\n",
       "        <span style=\"color: #808000; text-decoration-color: #808000\">method</span>=<span style=\"color: #008000; text-decoration-color: #008000\">'GET'</span>,\n",
       "        <span style=\"color: #808000; text-decoration-color: #808000\">url</span>=<span style=\"color: #008000; text-decoration-color: #008000\">'https://api.github.com/repos/PyGithub/PyGithub'</span>\n",
       "    <span style=\"font-weight: bold\">)</span>,\n",
       "    <span style=\"color: #808000; text-decoration-color: #808000\">status_code</span>=<span style=\"color: #008080; text-decoration-color: #008080; font-weight: bold\">200</span>,\n",
       "    <span style=\"color: #808000; text-decoration-color: #808000\">url</span>=<span style=\"color: #008000; text-decoration-color: #008000\">'https://api.github.com/repos/PyGithub/PyGithub'</span>\n",
       "<span style=\"font-weight: bold\">)</span>\n",
       "</pre>\n"
      ],
      "text/plain": [
       "\n",
       "\u001b[1;35mCachedResponse\u001b[0m\u001b[1m(\u001b[0m\n",
       "    \u001b[33m_content\u001b[0m=\u001b[32mb\u001b[0m\u001b[32m'\u001b[0m\u001b[32m{\u001b[0m\u001b[32m\"id\":3544490,\"node_id\":\"MDEwOlJlcG9zaXRvcnkzNTQ0NDkw\",\"name\":\"PyGithub\",\"full_name\":\"PyGithub/PyGithub\",\"private\":false,\"owner\":\u001b[0m\u001b[32m{\u001b[0m\u001b[32m\"login\":\"PyGithub\",\"id\":11288996,\"node_id\":\"MDEyOk9yZ2FuaXphdGlvbjExMjg4OTk2\",\"avatar_url\":\"https://avatars.githubusercontent.com/u/11288996?\u001b[0m\u001b[32mv\u001b[0m\u001b[32m=\u001b[0m\u001b[32m4\"\u001b[0m\u001b[32m,\"gravatar_id\":\"\",\"url\":\"https://api.github.com/users/PyGithub\",\"html_url\":\"https://github.com/PyGithub\",\"followers_url\":\"https://api.github.com/users/PyGithub/followers\",\"following_url\":\"https://api.github.com/users/PyGithub/following\u001b[0m\u001b[32m{\u001b[0m\u001b[32m/other_user\u001b[0m\u001b[32m}\u001b[0m\u001b[32m\",\"gists_url\":\"https://api.github.com/users/PyGithub/gists\u001b[0m\u001b[32m{\u001b[0m\u001b[32m/gist_id\u001b[0m\u001b[32m}\u001b[0m\u001b[32m\",\"starred_url\":\"https://api.github.com/users/PyGithub/starred\u001b[0m\u001b[32m{\u001b[0m\u001b[32m/owner\u001b[0m\u001b[32m}\u001b[0m\u001b[32m{\u001b[0m\u001b[32m/repo\u001b[0m\u001b[32m}\u001b[0m\u001b[32m\",\"subscriptions_url\":\"https://api.github.com/users/PyGithub/subscriptions\",\"organizations_url\":\"https://api.github.com/users/PyGithub/orgs\",\"repos_url\":\"https://api.github.com/users/PyGithub/repos\",\"events_url\":\"https://api.github.com/users/PyGithub/events\u001b[0m\u001b[32m{\u001b[0m\u001b[32m/privacy\u001b[0m\u001b[32m}\u001b[0m\u001b[32m\",\"received_events_url\":\"https://api.github.com/users/PyGithub/received_events\",\"type\":\"Organization\",\"site_admin\":false\u001b[0m\u001b[32m}\u001b[0m\u001b[32m,\"html_url\":\"https://github.com/PyGithub/PyGithub\",\"description\":\"Typed interactions with the GitHub API v3\",\"fork\":false,\"url\":\"https://api.github.com/repos/PyGithub/PyGithub\",\"forks_url\":\"https://api.github.com/repos/PyGithub/PyGithub/forks\",\"keys_url\":\"https://api.github.com/repos/PyGithub/PyGithub/keys\u001b[0m\u001b[32m{\u001b[0m\u001b[32m/key_id\u001b[0m\u001b[32m}\u001b[0m\u001b[32m\",\"collaborators_url\":\"https://api.github.com/repos/PyGithub/PyGithub/collaborators\u001b[0m\u001b[32m{\u001b[0m\u001b[32m/collaborator\u001b[0m\u001b[32m}\u001b[0m\u001b[32m\",\"teams_url\":\"https://api.github.com/repos/PyGithub/PyGithub/teams\",\"hooks_url\":\"https://api.github.com/repos/PyGithub/PyGithub/hooks\",\"issue_events_url\":\"https://api.github.com/repos/PyGithub/PyGithub/issues/events\u001b[0m\u001b[32m{\u001b[0m\u001b[32m/number\u001b[0m\u001b[32m}\u001b[0m\u001b[32m\",\"events_url\":\"https://api.github.com/repos/PyGithub/PyGithub/events\",\"assignees_url\":\"https://api.github.com/repos/PyGithub/PyGithub/assignees\u001b[0m\u001b[32m{\u001b[0m\u001b[32m/user\u001b[0m\u001b[32m}\u001b[0m\u001b[32m\",\"branches_url\":\"https://api.github.com/repos/PyGithub/PyGithub/branches\u001b[0m\u001b[32m{\u001b[0m\u001b[32m/branch\u001b[0m\u001b[32m}\u001b[0m\u001b[32m\",\"tags_url\":\"https://api.github.com/repos/PyGithub/PyGithub/tags\",\"blobs_url\":\"https://api.github.com/repos/PyGithub/PyGithub/git/blobs\u001b[0m\u001b[32m{\u001b[0m\u001b[32m/sha\u001b[0m\u001b[32m}\u001b[0m\u001b[32m\",\"git_tags_url\":\"https://api.github.com/repos/PyGithub/PyGithub/git/tags\u001b[0m\u001b[32m{\u001b[0m\u001b[32m/sha\u001b[0m\u001b[32m}\u001b[0m\u001b[32m\",\"git_refs_url\":\"https://api.github.com/repos/PyGithub/PyGithub/git/refs\u001b[0m\u001b[32m{\u001b[0m\u001b[32m/sha\u001b[0m\u001b[32m}\u001b[0m\u001b[32m\",\"trees_url\":\"https://api.github.com/repos/PyGithub/PyGithub/git/trees\u001b[0m\u001b[32m{\u001b[0m\u001b[32m/sha\u001b[0m\u001b[32m}\u001b[0m\u001b[32m\",\"statuses_url\":\"https://api.github.com/repos/PyGithub/PyGithub/statuses/\u001b[0m\u001b[32m{\u001b[0m\u001b[32msha\u001b[0m\u001b[32m}\u001b[0m\u001b[32m\",\"languages_url\":\"https://api.github.com/repos/PyGithub/PyGithub/languages\",\"stargazers_url\":\"https://api.github.com/repos/PyGithub/PyGithub/stargazers\",\"contributors_url\":\"https://api.github.com/repos/PyGithub/PyGithub/contributors\",\"subscribers_url\":\"https://api.github.com/repos/PyGithub/PyGithub/subscribers\",\"subscription_url\":\"https://api.github.com/repos/PyGithub/PyGithub/subscription\",\"commits_url\":\"https://api.github.com/repos/PyGithub/PyGithub/commits\u001b[0m\u001b[32m{\u001b[0m\u001b[32m/sha\u001b[0m\u001b[32m}\u001b[0m\u001b[32m\",\"git_commits_url\":\"https://api.github.com/repos/PyGithub/PyGithub/git/commits\u001b[0m\u001b[32m{\u001b[0m\u001b[32m/sha\u001b[0m\u001b[32m}\u001b[0m\u001b[32m\",\"comments_url\":\"https://api.github.com/repos/PyGithub/PyGithub/comments\u001b[0m\u001b[32m{\u001b[0m\u001b[32m/number\u001b[0m\u001b[32m}\u001b[0m\u001b[32m\",\"issue_comment_url\":\"https://api.github.com/repos/PyGithub/PyGithub/issues/comments\u001b[0m\u001b[32m{\u001b[0m\u001b[32m/number\u001b[0m\u001b[32m}\u001b[0m\u001b[32m\",\"contents_url\":\"https://api.github.com/repos/PyGithub/PyGithub/contents/\u001b[0m\u001b[32m{\u001b[0m\u001b[32m+path\u001b[0m\u001b[32m}\u001b[0m\u001b[32m\",\"compare_url\":\"https://api.github.com/repos/PyGithub/PyGithub/compare/\u001b[0m\u001b[32m{\u001b[0m\u001b[32mbase\u001b[0m\u001b[32m}\u001b[0m\u001b[32m...\u001b[0m\u001b[32m{\u001b[0m\u001b[32mhead\u001b[0m\u001b[32m}\u001b[0m\u001b[32m\",\"merges_url\":\"https://api.github.com/repos/PyGithub/PyGithub/merges\",\"archive_url\":\"https://api.github.com/repos/PyGithub/PyGithub/\u001b[0m\u001b[32m{\u001b[0m\u001b[32marchive_format\u001b[0m\u001b[32m}\u001b[0m\u001b[32m{\u001b[0m\u001b[32m/ref\u001b[0m\u001b[32m}\u001b[0m\u001b[32m\",\"downloads_url\":\"https://api.github.com/repos/PyGithub/PyGithub/downloads\",\"issues_url\":\"https://api.github.com/repos/PyGithub/PyGithub/issues\u001b[0m\u001b[32m{\u001b[0m\u001b[32m/number\u001b[0m\u001b[32m}\u001b[0m\u001b[32m\",\"pulls_url\":\"https://api.github.com/repos/PyGithub/PyGithub/pulls\u001b[0m\u001b[32m{\u001b[0m\u001b[32m/number\u001b[0m\u001b[32m}\u001b[0m\u001b[32m\",\"milestones_url\":\"https://api.github.com/repos/PyGithub/PyGithub/milestones\u001b[0m\u001b[32m{\u001b[0m\u001b[32m/number\u001b[0m\u001b[32m}\u001b[0m\u001b[32m\",\"notifications_url\":\"https://api.github.com/repos/PyGithub/PyGithub/notifications\u001b[0m\u001b[32m{\u001b[0m\u001b[32m?since,all,participating\u001b[0m\u001b[32m}\u001b[0m\u001b[32m\",\"labels_url\":\"https://api.github.com/repos/PyGithub/PyGithub/labels\u001b[0m\u001b[32m{\u001b[0m\u001b[32m/name\u001b[0m\u001b[32m}\u001b[0m\u001b[32m\",\"releases_url\":\"https://api.github.com/repos/PyGithub/PyGithub/releases\u001b[0m\u001b[32m{\u001b[0m\u001b[32m/id\u001b[0m\u001b[32m}\u001b[0m\u001b[32m\",\"deployments_url\":\"https://api.github.com/repos/PyGithub/PyGithub/deployments\",\"created_at\":\"2012-02-25T12:53:47Z\",\"updated_at\":\"2023-01-05T23:37:33Z\",\"pushed_at\":\"2023-01-03T15:03:28Z\",\"git_url\":\"git://github.com/PyGithub/PyGithub.git\",\"ssh_url\":\"git@github.com:PyGithub/PyGithub.git\",\"clone_url\":\"https://github.com/PyGithub/PyGithub.git\",\"svn_url\":\"https://github.com/PyGithub/PyGithub\",\"homepage\":\"https://pygithub.readthedocs.io/\",\"size\":13674,\"stargazers_count\":5714,\"watchers_count\":5714,\"language\":\"Python\",\"has_issues\":true,\"has_projects\":true,\"has_downloads\":true,\"has_wiki\":false,\"has_pages\":false,\"has_discussions\":true,\"forks_count\":1577,\"mirror_url\":null,\"archived\":false,\"disabled\":false,\"open_issues_count\":187,\"license\":\u001b[0m\u001b[32m{\u001b[0m\u001b[32m\"key\":\"lgpl-3.0\",\"name\":\"GNU Lesser General Public License v3.0\",\"spdx_id\":\"LGPL-3.0\",\"url\":\"https://api.github.com/licenses/lgpl-3.0\",\"node_id\":\"MDc6TGljZW5zZTEy\"\u001b[0m\u001b[32m}\u001b[0m\u001b[32m,\"allow_forking\":true,\"is_template\":false,\"web_commit_signoff_required\":false,\"topics\":\u001b[0m\u001b[32m[\u001b[0m\u001b[32m\"github\",\"github-api\",\"pygithub\",\"python\"\u001b[0m\u001b[32m]\u001b[0m\u001b[32m,\"visibility\":\"public\",\"forks\":1577,\"open_issues\":187,\"watchers\":5714,\"default_branch\":\"master\",\"permissions\":\u001b[0m\u001b[32m{\u001b[0m\u001b[32m\"admin\":false,\"maintain\":false,\"push\":false,\"triage\":false,\"pull\":true\u001b[0m\u001b[32m}\u001b[0m\u001b[32m,\"temp_clone_token\":\"\",\"organization\":\u001b[0m\u001b[32m{\u001b[0m\u001b[32m\"login\":\"PyGithub\",\"id\":11288996,\"node_id\":\"MDEyOk9yZ2FuaXphdGlvbjExMjg4OTk2\",\"avatar_url\":\"https://avatars.githubusercontent.com/u/11288996?\u001b[0m\u001b[32mv\u001b[0m\u001b[32m=\u001b[0m\u001b[32m4\"\u001b[0m\u001b[32m,\"gravatar_id\":\"\",\"url\":\"https://api.github.com/users/PyGithub\",\"html_url\":\"https://github.com/PyGithub\",\"followers_url\":\"https://api.github.com/users/PyGithub/followers\",\"following_url\":\"https://api.github.com/users/PyGithub/following\u001b[0m\u001b[32m{\u001b[0m\u001b[32m/other_user\u001b[0m\u001b[32m}\u001b[0m\u001b[32m\",\"gists_url\":\"https://api.github.com/users/PyGithub/gists\u001b[0m\u001b[32m{\u001b[0m\u001b[32m/gist_id\u001b[0m\u001b[32m}\u001b[0m\u001b[32m\",\"starred_url\":\"https://api.github.com/users/PyGithub/starred\u001b[0m\u001b[32m{\u001b[0m\u001b[32m/owner\u001b[0m\u001b[32m}\u001b[0m\u001b[32m{\u001b[0m\u001b[32m/repo\u001b[0m\u001b[32m}\u001b[0m\u001b[32m\",\"subscriptions_url\":\"https://api.github.com/users/PyGithub/subscriptions\",\"organizations_url\":\"https://api.github.com/users/PyGithub/orgs\",\"repos_url\":\"https://api.github.com/users/PyGithub/repos\",\"events_url\":\"https://api.github.com/users/PyGithub/events\u001b[0m\u001b[32m{\u001b[0m\u001b[32m/privacy\u001b[0m\u001b[32m}\u001b[0m\u001b[32m\",\"received_events_url\":\"https://api.github.com/users/PyGithub/received_events\",\"type\":\"Organization\",\"site_admin\":false\u001b[0m\u001b[32m}\u001b[0m\u001b[32m,\"network_count\":1577,\"subscribers_count\":114\u001b[0m\u001b[32m}\u001b[0m\u001b[32m'\u001b[0m,\n",
       "    \u001b[33m_next\u001b[0m=\u001b[3;35mNone\u001b[0m,\n",
       "    \u001b[33mcookies\u001b[0m=\u001b[1m<\u001b[0m\u001b[1;95mRequestsCookieJar\u001b[0m\u001b[1;39m[\u001b[0m\u001b[1;39m]\u001b[0m\u001b[39m>,\u001b[0m\n",
       "\u001b[39m    \u001b[0m\u001b[33mcreated_at\u001b[0m\u001b[39m=\u001b[0m\u001b[1;35mdatetime\u001b[0m\u001b[1;35m.datetime\u001b[0m\u001b[1;39m(\u001b[0m\u001b[1;36m2023\u001b[0m\u001b[39m, \u001b[0m\u001b[1;36m1\u001b[0m\u001b[39m, \u001b[0m\u001b[1;36m6\u001b[0m\u001b[39m, \u001b[0m\u001b[1;36m5\u001b[0m\u001b[39m, \u001b[0m\u001b[1;36m7\u001b[0m\u001b[39m, \u001b[0m\u001b[1;36m27\u001b[0m\u001b[39m, \u001b[0m\u001b[1;36m364288\u001b[0m\u001b[1;39m)\u001b[0m\u001b[39m,\u001b[0m\n",
       "\u001b[39m    \u001b[0m\u001b[33melapsed\u001b[0m\u001b[39m=\u001b[0m\u001b[1;35mdatetime\u001b[0m\u001b[1;35m.timedelta\u001b[0m\u001b[1;39m(\u001b[0m\u001b[33mseconds\u001b[0m\u001b[39m=\u001b[0m\u001b[1;36m5\u001b[0m\u001b[39m, \u001b[0m\u001b[33mmicroseconds\u001b[0m\u001b[39m=\u001b[0m\u001b[1;36m534267\u001b[0m\u001b[1;39m)\u001b[0m\u001b[39m,\u001b[0m\n",
       "\u001b[39m    \u001b[0m\u001b[33mencoding\u001b[0m\u001b[39m=\u001b[0m\u001b[32m'utf-8'\u001b[0m\u001b[39m,\u001b[0m\n",
       "\u001b[39m    \u001b[0m\u001b[33mexpires\u001b[0m\u001b[39m=\u001b[0m\u001b[1;35mdatetime\u001b[0m\u001b[1;35m.datetime\u001b[0m\u001b[1;39m(\u001b[0m\u001b[1;36m2023\u001b[0m\u001b[39m, \u001b[0m\u001b[1;36m1\u001b[0m\u001b[39m, \u001b[0m\u001b[1;36m13\u001b[0m\u001b[39m, \u001b[0m\u001b[1;36m5\u001b[0m\u001b[39m, \u001b[0m\u001b[1;36m7\u001b[0m\u001b[39m, \u001b[0m\u001b[1;36m27\u001b[0m\u001b[39m, \u001b[0m\u001b[1;36m364267\u001b[0m\u001b[1;39m)\u001b[0m\u001b[39m,\u001b[0m\n",
       "\u001b[39m    \u001b[0m\u001b[33mheaders\u001b[0m\u001b[39m=\u001b[0m\u001b[1;39m{\u001b[0m\u001b[32m'Server'\u001b[0m\u001b[39m: \u001b[0m\u001b[32m'GitHub.com'\u001b[0m\u001b[39m, \u001b[0m\u001b[32m'Date'\u001b[0m\u001b[39m: \u001b[0m\u001b[32m'Fri, 06 Jan 2023 05:07:27 GMT'\u001b[0m\u001b[39m, \u001b[0m\u001b[32m'Content-Type'\u001b[0m\u001b[39m: \u001b[0m\u001b[32m'application/json; \u001b[0m\u001b[32mcharset\u001b[0m\u001b[32m=\u001b[0m\u001b[32mutf\u001b[0m\u001b[32m-8'\u001b[0m\u001b[39m, \u001b[0m\u001b[32m'Transfer-Encoding'\u001b[0m\u001b[39m: \u001b[0m\u001b[32m'chunked'\u001b[0m\u001b[39m, \u001b[0m\u001b[32m'Cache-Control'\u001b[0m\u001b[39m: \u001b[0m\u001b[32m'private, max-\u001b[0m\u001b[32mage\u001b[0m\u001b[32m=\u001b[0m\u001b[32m60\u001b[0m\u001b[32m, s-\u001b[0m\u001b[32mmaxage\u001b[0m\u001b[32m=\u001b[0m\u001b[32m60\u001b[0m\u001b[32m'\u001b[0m\u001b[39m, \u001b[0m\u001b[32m'Vary'\u001b[0m\u001b[39m: \u001b[0m\u001b[32m'Accept, Authorization, Cookie, X-GitHub-OTP, Accept-Encoding, Accept, X-Requested-With'\u001b[0m\u001b[39m, \u001b[0m\u001b[32m'ETag'\u001b[0m\u001b[39m: \u001b[0m\u001b[32m'W/\"a1f02865cfc4f473e504297680d3eec173fdf932a77c4c1bfe4b2f3c351b07a5\"'\u001b[0m\u001b[39m, \u001b[0m\u001b[32m'Last-Modified'\u001b[0m\u001b[39m: \u001b[0m\u001b[32m'Thu, 05 Jan 2023 23:37:33 GMT'\u001b[0m\u001b[39m, \u001b[0m\u001b[32m'X-OAuth-Scopes'\u001b[0m\u001b[39m: \u001b[0m\u001b[32m''\u001b[0m\u001b[39m, \u001b[0m\u001b[32m'X-Accepted-OAuth-Scopes'\u001b[0m\u001b[39m: \u001b[0m\u001b[32m'repo'\u001b[0m\u001b[39m, \u001b[0m\u001b[32m'github-authentication-token-expiration'\u001b[0m\u001b[39m: \u001b[0m\u001b[32m'2023-02-05 04:58:12 UTC'\u001b[0m\u001b[39m, \u001b[0m\u001b[32m'X-GitHub-Media-Type'\u001b[0m\u001b[39m: \u001b[0m\u001b[32m'github.v3; \u001b[0m\u001b[32mformat\u001b[0m\u001b[32m=\u001b[0m\u001b[32mjson\u001b[0m\u001b[32m'\u001b[0m\u001b[39m, \u001b[0m\u001b[32m'x-github-api-version-selected'\u001b[0m\u001b[39m: \u001b[0m\u001b[32m'2022-11-28'\u001b[0m\u001b[39m, \u001b[0m\u001b[32m'X-RateLimit-Limit'\u001b[0m\u001b[39m: \u001b[0m\u001b[32m'5000'\u001b[0m\u001b[39m, \u001b[0m\u001b[32m'X-RateLimit-Remaining'\u001b[0m\u001b[39m: \u001b[0m\u001b[32m'4940'\u001b[0m\u001b[39m, \u001b[0m\u001b[32m'X-RateLimit-Reset'\u001b[0m\u001b[39m: \u001b[0m\u001b[32m'1672983203'\u001b[0m\u001b[39m, \u001b[0m\u001b[32m'X-RateLimit-Used'\u001b[0m\u001b[39m: \u001b[0m\u001b[32m'60'\u001b[0m\u001b[39m, \u001b[0m\u001b[32m'X-RateLimit-Resource'\u001b[0m\u001b[39m: \u001b[0m\u001b[32m'core'\u001b[0m\u001b[39m, \u001b[0m\u001b[32m'Access-Control-Expose-Headers'\u001b[0m\u001b[39m: \u001b[0m\u001b[32m'ETag, Link, Location, Retry-After, X-GitHub-OTP, X-RateLimit-Limit, X-RateLimit-Remaining, X-RateLimit-Used, X-RateLimit-Resource, X-RateLimit-Reset, X-OAuth-Scopes, X-Accepted-OAuth-Scopes, X-Poll-Interval, X-GitHub-Media-Type, X-GitHub-SSO, X-GitHub-Request-Id, Deprecation, Sunset'\u001b[0m\u001b[39m, \u001b[0m\u001b[32m'Access-Control-Allow-Origin'\u001b[0m\u001b[39m: \u001b[0m\u001b[32m'*'\u001b[0m\u001b[39m, \u001b[0m\u001b[32m'Strict-Transport-Security'\u001b[0m\u001b[39m: \u001b[0m\u001b[32m'max-\u001b[0m\u001b[32mage\u001b[0m\u001b[32m=\u001b[0m\u001b[32m31536000\u001b[0m\u001b[32m; includeSubdomains; preload'\u001b[0m\u001b[39m, \u001b[0m\u001b[32m'X-Frame-Options'\u001b[0m\u001b[39m: \u001b[0m\u001b[32m'deny'\u001b[0m\u001b[39m, \u001b[0m\u001b[32m'X-Content-Type-Options'\u001b[0m\u001b[39m: \u001b[0m\u001b[32m'nosniff'\u001b[0m\u001b[39m, \u001b[0m\u001b[32m'X-XSS-Protection'\u001b[0m\u001b[39m: \u001b[0m\u001b[32m'0'\u001b[0m\u001b[39m, \u001b[0m\u001b[32m'Referrer-Policy'\u001b[0m\u001b[39m: \u001b[0m\u001b[32m'origin-when-cross-origin, strict-origin-when-cross-origin'\u001b[0m\u001b[39m, \u001b[0m\u001b[32m'Content-Security-Policy'\u001b[0m\u001b[39m: \u001b[0m\u001b[32m\"default-src 'none'\"\u001b[0m\u001b[39m, \u001b[0m\u001b[32m'Content-Encoding'\u001b[0m\u001b[39m: \u001b[0m\u001b[32m'gzip'\u001b[0m\u001b[39m, \u001b[0m\u001b[32m'X-GitHub-Request-Id'\u001b[0m\u001b[39m: \u001b[0m\u001b[32m'E677:513C:4C34AA3:9BF6A07:63B7AC8F'\u001b[0m\u001b[1;39m}\u001b[0m\u001b[39m,\u001b[0m\n",
       "\u001b[39m    \u001b[0m\u001b[33mhistory\u001b[0m\u001b[39m=\u001b[0m\u001b[1;39m[\u001b[0m\u001b[1;39m]\u001b[0m\u001b[39m,\u001b[0m\n",
       "\u001b[39m    \u001b[0m\u001b[33mreason\u001b[0m\u001b[39m=\u001b[0m\u001b[32m'OK'\u001b[0m\u001b[39m,\u001b[0m\n",
       "\u001b[39m    \u001b[0m\u001b[33mrequest\u001b[0m\u001b[39m=\u001b[0m\u001b[1;35mCachedRequest\u001b[0m\u001b[1;39m(\u001b[0m\n",
       "\u001b[39m        \u001b[0m\u001b[33mbody\u001b[0m\u001b[39m=\u001b[0m\u001b[32mb\u001b[0m\u001b[32m'None'\u001b[0m\u001b[39m,\u001b[0m\n",
       "\u001b[39m        \u001b[0m\u001b[33mcookies\u001b[0m\u001b[39m=<RequestsCookieJar\u001b[0m\u001b[1;39m[\u001b[0m\u001b[1;39m]\u001b[0m\u001b[1m>\u001b[0m,\n",
       "        \u001b[33mheaders\u001b[0m=\u001b[1m{\u001b[0m\u001b[32m'Accept'\u001b[0m: \u001b[32m'application/vnd.github+json'\u001b[0m, \u001b[32m'Accept-Encoding'\u001b[0m: \u001b[32m'gzip, deflate'\u001b[0m, \u001b[32m'Connection'\u001b[0m: \u001b[32m'keep-alive'\u001b[0m, \u001b[32m'User-Agent'\u001b[0m: \u001b[32m'python-requests/2.28.1'\u001b[0m, \u001b[32m'X-GitHub-Api-Version'\u001b[0m: \u001b[32m'2022-11-28'\u001b[0m\u001b[1m}\u001b[0m,\n",
       "        \u001b[33mmethod\u001b[0m=\u001b[32m'GET'\u001b[0m,\n",
       "        \u001b[33murl\u001b[0m=\u001b[32m'https://api.github.com/repos/PyGithub/PyGithub'\u001b[0m\n",
       "    \u001b[1m)\u001b[0m,\n",
       "    \u001b[33mstatus_code\u001b[0m=\u001b[1;36m200\u001b[0m,\n",
       "    \u001b[33murl\u001b[0m=\u001b[32m'https://api.github.com/repos/PyGithub/PyGithub'\u001b[0m\n",
       "\u001b[1m)\u001b[0m\n"
      ]
     },
     "metadata": {},
     "output_type": "display_data"
    }
   ],
   "source": [
    "res"
   ]
  },
  {
   "cell_type": "code",
   "execution_count": 54,
   "id": "472ef79c-992d-4f06-9e7b-c2c66e417fcd",
   "metadata": {
    "execution": {
     "iopub.execute_input": "2023-01-06T05:23:57.192197Z",
     "iopub.status.busy": "2023-01-06T05:23:57.192007Z",
     "iopub.status.idle": "2023-01-06T05:23:57.197521Z",
     "shell.execute_reply": "2023-01-06T05:23:57.197011Z",
     "shell.execute_reply.started": "2023-01-06T05:23:57.192185Z"
    },
    "tags": []
   },
   "outputs": [
    {
     "data": {
      "text/html": [
       "<pre style=\"white-space:pre;overflow-x:auto;line-height:normal;font-family:Menlo,'DejaVu Sans Mono',consolas,'Courier New',monospace\">\n",
       "<span style=\"font-weight: bold\">{</span>\n",
       "    <span style=\"color: #008000; text-decoration-color: #008000\">'X-OAuth-Scopes'</span>: <span style=\"color: #008000; text-decoration-color: #008000\">''</span>,\n",
       "    <span style=\"color: #008000; text-decoration-color: #008000\">'X-Accepted-OAuth-Scopes'</span>: <span style=\"color: #008000; text-decoration-color: #008000\">'repo'</span>,\n",
       "    <span style=\"color: #008000; text-decoration-color: #008000\">'X-GitHub-Media-Type'</span>: <span style=\"color: #008000; text-decoration-color: #008000\">'github.v3; format=json'</span>,\n",
       "    <span style=\"color: #008000; text-decoration-color: #008000\">'X-RateLimit-Limit'</span>: <span style=\"color: #008000; text-decoration-color: #008000\">'5000'</span>,\n",
       "    <span style=\"color: #008000; text-decoration-color: #008000\">'X-RateLimit-Remaining'</span>: <span style=\"color: #008000; text-decoration-color: #008000\">'4940'</span>,\n",
       "    <span style=\"color: #008000; text-decoration-color: #008000\">'X-RateLimit-Reset'</span>: <span style=\"color: #008000; text-decoration-color: #008000\">'1672983203'</span>,\n",
       "    <span style=\"color: #008000; text-decoration-color: #008000\">'X-RateLimit-Used'</span>: <span style=\"color: #008000; text-decoration-color: #008000\">'60'</span>,\n",
       "    <span style=\"color: #008000; text-decoration-color: #008000\">'X-RateLimit-Resource'</span>: <span style=\"color: #008000; text-decoration-color: #008000\">'core'</span>,\n",
       "    <span style=\"color: #008000; text-decoration-color: #008000\">'X-Frame-Options'</span>: <span style=\"color: #008000; text-decoration-color: #008000\">'deny'</span>,\n",
       "    <span style=\"color: #008000; text-decoration-color: #008000\">'X-Content-Type-Options'</span>: <span style=\"color: #008000; text-decoration-color: #008000\">'nosniff'</span>,\n",
       "    <span style=\"color: #008000; text-decoration-color: #008000\">'X-XSS-Protection'</span>: <span style=\"color: #008000; text-decoration-color: #008000\">'0'</span>,\n",
       "    <span style=\"color: #008000; text-decoration-color: #008000\">'X-GitHub-Request-Id'</span>: <span style=\"color: #008000; text-decoration-color: #008000\">'E677:513C:4C34AA3:9BF6A07:63B7AC8F'</span>\n",
       "<span style=\"font-weight: bold\">}</span>\n",
       "</pre>\n"
      ],
      "text/plain": [
       "\n",
       "\u001b[1m{\u001b[0m\n",
       "    \u001b[32m'X-OAuth-Scopes'\u001b[0m: \u001b[32m''\u001b[0m,\n",
       "    \u001b[32m'X-Accepted-OAuth-Scopes'\u001b[0m: \u001b[32m'repo'\u001b[0m,\n",
       "    \u001b[32m'X-GitHub-Media-Type'\u001b[0m: \u001b[32m'github.v3; \u001b[0m\u001b[32mformat\u001b[0m\u001b[32m=\u001b[0m\u001b[32mjson\u001b[0m\u001b[32m'\u001b[0m,\n",
       "    \u001b[32m'X-RateLimit-Limit'\u001b[0m: \u001b[32m'5000'\u001b[0m,\n",
       "    \u001b[32m'X-RateLimit-Remaining'\u001b[0m: \u001b[32m'4940'\u001b[0m,\n",
       "    \u001b[32m'X-RateLimit-Reset'\u001b[0m: \u001b[32m'1672983203'\u001b[0m,\n",
       "    \u001b[32m'X-RateLimit-Used'\u001b[0m: \u001b[32m'60'\u001b[0m,\n",
       "    \u001b[32m'X-RateLimit-Resource'\u001b[0m: \u001b[32m'core'\u001b[0m,\n",
       "    \u001b[32m'X-Frame-Options'\u001b[0m: \u001b[32m'deny'\u001b[0m,\n",
       "    \u001b[32m'X-Content-Type-Options'\u001b[0m: \u001b[32m'nosniff'\u001b[0m,\n",
       "    \u001b[32m'X-XSS-Protection'\u001b[0m: \u001b[32m'0'\u001b[0m,\n",
       "    \u001b[32m'X-GitHub-Request-Id'\u001b[0m: \u001b[32m'E677:513C:4C34AA3:9BF6A07:63B7AC8F'\u001b[0m\n",
       "\u001b[1m}\u001b[0m\n"
      ]
     },
     "metadata": {},
     "output_type": "display_data"
    }
   ],
   "source": [
    "# {k:v for k,v in res.headers.items() if k.startswith(\"X-Rate\")}\n",
    "{k:v for k,v in res.headers.items() if k.startswith(\"X-\")}"
   ]
  },
  {
   "cell_type": "code",
   "execution_count": 39,
   "id": "f7fd7806-b969-44a7-b53e-84c974865ab1",
   "metadata": {
    "execution": {
     "iopub.execute_input": "2023-01-06T05:14:33.703604Z",
     "iopub.status.busy": "2023-01-06T05:14:33.703438Z",
     "iopub.status.idle": "2023-01-06T05:14:33.708070Z",
     "shell.execute_reply": "2023-01-06T05:14:33.707589Z",
     "shell.execute_reply.started": "2023-01-06T05:14:33.703590Z"
    },
    "tags": []
   },
   "outputs": [
    {
     "data": {
      "text/html": [
       "<pre style=\"white-space:pre;overflow-x:auto;line-height:normal;font-family:Menlo,'DejaVu Sans Mono',consolas,'Courier New',monospace\"><span style=\"color: #800080; text-decoration-color: #800080; font-weight: bold\">datetime.datetime</span><span style=\"font-weight: bold\">(</span><span style=\"color: #008080; text-decoration-color: #008080; font-weight: bold\">2023</span>, <span style=\"color: #008080; text-decoration-color: #008080; font-weight: bold\">1</span>, <span style=\"color: #008080; text-decoration-color: #008080; font-weight: bold\">6</span>, <span style=\"color: #008080; text-decoration-color: #008080; font-weight: bold\">0</span>, <span style=\"color: #008080; text-decoration-color: #008080; font-weight: bold\">33</span>, <span style=\"color: #008080; text-decoration-color: #008080; font-weight: bold\">23</span><span style=\"font-weight: bold\">)</span>\n",
       "</pre>\n"
      ],
      "text/plain": [
       "\u001b[1;35mdatetime.datetime\u001b[0m\u001b[1m(\u001b[0m\u001b[1;36m2023\u001b[0m, \u001b[1;36m1\u001b[0m, \u001b[1;36m6\u001b[0m, \u001b[1;36m0\u001b[0m, \u001b[1;36m33\u001b[0m, \u001b[1;36m23\u001b[0m\u001b[1m)\u001b[0m\n"
      ]
     },
     "metadata": {},
     "output_type": "display_data"
    }
   ],
   "source": [
    "import datetime\n",
    "\n",
    "datetime.datetime.fromtimestamp(1672983203)"
   ]
  },
  {
   "cell_type": "code",
   "execution_count": null,
   "id": "43dc8d27-1d70-407c-a09f-899a1cb03c50",
   "metadata": {},
   "outputs": [],
   "source": []
  },
  {
   "cell_type": "code",
   "execution_count": null,
   "id": "4594e3ac-b058-4f37-a9d3-3984f7c2409a",
   "metadata": {},
   "outputs": [],
   "source": []
  },
  {
   "cell_type": "code",
   "execution_count": null,
   "id": "020421d8-17a7-4be8-87ad-32770cf95a5a",
   "metadata": {},
   "outputs": [],
   "source": []
  },
  {
   "cell_type": "code",
   "execution_count": null,
   "id": "c1968c05-ea4c-484f-ada2-f1bc08345a17",
   "metadata": {},
   "outputs": [],
   "source": []
  },
  {
   "cell_type": "code",
   "execution_count": null,
   "id": "11507c99-26f9-479e-ace8-42ff57e8887e",
   "metadata": {},
   "outputs": [],
   "source": []
  },
  {
   "cell_type": "code",
   "execution_count": null,
   "id": "d2ebfd61-153c-46d3-83a2-cd10faa6530f",
   "metadata": {},
   "outputs": [],
   "source": []
  }
 ],
 "metadata": {
  "kernelspec": {
   "display_name": "Python 3 (ipykernel)",
   "language": "python",
   "name": "python3"
  },
  "language_info": {
   "codemirror_mode": {
    "name": "ipython",
    "version": 3
   },
   "file_extension": ".py",
   "mimetype": "text/x-python",
   "name": "python",
   "nbconvert_exporter": "python",
   "pygments_lexer": "ipython3",
   "version": "3.11.0b3"
  }
 },
 "nbformat": 4,
 "nbformat_minor": 5
}
